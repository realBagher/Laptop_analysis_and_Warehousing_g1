{
 "cells": [
  {
   "cell_type": "code",
   "execution_count": 12,
   "id": "initial_id",
   "metadata": {
    "collapsed": true,
    "ExecuteTime": {
     "end_time": "2023-10-20T17:46:28.669599Z",
     "start_time": "2023-10-20T17:46:28.598700Z"
    }
   },
   "outputs": [],
   "source": [
    "import numpy as np\n",
    "import pandas as pd\n",
    "import csv\n",
    "import mysql.connector\n",
    "import mysql\n",
    "from mysql.connector import Error"
   ]
  },
  {
   "cell_type": "markdown",
   "source": [
    "## Create connection to database"
   ],
   "metadata": {
    "collapsed": false
   },
   "id": "829e0bc5d46c83e3"
  },
  {
   "cell_type": "code",
   "execution_count": 13,
   "outputs": [],
   "source": [
    "def create_connection(host, user, password, database):\n",
    "    try:\n",
    "        connection = mysql.connector.connect(\n",
    "            host=host,\n",
    "            user=user,\n",
    "            password=password,\n",
    "            database=database\n",
    "        )\n",
    "        if connection.is_connected():\n",
    "            print(f'Connected to MySQL database: {database}')\n",
    "            return connection\n",
    "    except Error as e:\n",
    "        print(f'Error: {e}')\n",
    "        return None"
   ],
   "metadata": {
    "collapsed": false,
    "ExecuteTime": {
     "end_time": "2023-10-20T17:46:29.517469Z",
     "start_time": "2023-10-20T17:46:29.504314Z"
    }
   },
   "id": "85a2452460c74431"
  },
  {
   "cell_type": "code",
   "execution_count": 14,
   "outputs": [],
   "source": [
    "db_host = 'localhost'\n",
    "db_user = 'root'\n",
    "db_password = '@2081081381mH'\n",
    "db_name = 'lootech_db'"
   ],
   "metadata": {
    "collapsed": false,
    "ExecuteTime": {
     "end_time": "2023-10-20T17:46:29.774333Z",
     "start_time": "2023-10-20T17:46:29.745919Z"
    }
   },
   "id": "9020672491b99692"
  },
  {
   "cell_type": "code",
   "execution_count": 15,
   "outputs": [
    {
     "name": "stdout",
     "output_type": "stream",
     "text": [
      "Connected to MySQL database: lootech_db\n"
     ]
    }
   ],
   "source": [
    "connection = create_connection(db_host, db_user, db_password, db_name)\n",
    "cursor = connection.cursor()"
   ],
   "metadata": {
    "collapsed": false,
    "ExecuteTime": {
     "end_time": "2023-10-20T17:46:30.355318Z",
     "start_time": "2023-10-20T17:46:30.242389Z"
    }
   },
   "id": "8864be98d0ffa841"
  },
  {
   "cell_type": "code",
   "execution_count": 7,
   "outputs": [
    {
     "data": {
      "text/plain": "                          Storage\n0                       256GB SSD\n1                         1TB HDD\n2            512GB SSD +  1TB HDD\n3                       500GB HDD\n4                       512GB SSD\n5              64GB Flash Storage\n6            128GB SSD +  1TB HDD\n7                       128GB SSD\n8            256GB SSD +  2TB HDD\n9                         2TB HDD\n10            256GB Flash Storage\n11           256GB SSD +  1TB HDD\n12         256GB SSD +  256GB SSD\n13            128GB Flash Storage\n14                     1TB Hybrid\n15           128GB SSD +  2TB HDD\n16                       32GB SSD\n17             32GB Flash Storage\n18             16GB Flash Storage\n19         512GB SSD +  256GB SSD\n20         512GB SSD +  512GB SSD\n21                        1GB SSD\n22                      128GB HDD\n23         256GB SSD +  500GB HDD\n24           512GB SSD +  2TB HDD\n25            512GB Flash Storage\n26                   508GB Hybrid\n27        256GB SSD +  1TB Hybrid\n28                        1TB SSD\n29             1TB HDD +  1TB HDD\n30             1TB SSD +  1TB HDD\n31  64GB Flash Storage +  1TB HDD\n32                       16GB SSD\n33        512GB SSD +  1TB Hybrid\n34                       64GB SSD\n35                        8GB SSD\n36                       32GB HDD\n37                      240GB SSD",
      "text/html": "<div>\n<style scoped>\n    .dataframe tbody tr th:only-of-type {\n        vertical-align: middle;\n    }\n\n    .dataframe tbody tr th {\n        vertical-align: top;\n    }\n\n    .dataframe thead th {\n        text-align: right;\n    }\n</style>\n<table border=\"1\" class=\"dataframe\">\n  <thead>\n    <tr style=\"text-align: right;\">\n      <th></th>\n      <th>Storage</th>\n    </tr>\n  </thead>\n  <tbody>\n    <tr>\n      <th>0</th>\n      <td>256GB SSD</td>\n    </tr>\n    <tr>\n      <th>1</th>\n      <td>1TB HDD</td>\n    </tr>\n    <tr>\n      <th>2</th>\n      <td>512GB SSD +  1TB HDD</td>\n    </tr>\n    <tr>\n      <th>3</th>\n      <td>500GB HDD</td>\n    </tr>\n    <tr>\n      <th>4</th>\n      <td>512GB SSD</td>\n    </tr>\n    <tr>\n      <th>5</th>\n      <td>64GB Flash Storage</td>\n    </tr>\n    <tr>\n      <th>6</th>\n      <td>128GB SSD +  1TB HDD</td>\n    </tr>\n    <tr>\n      <th>7</th>\n      <td>128GB SSD</td>\n    </tr>\n    <tr>\n      <th>8</th>\n      <td>256GB SSD +  2TB HDD</td>\n    </tr>\n    <tr>\n      <th>9</th>\n      <td>2TB HDD</td>\n    </tr>\n    <tr>\n      <th>10</th>\n      <td>256GB Flash Storage</td>\n    </tr>\n    <tr>\n      <th>11</th>\n      <td>256GB SSD +  1TB HDD</td>\n    </tr>\n    <tr>\n      <th>12</th>\n      <td>256GB SSD +  256GB SSD</td>\n    </tr>\n    <tr>\n      <th>13</th>\n      <td>128GB Flash Storage</td>\n    </tr>\n    <tr>\n      <th>14</th>\n      <td>1TB Hybrid</td>\n    </tr>\n    <tr>\n      <th>15</th>\n      <td>128GB SSD +  2TB HDD</td>\n    </tr>\n    <tr>\n      <th>16</th>\n      <td>32GB SSD</td>\n    </tr>\n    <tr>\n      <th>17</th>\n      <td>32GB Flash Storage</td>\n    </tr>\n    <tr>\n      <th>18</th>\n      <td>16GB Flash Storage</td>\n    </tr>\n    <tr>\n      <th>19</th>\n      <td>512GB SSD +  256GB SSD</td>\n    </tr>\n    <tr>\n      <th>20</th>\n      <td>512GB SSD +  512GB SSD</td>\n    </tr>\n    <tr>\n      <th>21</th>\n      <td>1GB SSD</td>\n    </tr>\n    <tr>\n      <th>22</th>\n      <td>128GB HDD</td>\n    </tr>\n    <tr>\n      <th>23</th>\n      <td>256GB SSD +  500GB HDD</td>\n    </tr>\n    <tr>\n      <th>24</th>\n      <td>512GB SSD +  2TB HDD</td>\n    </tr>\n    <tr>\n      <th>25</th>\n      <td>512GB Flash Storage</td>\n    </tr>\n    <tr>\n      <th>26</th>\n      <td>508GB Hybrid</td>\n    </tr>\n    <tr>\n      <th>27</th>\n      <td>256GB SSD +  1TB Hybrid</td>\n    </tr>\n    <tr>\n      <th>28</th>\n      <td>1TB SSD</td>\n    </tr>\n    <tr>\n      <th>29</th>\n      <td>1TB HDD +  1TB HDD</td>\n    </tr>\n    <tr>\n      <th>30</th>\n      <td>1TB SSD +  1TB HDD</td>\n    </tr>\n    <tr>\n      <th>31</th>\n      <td>64GB Flash Storage +  1TB HDD</td>\n    </tr>\n    <tr>\n      <th>32</th>\n      <td>16GB SSD</td>\n    </tr>\n    <tr>\n      <th>33</th>\n      <td>512GB SSD +  1TB Hybrid</td>\n    </tr>\n    <tr>\n      <th>34</th>\n      <td>64GB SSD</td>\n    </tr>\n    <tr>\n      <th>35</th>\n      <td>8GB SSD</td>\n    </tr>\n    <tr>\n      <th>36</th>\n      <td>32GB HDD</td>\n    </tr>\n    <tr>\n      <th>37</th>\n      <td>240GB SSD</td>\n    </tr>\n  </tbody>\n</table>\n</div>"
     },
     "execution_count": 7,
     "metadata": {},
     "output_type": "execute_result"
    }
   ],
   "source": [
    "df_storage = pd.read_csv('sales_data.csv', usecols=['Storage'])\n",
    "df_storage = df_storage.drop_duplicates()\n",
    "df_storage = df_storage.reset_index(drop=True)\n",
    "df_storage"
   ],
   "metadata": {
    "collapsed": false,
    "ExecuteTime": {
     "end_time": "2023-10-19T21:29:57.369413Z",
     "start_time": "2023-10-19T21:29:56.565137Z"
    }
   },
   "id": "626daacc510d18f7"
  },
  {
   "cell_type": "code",
   "execution_count": 8,
   "outputs": [],
   "source": [
    "table_name = 'storage'\n",
    "\n",
    "for _, row in df_storage.iterrows():\n",
    "    insert_query = f\"INSERT INTO {table_name} (storage_name) VALUES ('{row['Storage']}')\"\n",
    "    cursor.execute(insert_query)\n",
    "\n",
    "connection.commit()"
   ],
   "metadata": {
    "collapsed": false,
    "ExecuteTime": {
     "end_time": "2023-10-19T21:32:23.412593Z",
     "start_time": "2023-10-19T21:32:23.375490Z"
    }
   },
   "id": "b21bcacc12c3d657"
  },
  {
   "cell_type": "code",
   "execution_count": 9,
   "outputs": [
    {
     "data": {
      "text/plain": "                                Model_Name\n0                              Vostro 3568\n1                           Yoga 720-13IKB\n2                       IdeaPad Y700-15ISK\n3                            Inspiron 5370\n4                           Aspire E5-576G\n..                                     ...\n613         V110-15IAP (N3350/4GB/128GB/No\n614       V131 (X5-Z8350/4GB/32GB/FHD/W10)\n615         X541NA (N3350/4GB/1TB/FHD/W10)\n616                            GT73EVR 7RE\n617  15-bs018nq (i3-6006U/4GB/500GB/FHD/No\n\n[618 rows x 1 columns]",
      "text/html": "<div>\n<style scoped>\n    .dataframe tbody tr th:only-of-type {\n        vertical-align: middle;\n    }\n\n    .dataframe tbody tr th {\n        vertical-align: top;\n    }\n\n    .dataframe thead th {\n        text-align: right;\n    }\n</style>\n<table border=\"1\" class=\"dataframe\">\n  <thead>\n    <tr style=\"text-align: right;\">\n      <th></th>\n      <th>Model_Name</th>\n    </tr>\n  </thead>\n  <tbody>\n    <tr>\n      <th>0</th>\n      <td>Vostro 3568</td>\n    </tr>\n    <tr>\n      <th>1</th>\n      <td>Yoga 720-13IKB</td>\n    </tr>\n    <tr>\n      <th>2</th>\n      <td>IdeaPad Y700-15ISK</td>\n    </tr>\n    <tr>\n      <th>3</th>\n      <td>Inspiron 5370</td>\n    </tr>\n    <tr>\n      <th>4</th>\n      <td>Aspire E5-576G</td>\n    </tr>\n    <tr>\n      <th>...</th>\n      <td>...</td>\n    </tr>\n    <tr>\n      <th>613</th>\n      <td>V110-15IAP (N3350/4GB/128GB/No</td>\n    </tr>\n    <tr>\n      <th>614</th>\n      <td>V131 (X5-Z8350/4GB/32GB/FHD/W10)</td>\n    </tr>\n    <tr>\n      <th>615</th>\n      <td>X541NA (N3350/4GB/1TB/FHD/W10)</td>\n    </tr>\n    <tr>\n      <th>616</th>\n      <td>GT73EVR 7RE</td>\n    </tr>\n    <tr>\n      <th>617</th>\n      <td>15-bs018nq (i3-6006U/4GB/500GB/FHD/No</td>\n    </tr>\n  </tbody>\n</table>\n<p>618 rows × 1 columns</p>\n</div>"
     },
     "execution_count": 9,
     "metadata": {},
     "output_type": "execute_result"
    }
   ],
   "source": [
    "df_model = pd.read_csv('sales_data.csv', usecols=['Model_Name'])\n",
    "df_model = df_model.drop_duplicates()\n",
    "df_model = df_model.reset_index(drop=True)\n",
    "df_model"
   ],
   "metadata": {
    "collapsed": false,
    "ExecuteTime": {
     "end_time": "2023-10-19T21:51:38.019370Z",
     "start_time": "2023-10-19T21:51:36.888013Z"
    }
   },
   "id": "db5147c9cf88f4c4"
  },
  {
   "cell_type": "code",
   "execution_count": 10,
   "outputs": [],
   "source": [
    "table_name = 'model'\n",
    "\n",
    "for _, row in df_model.iterrows():\n",
    "    insert_query = f\"INSERT INTO {table_name} (model_name) VALUES ('{row['Model_Name']}')\"\n",
    "    cursor.execute(insert_query)\n",
    "    \n",
    "connection.commit()"
   ],
   "metadata": {
    "collapsed": false,
    "ExecuteTime": {
     "end_time": "2023-10-19T21:53:13.193488Z",
     "start_time": "2023-10-19T21:53:12.950653Z"
    }
   },
   "id": "8df5360427766427"
  },
  {
   "cell_type": "code",
   "execution_count": 11,
   "outputs": [
    {
     "data": {
      "text/plain": "                                      CPU\n0              Intel Core i5 7200U 2.5GHz\n1             Intel Core i7 6700HQ 2.6GHz\n2              Intel Core i7 8550U 1.8GHz\n3                     AMD FX 8800P 2.1GHz\n4              Intel Core i7 7500U 2.7GHz\n..                                    ...\n113             AMD A4-Series 7210 2.2GHz\n114              Intel Atom Z8350 1.92GHz\n115              AMD E-Series 9000 2.2GHz\n116         Intel Xeon E3-1535M v6 3.1GHz\n117  Intel Celeron Dual Core N3350 2.0GHz\n\n[118 rows x 1 columns]",
      "text/html": "<div>\n<style scoped>\n    .dataframe tbody tr th:only-of-type {\n        vertical-align: middle;\n    }\n\n    .dataframe tbody tr th {\n        vertical-align: top;\n    }\n\n    .dataframe thead th {\n        text-align: right;\n    }\n</style>\n<table border=\"1\" class=\"dataframe\">\n  <thead>\n    <tr style=\"text-align: right;\">\n      <th></th>\n      <th>CPU</th>\n    </tr>\n  </thead>\n  <tbody>\n    <tr>\n      <th>0</th>\n      <td>Intel Core i5 7200U 2.5GHz</td>\n    </tr>\n    <tr>\n      <th>1</th>\n      <td>Intel Core i7 6700HQ 2.6GHz</td>\n    </tr>\n    <tr>\n      <th>2</th>\n      <td>Intel Core i7 8550U 1.8GHz</td>\n    </tr>\n    <tr>\n      <th>3</th>\n      <td>AMD FX 8800P 2.1GHz</td>\n    </tr>\n    <tr>\n      <th>4</th>\n      <td>Intel Core i7 7500U 2.7GHz</td>\n    </tr>\n    <tr>\n      <th>...</th>\n      <td>...</td>\n    </tr>\n    <tr>\n      <th>113</th>\n      <td>AMD A4-Series 7210 2.2GHz</td>\n    </tr>\n    <tr>\n      <th>114</th>\n      <td>Intel Atom Z8350 1.92GHz</td>\n    </tr>\n    <tr>\n      <th>115</th>\n      <td>AMD E-Series 9000 2.2GHz</td>\n    </tr>\n    <tr>\n      <th>116</th>\n      <td>Intel Xeon E3-1535M v6 3.1GHz</td>\n    </tr>\n    <tr>\n      <th>117</th>\n      <td>Intel Celeron Dual Core N3350 2.0GHz</td>\n    </tr>\n  </tbody>\n</table>\n<p>118 rows × 1 columns</p>\n</div>"
     },
     "execution_count": 11,
     "metadata": {},
     "output_type": "execute_result"
    }
   ],
   "source": [
    "df_cpu = pd.read_csv('sales_data.csv', usecols=['CPU'])\n",
    "df_cpu = df_cpu.drop_duplicates()\n",
    "df_cpu = df_cpu.reset_index(drop=True)\n",
    "df_cpu"
   ],
   "metadata": {
    "collapsed": false,
    "ExecuteTime": {
     "end_time": "2023-10-20T12:25:28.809384Z",
     "start_time": "2023-10-20T12:25:27.468622Z"
    }
   },
   "id": "e1abcdad841d0119"
  },
  {
   "cell_type": "code",
   "execution_count": 16,
   "outputs": [],
   "source": [
    "table_name = 'cpu'\n",
    "\n",
    "for _, row in df_cpu.iterrows():\n",
    "    insert_query = f\"INSERT INTO {table_name} (cpu_name) VALUES ('{row['CPU']}')\"\n",
    "    cursor.execute(insert_query)\n",
    "    \n",
    "connection.commit()"
   ],
   "metadata": {
    "collapsed": false,
    "ExecuteTime": {
     "end_time": "2023-10-20T12:27:18.720628Z",
     "start_time": "2023-10-20T12:27:18.580919Z"
    }
   },
   "id": "6fd899a3141c4912"
  },
  {
   "cell_type": "code",
   "execution_count": 17,
   "outputs": [
    {
     "data": {
      "text/plain": "                         GPU\n0         AMD Radeon R5 M420\n1      Intel HD Graphics 620\n2    Nvidia GeForce GTX 960M\n3             AMD Radeon 530\n4       Nvidia GeForce 940MX\n..                       ...\n105       Nvidia GTX 980 SLI\n106  Intel Iris Graphics 550\n107            AMD Radeon R3\n108   Nvidia GeForce GTX1080\n109      Nvidia GeForce 960M\n\n[110 rows x 1 columns]",
      "text/html": "<div>\n<style scoped>\n    .dataframe tbody tr th:only-of-type {\n        vertical-align: middle;\n    }\n\n    .dataframe tbody tr th {\n        vertical-align: top;\n    }\n\n    .dataframe thead th {\n        text-align: right;\n    }\n</style>\n<table border=\"1\" class=\"dataframe\">\n  <thead>\n    <tr style=\"text-align: right;\">\n      <th></th>\n      <th>GPU</th>\n    </tr>\n  </thead>\n  <tbody>\n    <tr>\n      <th>0</th>\n      <td>AMD Radeon R5 M420</td>\n    </tr>\n    <tr>\n      <th>1</th>\n      <td>Intel HD Graphics 620</td>\n    </tr>\n    <tr>\n      <th>2</th>\n      <td>Nvidia GeForce GTX 960M</td>\n    </tr>\n    <tr>\n      <th>3</th>\n      <td>AMD Radeon 530</td>\n    </tr>\n    <tr>\n      <th>4</th>\n      <td>Nvidia GeForce 940MX</td>\n    </tr>\n    <tr>\n      <th>...</th>\n      <td>...</td>\n    </tr>\n    <tr>\n      <th>105</th>\n      <td>Nvidia GTX 980 SLI</td>\n    </tr>\n    <tr>\n      <th>106</th>\n      <td>Intel Iris Graphics 550</td>\n    </tr>\n    <tr>\n      <th>107</th>\n      <td>AMD Radeon R3</td>\n    </tr>\n    <tr>\n      <th>108</th>\n      <td>Nvidia GeForce GTX1080</td>\n    </tr>\n    <tr>\n      <th>109</th>\n      <td>Nvidia GeForce 960M</td>\n    </tr>\n  </tbody>\n</table>\n<p>110 rows × 1 columns</p>\n</div>"
     },
     "execution_count": 17,
     "metadata": {},
     "output_type": "execute_result"
    }
   ],
   "source": [
    "df_gpu = pd.read_csv('sales_data.csv', usecols=['GPU'])\n",
    "df_gpu = df_gpu.drop_duplicates()\n",
    "df_gpu = df_gpu.reset_index(drop=True)\n",
    "df_gpu"
   ],
   "metadata": {
    "collapsed": false,
    "ExecuteTime": {
     "end_time": "2023-10-20T12:27:58.883744Z",
     "start_time": "2023-10-20T12:27:57.722381Z"
    }
   },
   "id": "ed8b5fb7afdecdb2"
  },
  {
   "cell_type": "code",
   "execution_count": 18,
   "outputs": [],
   "source": [
    "table_name = 'gpu'\n",
    "\n",
    "for _, row in df_gpu.iterrows():\n",
    "    insert_query = f\"INSERT INTO {table_name} (gpu_name) VALUES ('{row['GPU']}')\"\n",
    "    cursor.execute(insert_query)\n",
    "    \n",
    "connection.commit()"
   ],
   "metadata": {
    "collapsed": false,
    "ExecuteTime": {
     "end_time": "2023-10-20T12:28:25.115300Z",
     "start_time": "2023-10-20T12:28:24.919380Z"
    }
   },
   "id": "386bafc21ae8d42a"
  },
  {
   "cell_type": "code",
   "execution_count": 19,
   "outputs": [
    {
     "data": {
      "text/plain": "             Category\n0            Notebook\n1  2 in 1 Convertible\n2           Ultrabook\n3              Gaming\n4         Workstation\n5             Netbook",
      "text/html": "<div>\n<style scoped>\n    .dataframe tbody tr th:only-of-type {\n        vertical-align: middle;\n    }\n\n    .dataframe tbody tr th {\n        vertical-align: top;\n    }\n\n    .dataframe thead th {\n        text-align: right;\n    }\n</style>\n<table border=\"1\" class=\"dataframe\">\n  <thead>\n    <tr style=\"text-align: right;\">\n      <th></th>\n      <th>Category</th>\n    </tr>\n  </thead>\n  <tbody>\n    <tr>\n      <th>0</th>\n      <td>Notebook</td>\n    </tr>\n    <tr>\n      <th>1</th>\n      <td>2 in 1 Convertible</td>\n    </tr>\n    <tr>\n      <th>2</th>\n      <td>Ultrabook</td>\n    </tr>\n    <tr>\n      <th>3</th>\n      <td>Gaming</td>\n    </tr>\n    <tr>\n      <th>4</th>\n      <td>Workstation</td>\n    </tr>\n    <tr>\n      <th>5</th>\n      <td>Netbook</td>\n    </tr>\n  </tbody>\n</table>\n</div>"
     },
     "execution_count": 19,
     "metadata": {},
     "output_type": "execute_result"
    }
   ],
   "source": [
    "df_category = pd.read_csv('sales_data.csv', usecols=['Category'])\n",
    "df_category = df_category.drop_duplicates()\n",
    "df_category = df_category.reset_index(drop=True)\n",
    "df_category"
   ],
   "metadata": {
    "collapsed": false,
    "ExecuteTime": {
     "end_time": "2023-10-20T12:29:13.597254Z",
     "start_time": "2023-10-20T12:29:12.468071Z"
    }
   },
   "id": "f08179b7fb23929a"
  },
  {
   "cell_type": "code",
   "execution_count": 20,
   "outputs": [],
   "source": [
    "table_name = 'category'\n",
    "\n",
    "for _, row in df_category.iterrows():\n",
    "    insert_query = f\"INSERT INTO {table_name} (category_name) VALUES ('{row['Category']}')\"\n",
    "    cursor.execute(insert_query)\n",
    "\n",
    "connection.commit()"
   ],
   "metadata": {
    "collapsed": false,
    "ExecuteTime": {
     "end_time": "2023-10-20T12:29:31.426820Z",
     "start_time": "2023-10-20T12:29:31.399564Z"
    }
   },
   "id": "cb10e7e3f43402a5"
  },
  {
   "cell_type": "code",
   "execution_count": 21,
   "outputs": [
    {
     "data": {
      "text/plain": "          OS\n0    Windows\n1  Chrome OS\n2      Linux\n3     Mac OS\n4      No OS\n5      macOS\n6    Android",
      "text/html": "<div>\n<style scoped>\n    .dataframe tbody tr th:only-of-type {\n        vertical-align: middle;\n    }\n\n    .dataframe tbody tr th {\n        vertical-align: top;\n    }\n\n    .dataframe thead th {\n        text-align: right;\n    }\n</style>\n<table border=\"1\" class=\"dataframe\">\n  <thead>\n    <tr style=\"text-align: right;\">\n      <th></th>\n      <th>OS</th>\n    </tr>\n  </thead>\n  <tbody>\n    <tr>\n      <th>0</th>\n      <td>Windows</td>\n    </tr>\n    <tr>\n      <th>1</th>\n      <td>Chrome OS</td>\n    </tr>\n    <tr>\n      <th>2</th>\n      <td>Linux</td>\n    </tr>\n    <tr>\n      <th>3</th>\n      <td>Mac OS</td>\n    </tr>\n    <tr>\n      <th>4</th>\n      <td>No OS</td>\n    </tr>\n    <tr>\n      <th>5</th>\n      <td>macOS</td>\n    </tr>\n    <tr>\n      <th>6</th>\n      <td>Android</td>\n    </tr>\n  </tbody>\n</table>\n</div>"
     },
     "execution_count": 21,
     "metadata": {},
     "output_type": "execute_result"
    }
   ],
   "source": [
    "df_os = pd.read_csv('sales_data.csv', usecols=['OS'])\n",
    "df_os = df_os.drop_duplicates()\n",
    "df_os = df_os.reset_index(drop=True)\n",
    "df_os"
   ],
   "metadata": {
    "collapsed": false,
    "ExecuteTime": {
     "end_time": "2023-10-20T12:29:50.561410Z",
     "start_time": "2023-10-20T12:29:49.415801Z"
    }
   },
   "id": "3ebe0ce47b0bf7a3"
  },
  {
   "cell_type": "code",
   "execution_count": 22,
   "outputs": [],
   "source": [
    "table_name = 'os'\n",
    "\n",
    "for _, row in df_os.iterrows():\n",
    "    insert_query = f\"INSERT INTO {table_name} (os_name) VALUES ('{row['OS']}')\"\n",
    "    cursor.execute(insert_query)\n",
    "\n",
    "connection.commit()"
   ],
   "metadata": {
    "collapsed": false,
    "ExecuteTime": {
     "end_time": "2023-10-20T12:30:07.385117Z",
     "start_time": "2023-10-20T12:30:07.356770Z"
    }
   },
   "id": "f3cf87e89e36f857"
  },
  {
   "cell_type": "code",
   "execution_count": 23,
   "outputs": [
    {
     "data": {
      "text/plain": "   Manufacturer\n0          Dell\n1        Lenovo\n2          Acer\n3            HP\n4       Fujitsu\n5          Asus\n6           MSI\n7       Toshiba\n8         Apple\n9       Samsung\n10       Huawei\n11    Microsoft\n12       Xiaomi\n13        Razer\n14     Mediacom\n15        Chuwi\n16       Google\n17           LG\n18         Vero",
      "text/html": "<div>\n<style scoped>\n    .dataframe tbody tr th:only-of-type {\n        vertical-align: middle;\n    }\n\n    .dataframe tbody tr th {\n        vertical-align: top;\n    }\n\n    .dataframe thead th {\n        text-align: right;\n    }\n</style>\n<table border=\"1\" class=\"dataframe\">\n  <thead>\n    <tr style=\"text-align: right;\">\n      <th></th>\n      <th>Manufacturer</th>\n    </tr>\n  </thead>\n  <tbody>\n    <tr>\n      <th>0</th>\n      <td>Dell</td>\n    </tr>\n    <tr>\n      <th>1</th>\n      <td>Lenovo</td>\n    </tr>\n    <tr>\n      <th>2</th>\n      <td>Acer</td>\n    </tr>\n    <tr>\n      <th>3</th>\n      <td>HP</td>\n    </tr>\n    <tr>\n      <th>4</th>\n      <td>Fujitsu</td>\n    </tr>\n    <tr>\n      <th>5</th>\n      <td>Asus</td>\n    </tr>\n    <tr>\n      <th>6</th>\n      <td>MSI</td>\n    </tr>\n    <tr>\n      <th>7</th>\n      <td>Toshiba</td>\n    </tr>\n    <tr>\n      <th>8</th>\n      <td>Apple</td>\n    </tr>\n    <tr>\n      <th>9</th>\n      <td>Samsung</td>\n    </tr>\n    <tr>\n      <th>10</th>\n      <td>Huawei</td>\n    </tr>\n    <tr>\n      <th>11</th>\n      <td>Microsoft</td>\n    </tr>\n    <tr>\n      <th>12</th>\n      <td>Xiaomi</td>\n    </tr>\n    <tr>\n      <th>13</th>\n      <td>Razer</td>\n    </tr>\n    <tr>\n      <th>14</th>\n      <td>Mediacom</td>\n    </tr>\n    <tr>\n      <th>15</th>\n      <td>Chuwi</td>\n    </tr>\n    <tr>\n      <th>16</th>\n      <td>Google</td>\n    </tr>\n    <tr>\n      <th>17</th>\n      <td>LG</td>\n    </tr>\n    <tr>\n      <th>18</th>\n      <td>Vero</td>\n    </tr>\n  </tbody>\n</table>\n</div>"
     },
     "execution_count": 23,
     "metadata": {},
     "output_type": "execute_result"
    }
   ],
   "source": [
    "df_manufacturer = pd.read_csv('sales_data.csv', usecols=['Manufacturer'])\n",
    "df_manufacturer = df_manufacturer.drop_duplicates()\n",
    "df_manufacturer = df_manufacturer.reset_index(drop=True)\n",
    "df_manufacturer"
   ],
   "metadata": {
    "collapsed": false,
    "ExecuteTime": {
     "end_time": "2023-10-20T12:31:27.282219Z",
     "start_time": "2023-10-20T12:31:26.025123Z"
    }
   },
   "id": "820acaa369208022"
  },
  {
   "cell_type": "code",
   "execution_count": 24,
   "outputs": [],
   "source": [
    "table_name = 'manufacturer'\n",
    "\n",
    "for _, row in df_manufacturer.iterrows():\n",
    "    insert_query = f\"INSERT INTO {table_name} (man_name) VALUES ('{row['Manufacturer']}')\"\n",
    "    cursor.execute(insert_query)\n",
    "\n",
    "connection.commit()"
   ],
   "metadata": {
    "collapsed": false,
    "ExecuteTime": {
     "end_time": "2023-10-20T12:31:50.871549Z",
     "start_time": "2023-10-20T12:31:50.834251Z"
    }
   },
   "id": "1d9ffdd52e9d1b3a"
  },
  {
   "cell_type": "code",
   "execution_count": 25,
   "outputs": [
    {
     "data": {
      "text/plain": "   Screen_Size\n0        15.6\"\n1        13.3\"\n2        14.0\"\n3        11.6\"\n4        17.3\"\n5        13.9\"\n6        12.0\"\n7        15.0\"\n8        13.0\"\n9        13.5\"\n10       12.5\"\n11       10.1\"\n12       15.4\"\n13       11.3\"\n14       12.3\"\n15       17.0\"\n16       18.4\"\n17       14.1\"",
      "text/html": "<div>\n<style scoped>\n    .dataframe tbody tr th:only-of-type {\n        vertical-align: middle;\n    }\n\n    .dataframe tbody tr th {\n        vertical-align: top;\n    }\n\n    .dataframe thead th {\n        text-align: right;\n    }\n</style>\n<table border=\"1\" class=\"dataframe\">\n  <thead>\n    <tr style=\"text-align: right;\">\n      <th></th>\n      <th>Screen_Size</th>\n    </tr>\n  </thead>\n  <tbody>\n    <tr>\n      <th>0</th>\n      <td>15.6\"</td>\n    </tr>\n    <tr>\n      <th>1</th>\n      <td>13.3\"</td>\n    </tr>\n    <tr>\n      <th>2</th>\n      <td>14.0\"</td>\n    </tr>\n    <tr>\n      <th>3</th>\n      <td>11.6\"</td>\n    </tr>\n    <tr>\n      <th>4</th>\n      <td>17.3\"</td>\n    </tr>\n    <tr>\n      <th>5</th>\n      <td>13.9\"</td>\n    </tr>\n    <tr>\n      <th>6</th>\n      <td>12.0\"</td>\n    </tr>\n    <tr>\n      <th>7</th>\n      <td>15.0\"</td>\n    </tr>\n    <tr>\n      <th>8</th>\n      <td>13.0\"</td>\n    </tr>\n    <tr>\n      <th>9</th>\n      <td>13.5\"</td>\n    </tr>\n    <tr>\n      <th>10</th>\n      <td>12.5\"</td>\n    </tr>\n    <tr>\n      <th>11</th>\n      <td>10.1\"</td>\n    </tr>\n    <tr>\n      <th>12</th>\n      <td>15.4\"</td>\n    </tr>\n    <tr>\n      <th>13</th>\n      <td>11.3\"</td>\n    </tr>\n    <tr>\n      <th>14</th>\n      <td>12.3\"</td>\n    </tr>\n    <tr>\n      <th>15</th>\n      <td>17.0\"</td>\n    </tr>\n    <tr>\n      <th>16</th>\n      <td>18.4\"</td>\n    </tr>\n    <tr>\n      <th>17</th>\n      <td>14.1\"</td>\n    </tr>\n  </tbody>\n</table>\n</div>"
     },
     "execution_count": 25,
     "metadata": {},
     "output_type": "execute_result"
    }
   ],
   "source": [
    "df_screen = pd.read_csv('sales_data.csv', usecols=['Screen_Size'])\n",
    "df_screen = df_screen.drop_duplicates()\n",
    "df_screen = df_screen.reset_index(drop=True)\n",
    "df_screen"
   ],
   "metadata": {
    "collapsed": false,
    "ExecuteTime": {
     "end_time": "2023-10-20T12:33:11.376278Z",
     "start_time": "2023-10-20T12:33:10.304127Z"
    }
   },
   "id": "123e8ea9ebc3fe2e"
  },
  {
   "cell_type": "code",
   "execution_count": 26,
   "outputs": [],
   "source": [
    "table_name = 'screen_type'\n",
    "\n",
    "for _, row in df_screen.iterrows():\n",
    "    insert_query = f\"INSERT INTO {table_name} (screen_type) VALUES ('{row['Screen_Size']}')\"\n",
    "    cursor.execute(insert_query)\n",
    "\n",
    "connection.commit()"
   ],
   "metadata": {
    "collapsed": false,
    "ExecuteTime": {
     "end_time": "2023-10-20T12:34:07.458554Z",
     "start_time": "2023-10-20T12:34:07.412059Z"
    }
   },
   "id": "978a4ed89f8d8c3"
  },
  {
   "cell_type": "code",
   "execution_count": 27,
   "outputs": [
    {
     "data": {
      "text/plain": "        Branch\n0      Hamedan\n1   Kermanshah\n2        Rasht\n3        Karaj\n4      Mashhad\n5         Yazd\n6        Ahvaz\n7         Arak\n8      Isfahan\n9       Tehran\n10        Kish\n11        Sari\n12      Shiraz\n13    Orumiyeh\n14      Tabriz\n15      Zanjan",
      "text/html": "<div>\n<style scoped>\n    .dataframe tbody tr th:only-of-type {\n        vertical-align: middle;\n    }\n\n    .dataframe tbody tr th {\n        vertical-align: top;\n    }\n\n    .dataframe thead th {\n        text-align: right;\n    }\n</style>\n<table border=\"1\" class=\"dataframe\">\n  <thead>\n    <tr style=\"text-align: right;\">\n      <th></th>\n      <th>Branch</th>\n    </tr>\n  </thead>\n  <tbody>\n    <tr>\n      <th>0</th>\n      <td>Hamedan</td>\n    </tr>\n    <tr>\n      <th>1</th>\n      <td>Kermanshah</td>\n    </tr>\n    <tr>\n      <th>2</th>\n      <td>Rasht</td>\n    </tr>\n    <tr>\n      <th>3</th>\n      <td>Karaj</td>\n    </tr>\n    <tr>\n      <th>4</th>\n      <td>Mashhad</td>\n    </tr>\n    <tr>\n      <th>5</th>\n      <td>Yazd</td>\n    </tr>\n    <tr>\n      <th>6</th>\n      <td>Ahvaz</td>\n    </tr>\n    <tr>\n      <th>7</th>\n      <td>Arak</td>\n    </tr>\n    <tr>\n      <th>8</th>\n      <td>Isfahan</td>\n    </tr>\n    <tr>\n      <th>9</th>\n      <td>Tehran</td>\n    </tr>\n    <tr>\n      <th>10</th>\n      <td>Kish</td>\n    </tr>\n    <tr>\n      <th>11</th>\n      <td>Sari</td>\n    </tr>\n    <tr>\n      <th>12</th>\n      <td>Shiraz</td>\n    </tr>\n    <tr>\n      <th>13</th>\n      <td>Orumiyeh</td>\n    </tr>\n    <tr>\n      <th>14</th>\n      <td>Tabriz</td>\n    </tr>\n    <tr>\n      <th>15</th>\n      <td>Zanjan</td>\n    </tr>\n  </tbody>\n</table>\n</div>"
     },
     "execution_count": 27,
     "metadata": {},
     "output_type": "execute_result"
    }
   ],
   "source": [
    "df_branch = pd.read_csv('sales_data.csv', usecols=['Branch'])\n",
    "df_branch = df_branch.drop_duplicates()\n",
    "df_branch = df_branch.reset_index(drop=True)\n",
    "df_branch"
   ],
   "metadata": {
    "collapsed": false,
    "ExecuteTime": {
     "end_time": "2023-10-20T12:34:55.314979Z",
     "start_time": "2023-10-20T12:34:54.140936Z"
    }
   },
   "id": "3687e1bd600ef38a"
  },
  {
   "cell_type": "code",
   "execution_count": 28,
   "outputs": [],
   "source": [
    "table_name = 'branch'\n",
    "\n",
    "for _, row in df_branch.iterrows():\n",
    "    insert_query = f\"INSERT INTO {table_name} (branch_name) VALUES ('{row['Branch']}')\"\n",
    "    cursor.execute(insert_query)\n",
    "\n",
    "connection.commit()"
   ],
   "metadata": {
    "collapsed": false,
    "ExecuteTime": {
     "end_time": "2023-10-20T12:35:15.537870Z",
     "start_time": "2023-10-20T12:35:15.490675Z"
    }
   },
   "id": "73fdf5181653d61b"
  },
  {
   "cell_type": "markdown",
   "source": [
    "## Insert data into relational tables"
   ],
   "metadata": {
    "collapsed": false
   },
   "id": "65d9fc986485e907"
  },
  {
   "cell_type": "code",
   "execution_count": 34,
   "outputs": [
    {
     "name": "stdout",
     "output_type": "stream",
     "text": [
      "Connected to MySQL database: lootech_db\n"
     ]
    }
   ],
   "source": [
    "connection = create_connection(db_host, db_user, db_password, db_name)\n",
    "cursor = connection.cursor(buffered=True)\n",
    "try:\n",
    "    with open('sales_data.csv', 'r') as csvfile:\n",
    "        csvreader = csv.DictReader(csvfile)\n",
    "        for row in csvreader:\n",
    "            model_name = row['Model_Name']\n",
    "            man_name = row['Manufacturer']\n",
    "            screen_type = row['Screen_Size']\n",
    "            cpu_name = row['CPU']\n",
    "            gpu_name = row['GPU']\n",
    "            category_name = row['Category']\n",
    "            os_name = row['OS']\n",
    "            weight = row['Weight']\n",
    "            ram = row['RAM']\n",
    "            screen_size = row['Screen']\n",
    "            \n",
    "            if not connection.is_connected():\n",
    "                connection.connect()\n",
    "                \n",
    "            cursor.execute(\"SELECT id FROM model WHERE model_name = %s\", (model_name,))\n",
    "            result = cursor.fetchone()\n",
    "            if result is not None:\n",
    "                model_id = result[0]\n",
    "            else:\n",
    "                model_id = None\n",
    "                \n",
    "            cursor.execute(\"SELECT id FROM manufacturer WHERE man_name = %s\", (man_name,))\n",
    "            result = cursor.fetchone()\n",
    "            if result is not None:\n",
    "                manufacturer_id = result[0]\n",
    "            else:\n",
    "                manufacturer_id = None\n",
    "                \n",
    "            cursor.execute(\"SELECT id FROM manufacturer WHERE man_name = %s\", (man_name,))\n",
    "            result = cursor.fetchone()\n",
    "            if result is not None:\n",
    "                manufacturer_id = result[0]\n",
    "            else:\n",
    "                manufacturer_id = None\n",
    "                \n",
    "            cursor.execute(\"SELECT id FROM screen_type WHERE screen_type = %s\", (screen_type,))\n",
    "            result = cursor.fetchone()\n",
    "            if result is not None:\n",
    "                screen_type_id = result[0]\n",
    "            else:\n",
    "                screen_type_id = None\n",
    "                \n",
    "            cursor.execute(\"SELECT id FROM cpu WHERE cpu_name = %s\", (cpu_name,))\n",
    "            result = cursor.fetchone()\n",
    "            if result is not None:\n",
    "                cpu_id = result[0]\n",
    "            else:\n",
    "                cpu_id = None\n",
    "                \n",
    "            cursor.execute(\"SELECT id FROM gpu WHERE gpu_name = %s\", (gpu_name,))\n",
    "            result = cursor.fetchone()\n",
    "            if result is not None:\n",
    "                gpu_id = result[0]\n",
    "            else:\n",
    "                gpu_id = None\n",
    "                \n",
    "            cursor.execute(\"SELECT id FROM category WHERE category_name = %s\", (category_name,))\n",
    "            result = cursor.fetchone()\n",
    "            if result is not None:\n",
    "                category_id = result[0]\n",
    "            else:\n",
    "                category_id = None\n",
    "                \n",
    "            cursor.execute(\"SELECT id FROM os WHERE os_name = %s\", (os_name,))\n",
    "            result = cursor.fetchone()\n",
    "            if result is not None:\n",
    "                os_id = result[0]\n",
    "            else:\n",
    "                os_id = None\n",
    "                \n",
    "            cursor.execute(\"INSERT INTO laptop (model_id, manufacturer_id, screen_type_id, cpu_id, gpu_id, category_id, os_id, weight, ram, screen_size) VALUES (%s, %s, %s, %s, %s, %s, %s, %s, %s, %s)\", \n",
    "                           (model_id, manufacturer_id, screen_type_id, cpu_id, gpu_id, category_id, os_id, weight, ram, screen_size))\n",
    "            \n",
    "            connection.commit()\n",
    "        \n",
    "except Error as e:\n",
    "    print(f'Error: {e}')\n",
    "    \n",
    "finally:\n",
    "    cursor.close()\n",
    "    connection.close()"
   ],
   "metadata": {
    "collapsed": false,
    "ExecuteTime": {
     "end_time": "2023-10-20T13:45:00.887675Z",
     "start_time": "2023-10-20T13:28:54.305183Z"
    }
   },
   "id": "30899c4ee29409cb"
  },
  {
   "cell_type": "code",
   "execution_count": 2,
   "outputs": [],
   "source": [
    "import mysql.connector as connection\n",
    "import pandas as pd"
   ],
   "metadata": {
    "collapsed": false,
    "ExecuteTime": {
     "end_time": "2023-10-20T16:52:00.763015Z",
     "start_time": "2023-10-20T16:52:00.388126Z"
    }
   },
   "id": "ac8421ad7768063f"
  },
  {
   "cell_type": "code",
   "execution_count": 9,
   "outputs": [
    {
     "name": "stderr",
     "output_type": "stream",
     "text": [
      "/var/folders/p4/zzmk6z991g51fytktfhyxh_80000gn/T/ipykernel_17367/1108932096.py:6: UserWarning: pandas only supports SQLAlchemy connectable (engine/connection) or database string URI or sqlite3 DBAPI2 connection. Other DBAPI2 objects are not tested. Please consider using SQLAlchemy.\n",
      "  result_dataFrame = pd.read_sql(query, db)\n"
     ]
    },
    {
     "data": {
      "text/plain": "         loptop_id                               model_name\n0                1                              Vostro 3568\n1                2                           Yoga 720-13IKB\n2                3                       IdeaPad Y700-15ISK\n3                4                            Inspiron 5370\n4                5                           Aspire E5-576G\n...            ...                                      ...\n1017076    1017077                       Legion Y520-15IKBN\n1017077    1017078  V330-15IKB (i5-8250U/4GB/500GB/FHD/W10)\n1017078    1017079                              Vostro 5568\n1017079    1017080                          Envy 13-AB020nr\n1017080    1017081                            Inspiron 3567\n\n[1017081 rows x 2 columns]",
      "text/html": "<div>\n<style scoped>\n    .dataframe tbody tr th:only-of-type {\n        vertical-align: middle;\n    }\n\n    .dataframe tbody tr th {\n        vertical-align: top;\n    }\n\n    .dataframe thead th {\n        text-align: right;\n    }\n</style>\n<table border=\"1\" class=\"dataframe\">\n  <thead>\n    <tr style=\"text-align: right;\">\n      <th></th>\n      <th>loptop_id</th>\n      <th>model_name</th>\n    </tr>\n  </thead>\n  <tbody>\n    <tr>\n      <th>0</th>\n      <td>1</td>\n      <td>Vostro 3568</td>\n    </tr>\n    <tr>\n      <th>1</th>\n      <td>2</td>\n      <td>Yoga 720-13IKB</td>\n    </tr>\n    <tr>\n      <th>2</th>\n      <td>3</td>\n      <td>IdeaPad Y700-15ISK</td>\n    </tr>\n    <tr>\n      <th>3</th>\n      <td>4</td>\n      <td>Inspiron 5370</td>\n    </tr>\n    <tr>\n      <th>4</th>\n      <td>5</td>\n      <td>Aspire E5-576G</td>\n    </tr>\n    <tr>\n      <th>...</th>\n      <td>...</td>\n      <td>...</td>\n    </tr>\n    <tr>\n      <th>1017076</th>\n      <td>1017077</td>\n      <td>Legion Y520-15IKBN</td>\n    </tr>\n    <tr>\n      <th>1017077</th>\n      <td>1017078</td>\n      <td>V330-15IKB (i5-8250U/4GB/500GB/FHD/W10)</td>\n    </tr>\n    <tr>\n      <th>1017078</th>\n      <td>1017079</td>\n      <td>Vostro 5568</td>\n    </tr>\n    <tr>\n      <th>1017079</th>\n      <td>1017080</td>\n      <td>Envy 13-AB020nr</td>\n    </tr>\n    <tr>\n      <th>1017080</th>\n      <td>1017081</td>\n      <td>Inspiron 3567</td>\n    </tr>\n  </tbody>\n</table>\n<p>1017081 rows × 2 columns</p>\n</div>"
     },
     "execution_count": 9,
     "metadata": {},
     "output_type": "execute_result"
    }
   ],
   "source": [
    "db = None  # Define the db variable before the try block\n",
    "result_dataFrame = None\n",
    "try:\n",
    "    db = connection.connect(host=\"localhost\", database='lootech_db', user=\"root\", passwd=\"@2081081381mH\", use_pure=True)\n",
    "    query = \"SELECT loptop_id, model_name FROM laptop JOIN model ON laptop.model_id = model.id ORDER BY loptop_id;\"\n",
    "    result_dataFrame = pd.read_sql(query, db)\n",
    "except Exception as e:\n",
    "    print(str(e))\n",
    "finally:\n",
    "    if db is not None:\n",
    "        db.close()\n",
    "\n",
    "# You can now use result_dataFrame outside the try block\n",
    "result_dataFrame.reset_index()\n",
    "result_dataFrame\n"
   ],
   "metadata": {
    "collapsed": false,
    "ExecuteTime": {
     "end_time": "2023-10-20T17:41:25.614079Z",
     "start_time": "2023-10-20T17:41:20.478417Z"
    }
   },
   "id": "5d3e3e104e8bd8a2"
  },
  {
   "cell_type": "code",
   "execution_count": 10,
   "outputs": [],
   "source": [
    "df_order1 = pd.read_csv('sales_data.csv', usecols=['Branch','Order_Date', 'Order_Priority','Price', 'Quantity', 'Discount', 'Total_Price', 'Profit', 'Ship_Duration'])\n",
    "df_order = pd.concat([df_order1, result_dataFrame], axis=1)\n",
    "df_order.reset_index(drop=True, inplace=True)\n",
    "df_order.to_csv('order.csv', index=False)"
   ],
   "metadata": {
    "collapsed": false,
    "ExecuteTime": {
     "end_time": "2023-10-20T17:41:44.494282Z",
     "start_time": "2023-10-20T17:41:41.526313Z"
    }
   },
   "id": "8cee6d46434126d"
  },
  {
   "cell_type": "code",
   "execution_count": 20,
   "outputs": [
    {
     "name": "stdout",
     "output_type": "stream",
     "text": [
      "Connected to MySQL database: lootech_db\n"
     ]
    }
   ],
   "source": [
    "connection = create_connection(db_host, db_user, db_password, db_name)\n",
    "cursor = connection.cursor(buffered=True)\n",
    "try:\n",
    "    with open('order.csv', 'r') as csvreader:\n",
    "        csvreader = csv.DictReader(csvreader)\n",
    "        for row in csvreader:\n",
    "            branch_name = row['Branch']\n",
    "            loptop_id = row['loptop_id']\n",
    "            order_date = row['Order_Date']\n",
    "            priority = row['Order_Priority']\n",
    "            price = row['Price']\n",
    "            quantity = row['Quantity']\n",
    "            discount = row['Discount']\n",
    "            total_price = row['Total_Price']\n",
    "            profit = row['Profit']\n",
    "            ship_duration = row['Ship_Duration']\n",
    "            \n",
    "            if not connection.is_connected():\n",
    "                connection.connect()\n",
    "            cursor.execute(\"SELECT id FROM branch WHERE branch_name = %s\", (branch_name,))\n",
    "            result = cursor.fetchone()\n",
    "            if result is not None:\n",
    "                branch_id = result[0]\n",
    "            else:\n",
    "                branch_id = None\n",
    "                \n",
    "            cursor.execute(\"SELECT loptop_id FROM laptop WHERE loptop_id = %s\", (loptop_id,))\n",
    "            result = cursor.fetchone()\n",
    "            if result is not None:\n",
    "                loptop_id = result[0]\n",
    "            else:\n",
    "                loptop_id = None\n",
    "                \n",
    "            cursor.execute(\"INSERT INTO orders (branch_id, loptop_id, order_date, priority, price, quantity, discount, total_price, profit, ship_duration) VALUES (%s, %s, %s, %s, %s, %s, %s, %s, %s, %s)\", \n",
    "                           (branch_id, loptop_id, order_date, priority, price, quantity, discount, total_price, profit, ship_duration))\n",
    "                \n",
    "            connection.commit()\n",
    "\n",
    "except Error as e:\n",
    "    print(f'Error: {e}')\n",
    "    \n",
    "finally:\n",
    "    cursor.close()\n",
    "    connection.close()\n",
    "                \n",
    "\n",
    "            "
   ],
   "metadata": {
    "collapsed": false,
    "ExecuteTime": {
     "end_time": "2023-10-20T17:59:49.280399Z",
     "start_time": "2023-10-20T17:52:38.630963Z"
    }
   },
   "id": "75e944c7c7375e89"
  },
  {
   "cell_type": "code",
   "execution_count": 22,
   "outputs": [],
   "source": [
    "df_storage1 = pd.read_csv('sales_data.csv', usecols=['Storage'])\n",
    "df_storage = pd.concat([df_storage1, result_dataFrame], axis=1)\n",
    "df_storage.reset_index(drop=True, inplace=True)\n",
    "df_storage.to_csv('storage.csv', index=False)"
   ],
   "metadata": {
    "collapsed": false,
    "ExecuteTime": {
     "end_time": "2023-10-20T18:23:19.996793Z",
     "start_time": "2023-10-20T18:23:18.104521Z"
    }
   },
   "id": "d0acba1b26389f8f"
  },
  {
   "cell_type": "code",
   "execution_count": 23,
   "outputs": [
    {
     "name": "stdout",
     "output_type": "stream",
     "text": [
      "Connected to MySQL database: lootech_db\n"
     ]
    }
   ],
   "source": [
    "connection = create_connection(db_host, db_user, db_password, db_name)\n",
    "cursor = connection.cursor(buffered=True)\n",
    "\n",
    "with open('storage.csv', 'r') as csvreader:\n",
    "    csvreader = csv.DictReader(csvreader)\n",
    "    for row in csvreader:\n",
    "        storage_name = row['Storage']\n",
    "        loptop_id = row['loptop_id']\n",
    "        \n",
    "        if not connection.is_connected():\n",
    "            connection.connect()\n",
    "            \n",
    "        cursor.execute(\"SELECT id FROM storage WHERE storage_name = %s\", (storage_name,))\n",
    "        result = cursor.fetchone()\n",
    "        if result is not None:\n",
    "            storage_id = result[0]\n",
    "        else:\n",
    "            storage_id = None\n",
    "            \n",
    "        cursor.execute(\"SELECT loptop_id FROM laptop WHERE loptop_id = %s\", (loptop_id,))\n",
    "        result = cursor.fetchone()\n",
    "        if result is not None:\n",
    "            loptop_id = result[0]\n",
    "        else:\n",
    "            loptop_id = None\n",
    "            \n",
    "        cursor.execute(\"INSERT INTO laptop_storage (storage_id, loptop_id) VALUES (%s, %s)\", (storage_id, loptop_id))\n",
    "        \n",
    "        connection.commit()"
   ],
   "metadata": {
    "collapsed": false,
    "ExecuteTime": {
     "end_time": "2023-10-20T18:32:58.537817Z",
     "start_time": "2023-10-20T18:25:42.544880Z"
    }
   },
   "id": "685b60f99730474a"
  },
  {
   "cell_type": "code",
   "execution_count": null,
   "outputs": [],
   "source": [],
   "metadata": {
    "collapsed": false
   },
   "id": "7bc91fe1cd26338b"
  }
 ],
 "metadata": {
  "kernelspec": {
   "display_name": "Python 3",
   "language": "python",
   "name": "python3"
  },
  "language_info": {
   "codemirror_mode": {
    "name": "ipython",
    "version": 2
   },
   "file_extension": ".py",
   "mimetype": "text/x-python",
   "name": "python",
   "nbconvert_exporter": "python",
   "pygments_lexer": "ipython2",
   "version": "2.7.6"
  }
 },
 "nbformat": 4,
 "nbformat_minor": 5
}
