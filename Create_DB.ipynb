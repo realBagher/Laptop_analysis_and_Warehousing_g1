{
 "cells": [
  {
   "cell_type": "code",
   "execution_count": 18,
   "id": "initial_id",
   "metadata": {
    "collapsed": true,
    "ExecuteTime": {
     "end_time": "2023-10-19T16:47:50.597913Z",
     "start_time": "2023-10-19T16:47:50.563378Z"
    }
   },
   "outputs": [],
   "source": [
    "import mysql.connector\n",
    "from mysql.connector import Error"
   ]
  },
  {
   "cell_type": "markdown",
   "source": [
    "# Create a connection to the database"
   ],
   "metadata": {
    "collapsed": false
   },
   "id": "efcce69f0a6f81ce"
  },
  {
   "cell_type": "code",
   "execution_count": 19,
   "outputs": [],
   "source": [
    "def create_connection(host, user, password, database):\n",
    "    try:\n",
    "        connection = mysql.connector.connect(\n",
    "            host=host,\n",
    "            user=user,\n",
    "            password=password,\n",
    "            database=database\n",
    "        )\n",
    "        if connection.is_connected():\n",
    "            print(f'Connected to MySQL database: {database}')\n",
    "            return connection\n",
    "    except Error as e:\n",
    "        print(f'Error: {e}')\n",
    "        return None"
   ],
   "metadata": {
    "collapsed": false,
    "ExecuteTime": {
     "end_time": "2023-10-19T16:47:51.375190Z",
     "start_time": "2023-10-19T16:47:51.338637Z"
    }
   },
   "id": "776da31bc3a448ae"
  },
  {
   "cell_type": "code",
   "execution_count": 20,
   "outputs": [],
   "source": [
    "db_host = 'localhost'\n",
    "db_user = 'root'\n",
    "db_password = 'your password'\n",
    "db_name = 'lootech_db'"
   ],
   "metadata": {
    "collapsed": false,
    "ExecuteTime": {
     "end_time": "2023-10-19T16:47:51.702932Z",
     "start_time": "2023-10-19T16:47:51.667623Z"
    }
   },
   "id": "575b125c739384b"
  },
  {
   "cell_type": "code",
   "execution_count": 21,
   "outputs": [
    {
     "name": "stdout",
     "output_type": "stream",
     "text": [
      "Connected to MySQL database: lootech_db\n"
     ]
    }
   ],
   "source": [
    "connection = create_connection(db_host, db_user, db_password, db_name)\n",
    "cursor = connection.cursor()"
   ],
   "metadata": {
    "collapsed": false,
    "ExecuteTime": {
     "end_time": "2023-10-19T16:47:52.206397Z",
     "start_time": "2023-10-19T16:47:52.112456Z"
    }
   },
   "id": "6c9e4a86f294e831"
  },
  {
   "cell_type": "markdown",
   "source": [
    "# Create table"
   ],
   "metadata": {
    "collapsed": false
   },
   "id": "bbbe4fb62d8ef302"
  },
  {
   "cell_type": "code",
   "execution_count": 5,
   "outputs": [],
   "source": [
    "cursor.execute('create database if not exists lootech_db')"
   ],
   "metadata": {
    "collapsed": false,
    "ExecuteTime": {
     "end_time": "2023-10-19T11:23:52.934118Z",
     "start_time": "2023-10-19T11:23:52.913572Z"
    }
   },
   "id": "b2923ac0436ec1a3"
  },
  {
   "cell_type": "code",
   "execution_count": 6,
   "outputs": [],
   "source": [
    "cursor.execute('USE lootech_db')"
   ],
   "metadata": {
    "collapsed": false,
    "ExecuteTime": {
     "end_time": "2023-10-19T11:24:02.781556Z",
     "start_time": "2023-10-19T11:24:02.766795Z"
    }
   },
   "id": "306cc57853568e2c"
  },
  {
   "cell_type": "code",
   "execution_count": 7,
   "outputs": [],
   "source": [
    "cursor.execute('CREATE TABLE model (id INT AUTO_INCREMENT PRIMARY KEY, model_name VARCHAR(255))')"
   ],
   "metadata": {
    "collapsed": false,
    "ExecuteTime": {
     "end_time": "2023-10-19T11:24:03.631161Z",
     "start_time": "2023-10-19T11:24:03.595237Z"
    }
   },
   "id": "28cb570068d68b6f"
  },
  {
   "cell_type": "code",
   "execution_count": 6,
   "outputs": [],
   "source": [
    "cursor.execute('CREATE TABLE cpu (id INT AUTO_INCREMENT PRIMARY KEY, cpu_name VARCHAR(255))')"
   ],
   "metadata": {
    "collapsed": false,
    "ExecuteTime": {
     "end_time": "2023-10-19T13:20:47.310690Z",
     "start_time": "2023-10-19T13:20:47.271418Z"
    }
   },
   "id": "cbda1ead3b0a38b6"
  },
  {
   "cell_type": "code",
   "execution_count": 7,
   "outputs": [],
   "source": [
    "cursor.execute('CREATE TABLE gpu (id INT AUTO_INCREMENT PRIMARY KEY, gpu_name VARCHAR(255))')"
   ],
   "metadata": {
    "collapsed": false,
    "ExecuteTime": {
     "end_time": "2023-10-19T13:21:10.273526Z",
     "start_time": "2023-10-19T13:21:10.222660Z"
    }
   },
   "id": "1b669e226eaf4546"
  },
  {
   "cell_type": "code",
   "execution_count": 8,
   "outputs": [],
   "source": [
    "cursor.execute('CREATE TABLE category (id INT AUTO_INCREMENT PRIMARY KEY, category_name VARCHAR(255))')"
   ],
   "metadata": {
    "collapsed": false,
    "ExecuteTime": {
     "end_time": "2023-10-19T13:21:37.812019Z",
     "start_time": "2023-10-19T13:21:37.768540Z"
    }
   },
   "id": "6241a5080651fee4"
  },
  {
   "cell_type": "code",
   "execution_count": 9,
   "outputs": [],
   "source": [
    "cursor.execute('CREATE TABLE os (id INT AUTO_INCREMENT PRIMARY KEY, os_name VARCHAR(255))')"
   ],
   "metadata": {
    "collapsed": false,
    "ExecuteTime": {
     "end_time": "2023-10-19T13:21:55.616368Z",
     "start_time": "2023-10-19T13:21:55.564269Z"
    }
   },
   "id": "62adcbb1703b6dc8"
  },
  {
   "cell_type": "code",
   "execution_count": 10,
   "outputs": [],
   "source": [
    "cursor.execute('CREATE TABLE manufacturer (id INT AUTO_INCREMENT PRIMARY KEY, man_name VARCHAR(255))')"
   ],
   "metadata": {
    "collapsed": false,
    "ExecuteTime": {
     "end_time": "2023-10-19T13:25:25.218800Z",
     "start_time": "2023-10-19T13:25:25.189281Z"
    }
   },
   "id": "ebc861451c7eddfa"
  },
  {
   "cell_type": "code",
   "execution_count": 11,
   "outputs": [],
   "source": [
    "cursor.execute('CREATE TABLE screen_type (id INT AUTO_INCREMENT PRIMARY KEY, screen_type VARCHAR(255))')"
   ],
   "metadata": {
    "collapsed": false,
    "ExecuteTime": {
     "end_time": "2023-10-19T13:25:57.610019Z",
     "start_time": "2023-10-19T13:25:57.567354Z"
    }
   },
   "id": "1488b0c5b79fca59"
  },
  {
   "cell_type": "code",
   "execution_count": 17,
   "outputs": [],
   "source": [
    "cursor.execute('CREATE TABLE loptop (\\\n",
    "                 loptop_id INT AUTO_INCREMENT PRIMARY KEY ,\\\n",
    "                 weight INT,\\\n",
    "                 ram INT,\\\n",
    "                 storage VARCHAR(20),\\\n",
    "                 screen_size DOUBLE,\\\n",
    "                 manufacturer_id INT,\\\n",
    "                 screen_type_id INT,\\\n",
    "                 category_id INT,\\\n",
    "                 os_id INT,\\\n",
    "                 cpu_id INT,\\\n",
    "                 gpu_id INT,\\\n",
    "                 FOREIGN KEY (manufacturer_id) REFERENCES manufacturer(id),\\\n",
    "                 FOREIGN KEY (screen_type_id) REFERENCES screen_type(id),\\\n",
    "                 FOREIGN KEY (category_id) REFERENCES category(id),\\\n",
    "                 FOREIGN KEY (os_id) REFERENCES os(id),\\\n",
    "                 FOREIGN KEY (cpu_id) REFERENCES cpu(id),\\\n",
    "                 FOREIGN KEY (gpu_id) REFERENCES gpu(id))')"
   ],
   "metadata": {
    "collapsed": false,
    "ExecuteTime": {
     "end_time": "2023-10-19T14:28:39.946829Z",
     "start_time": "2023-10-19T14:28:39.888009Z"
    }
   },
   "id": "cd28ee3091429b4a"
  },
  {
   "cell_type": "code",
   "execution_count": 22,
   "outputs": [],
   "source": [
    "cursor.execute('CREATE TABLE branch (id INT AUTO_INCREMENT PRIMARY KEY, branch_name VARCHAR(255))')"
   ],
   "metadata": {
    "collapsed": false,
    "ExecuteTime": {
     "end_time": "2023-10-19T16:49:17.548764Z",
     "start_time": "2023-10-19T16:49:17.433566Z"
    }
   },
   "id": "65ae0d33584d5cea"
  },
  {
   "cell_type": "code",
   "execution_count": 31,
   "outputs": [],
   "source": [
    "cursor.execute('CREATE TABLE orders (\\\n",
    "                 order_id INT AUTO_INCREMENT PRIMARY KEY,\\\n",
    "                 branch_id INT,\\\n",
    "                 loptop_id INT,\\\n",
    "                 order_date DATE,\\\n",
    "                 priority VARCHAR(1),\\\n",
    "                 price INT,\\\n",
    "                 quantity INT,\\\n",
    "                 discount INT,\\\n",
    "                 total_price INT,\\\n",
    "                 profit INT,\\\n",
    "                 ship_duration INT,\\\n",
    "                 FOREIGN KEY (branch_id) REFERENCES branch(id),\\\n",
    "                 FOREIGN KEY (loptop_id) REFERENCES loptop(loptop_id))')"
   ],
   "metadata": {
    "collapsed": false,
    "ExecuteTime": {
     "end_time": "2023-10-19T17:01:32.635703Z",
     "start_time": "2023-10-19T17:01:32.599246Z"
    }
   },
   "id": "2fd5e60a84120eae"
  },
  {
   "cell_type": "code",
   "execution_count": 30,
   "outputs": [],
   "source": [
    "cursor.execute('CREATE TABLE storage (id INT AUTO_INCREMENT PRIMARY KEY, storage_name VARCHAR(60))')"
   ],
   "metadata": {
    "collapsed": false,
    "ExecuteTime": {
     "end_time": "2023-10-19T16:58:48.080855Z",
     "start_time": "2023-10-19T16:58:47.926447Z"
    }
   },
   "id": "67cf54f902c8bb80"
  },
  {
   "cell_type": "code",
   "execution_count": 32,
   "outputs": [],
   "source": [
    "cursor.execute('CREATE TABLE loptop_storage (\\\n",
    "                 id INT AUTO_INCREMENT PRIMARY KEY,\\\n",
    "                 loptop_id INT,\\\n",
    "                 storage_id INT,\\\n",
    "                 FOREIGN KEY (loptop_id) REFERENCES loptop(loptop_id),\\\n",
    "                 FOREIGN KEY (storage_id) REFERENCES storage(id))')"
   ],
   "metadata": {
    "collapsed": false,
    "ExecuteTime": {
     "end_time": "2023-10-19T17:03:38.244240Z",
     "start_time": "2023-10-19T17:03:38.110373Z"
    }
   },
   "id": "f1da7bde4b237172"
  },
  {
   "cell_type": "code",
   "execution_count": null,
   "outputs": [],
   "source": [],
   "metadata": {
    "collapsed": false
   },
   "id": "86b0b8943bf3ce90"
  }
 ],
 "metadata": {
  "kernelspec": {
   "display_name": "Python 3",
   "language": "python",
   "name": "python3"
  },
  "language_info": {
   "codemirror_mode": {
    "name": "ipython",
    "version": 2
   },
   "file_extension": ".py",
   "mimetype": "text/x-python",
   "name": "python",
   "nbconvert_exporter": "python",
   "pygments_lexer": "ipython2",
   "version": "2.7.6"
  }
 },
 "nbformat": 4,
 "nbformat_minor": 5
}
