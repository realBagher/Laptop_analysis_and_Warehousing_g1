{
 "cells": [
  {
   "cell_type": "code",
   "execution_count": 45,
   "metadata": {},
   "outputs": [],
   "source": [
    "import pandas as pd\n",
    "import numpy as np\n",
    "from scipy.stats import ttest_ind"
   ]
  },
  {
   "cell_type": "markdown",
   "metadata": {},
   "source": [
    "درخواست ۲ و ۳:"
   ]
  },
  {
   "cell_type": "markdown",
   "metadata": {},
   "source": [
    "در اینجا درخواست ۲ و ۳ درخواست کارفرمایان را انجام می‌دهیم. برای این منظور ابتدا مجموع تعداد فروش هر مدل را در حالت تخفیف و بدون تخفیف بررسی کردیم ولی همانگونه که در ادامه توضیح می‌دهیم و نتایج هم موید آن است این روش دارای اشکال است و برای همین کل مشاهدات تخفیف‌دار را با مشاهدات بدون تخفیف بررسی کرده و آزمون فرض آن را تفسیر می‌کنیم"
   ]
  },
  {
   "cell_type": "markdown",
   "metadata": {},
   "source": [
    "ابتدا می‌خواهیم اثر تخفیف بر میزان فروش را بررسی کنیم؛ برای این منظور باید بررسی کرد که به ازای هر مدل مجموع تعداد فروش تخفیف‌دار آن با مجموع تعداد فروش بدون تخفیف آن یکی است یا خیر؟ دراینجا مشاهده می‌شود که در مجموع ۶۱۸ مدل لپتاپ داریم که همه آن‌ها هم حالت بدون تخفیف دارند و هم حالت با تخفیف. پس می‌توان بعد از مرتب کردن ستون مدل، ستون تعداد فروش در دو حالت با تخفیف و بدون تخفیف را بررسی کرد.  "
   ]
  },
  {
   "cell_type": "markdown",
   "metadata": {},
   "source": [
    "در همینجا ستون‌های موردنیاز برای درخواست سوم یعنی اثر تخفیف بر سود را هم نگه می‌داریم؛ همچنین یک ستون جدید حاوی درصد تخفیف هر سفارش می‌سازیم که حاصل تقسیم مقدار تخفیف بر کل ارزش لپتاپ است."
   ]
  },
  {
   "cell_type": "code",
   "execution_count": 46,
   "metadata": {},
   "outputs": [
    {
     "name": "stderr",
     "output_type": "stream",
     "text": [
      "/var/folders/0r/6nwh7td129301__r2brydjn00000gn/T/ipykernel_79096/942774438.py:3: SettingWithCopyWarning: \n",
      "A value is trying to be set on a copy of a slice from a DataFrame.\n",
      "Try using .loc[row_indexer,col_indexer] = value instead\n",
      "\n",
      "See the caveats in the documentation: https://pandas.pydata.org/pandas-docs/stable/user_guide/indexing.html#returning-a-view-versus-a-copy\n",
      "  data2['Profit_perc'] = data2['Profit']/data2['Total_Price']*100\n"
     ]
    }
   ],
   "source": [
    "data = pd.read_csv('sales_data.csv')\n",
    "data2 = data[['Model_Name','Discount','Profit','Quantity','Total_Price']]\n",
    "data2['Profit_perc'] = data2['Profit']/data2['Total_Price']*100\n",
    "\n",
    "data_disc = data2[data2['Discount']>0]\n",
    "data_nodisc = data2[data2['Discount']==0]\n",
    "data_disc_quan = data_disc.groupby('Model_Name').sum()\n",
    "data_nodisc_quan = data_nodisc.groupby('Model_Name').sum()\n"
   ]
  },
  {
   "cell_type": "code",
   "execution_count": 47,
   "metadata": {},
   "outputs": [],
   "source": [
    "data2_disc = data2[data2['Discount']>0]\n",
    "data2_nodisc = data2[data2['Discount']==0]\n"
   ]
  },
  {
   "cell_type": "code",
   "execution_count": 48,
   "metadata": {},
   "outputs": [
    {
     "name": "stdout",
     "output_type": "stream",
     "text": [
      "618\n",
      "618\n"
     ]
    }
   ],
   "source": [
    "data_disc_quan.sort_values(by='Model_Name',inplace=True)\n",
    "data_nodisc_quan.sort_values(by='Model_Name',inplace=True)\n",
    "print(len(data_disc_quan))\n",
    "print(len(data_nodisc_quan))\n"
   ]
  },
  {
   "cell_type": "markdown",
   "metadata": {},
   "source": [
    "حال دو گروه بدون تخفیف و با تخفیف را مقایسه می‌کنیم؛ فرض صفر دراینجا آن است که تخفیف داشتن یا نداشتن اثری بر میزان تقاضا و سفارش لپتاپ ندارد!"
   ]
  },
  {
   "cell_type": "code",
   "execution_count": 49,
   "metadata": {},
   "outputs": [
    {
     "data": {
      "text/plain": [
       "TtestResult(statistic=-11.895201733837869, pvalue=5.742753842876579e-31, df=1234.0)"
      ]
     },
     "execution_count": 49,
     "metadata": {},
     "output_type": "execute_result"
    }
   ],
   "source": [
    "t1 = ttest_ind(data_disc_quan['Quantity'],data_nodisc_quan['Quantity'])\n",
    "t1"
   ]
  },
  {
   "cell_type": "markdown",
   "metadata": {},
   "source": [
    "مشاهده می‌کنیم که فرض صفر یعنی فرض یکسان‌بودن حالت با تخفیف و بی تخفیف را نمی‌توان رد کرد! و حتی در سطح ۵ درصد هم نمی‌توان تفاوت اینها را بیان کرد پس به صورت کلی نمی‌توان ادعا کرد که تخفیف موجب کاهش یا افزایش مقدار فروش لپتاپ‌ها شده است. . البته در ادامه بیان می‌کنیم که این روش دارای اشکال است و روش قابل اعتمادتر را ارائه می‌دهیم"
   ]
  },
  {
   "cell_type": "markdown",
   "metadata": {},
   "source": [
    "مشاهده می‌شود که در داده‌ای که در اختیار داریم، درصدهای مشخص و محدودی برای تخفیف وجود دارد و می‌توان به ازای هر مقدار تخفیف، داده‌ها را به صورت مجزا سنجید و بررسی کرد که هر مقدار از تخفیف نسبت به مقدار دیگر از تخفیف آیا بر روی مقدار سفارش موثر است؟"
   ]
  },
  {
   "cell_type": "code",
   "execution_count": 50,
   "metadata": {},
   "outputs": [
    {
     "data": {
      "text/plain": [
       "array([0, 2, 5, 3, 7, 9])"
      ]
     },
     "execution_count": 50,
     "metadata": {},
     "output_type": "execute_result"
    }
   ],
   "source": [
    "data2['Discount'].unique()"
   ]
  },
  {
   "cell_type": "markdown",
   "metadata": {},
   "source": [
    "مشاهده می‌شود که مقدار تخفیف مقادیر محدود مشخصی است و همگی کمتر از ۱۰ درصد است"
   ]
  },
  {
   "cell_type": "code",
   "execution_count": 51,
   "metadata": {},
   "outputs": [],
   "source": [
    "data_disc_2 = data2[data2['Discount']==2]\n",
    "data_disc_3 = data2[data2['Discount']==3]\n",
    "data_disc_5 = data2[data2['Discount']==5]\n",
    "data_disc_7 = data2[data2['Discount']==7]\n",
    "data_disc_9 = data2[data2['Discount']==9]"
   ]
  },
  {
   "cell_type": "code",
   "execution_count": 52,
   "metadata": {},
   "outputs": [],
   "source": [
    "data_disc_2_quan = data_disc_2.groupby('Model_Name').sum()\n",
    "data_disc_3_quan = data_disc_3.groupby('Model_Name').sum()\n",
    "data_disc_5_quan = data_disc_5.groupby('Model_Name').sum()\n",
    "data_disc_7_quan = data_disc_7.groupby('Model_Name').sum()\n",
    "data_disc_9_quan = data_disc_9.groupby('Model_Name').sum()\n"
   ]
  },
  {
   "cell_type": "markdown",
   "metadata": {},
   "source": [
    "حال هر میزان از تخفیف را با حالت نبود تخفیف مقایسه می‌کنیم و داریم:"
   ]
  },
  {
   "cell_type": "code",
   "execution_count": 43,
   "metadata": {},
   "outputs": [
    {
     "name": "stdout",
     "output_type": "stream",
     "text": [
      "[TtestResult(statistic=13.79391383998386, pvalue=2.320888965233884e-40, df=1234.0), TtestResult(statistic=13.932737135084045, pvalue=4.42040086727883e-41, df=1231.0), TtestResult(statistic=14.129900999090829, pvalue=4.000427733155509e-42, df=1232.0), TtestResult(statistic=14.254361603532223, pvalue=8.898060488497506e-43, df=1228.0), TtestResult(statistic=14.093102339017323, pvalue=7.476261632598939e-42, df=1200.0)]\n"
     ]
    }
   ],
   "source": [
    "t02 = ttest_ind(data_nodisc_quan['Quantity'],data_disc_2_quan['Quantity'])\n",
    "t03 = ttest_ind(data_nodisc_quan['Quantity'],data_disc_3_quan['Quantity'])\n",
    "t05 = ttest_ind(data_nodisc_quan['Quantity'],data_disc_5_quan['Quantity'])\n",
    "t07 = ttest_ind(data_nodisc_quan['Quantity'],data_disc_7_quan['Quantity'])\n",
    "t09 = ttest_ind(data_nodisc_quan['Quantity'],data_disc_9_quan['Quantity'])\n",
    "\n",
    "print([t02, t03, t05, t07, t09])\n",
    "\n"
   ]
  },
  {
   "cell_type": "markdown",
   "metadata": {},
   "source": [
    "نتیجه آزمون‌ها نشان می‌دهد که :\n",
    "۱- یکی بودن تخفیف ۲ درصدی و تخفیف ۰ درصدی در سطح ۵ درصد رد می‌شود و پس ۲ درصد تخفیف فروش کمتری داشته است\n",
    "۲- یکی بودن تخفیف ۳ درصدی و ۰ درصدی هم در سطح ۵ درصد رد می‌شود\n",
    "۳- یکی بودن تخفیف ۵ درصدی و ۰ درصدی هم در سطح ۵ درصدی رد می‌شود\n",
    "\n",
    "۴- یکی‌بودن تخفیف ۷ درصدی و ۰ درصدی و از سوی دیگر یکی بودن تخفیف ۹ درصدی و ۰ درصدی رد نمی‌شود "
   ]
  },
  {
   "cell_type": "markdown",
   "metadata": {},
   "source": [
    "اما باید توجه داشت که لزوما تخفیف باعث خرید بیشتر یا کمتر نمی‌شود بلکه ممکن است رابطه برعکس باشد یعنی شرکت در ارائه تخفیف بر روی هر محصول محدودیت داشته باشد و برای ارائه آن تخفیف محدودیت تعدادی یا زمانی اعمال کند. در نتیجه تعداد سفارشات با تخفیف به صورت کلی کم باشد  و این باعث شود که تعداد فروش‌های بدون تخفیف بیشتر شود. به همین خاطر دو روش دیگر پیشنهاد می‌دهیم: ابتدا تعداد داده‌ها را به نحوی توسعه می‌دهیم که مشاهدات تخفیف‌دار از نظر تعدادی متناسب با تعداد فروش‌های بدون تخفیف شود و بعد از آن از یک رگرسیون خطی برای سنجش میزان اثر تخفیف بر مقدار فروش به همراه کنترل متغیرهای اثرگذار بر خرید لپتاپ، استفاده می‌کنیم تا از درون‌زایی‌های موجود دور شویم."
   ]
  },
  {
   "cell_type": "code",
   "execution_count": 24,
   "metadata": {},
   "outputs": [],
   "source": [
    "data = pd.read_csv('sales_data.csv')\n"
   ]
  },
  {
   "cell_type": "code",
   "execution_count": 25,
   "metadata": {},
   "outputs": [],
   "source": [
    "data[['year', 'month', 'day']] = data.Order_Date.str.split(\"-\",expand=True)\n",
    "data['year']=data['year'].astype('int')\n",
    "data['month']=data['month'].astype('int')\n",
    "data['day']=data['day'].astype('int')\n",
    "\n",
    "data[['Screen_size','maz1']] = data.Screen_Size.str.split('\"',expand=True)\n",
    "data['Screen_size']=data['Screen_size'].astype('float')"
   ]
  },
  {
   "cell_type": "code",
   "execution_count": 26,
   "metadata": {},
   "outputs": [],
   "source": [
    "data[['RAM','maz2']] = data.RAM.str.split(\"G\",expand=True)\n",
    "data['RAM'] = data['RAM'].astype('float')\n",
    "data[['laptop_weight','maz3']] = data.Weight.str.split(\"k\",expand=True)\n",
    "data['laptop_weight'] = data['laptop_weight'].astype('float')"
   ]
  },
  {
   "cell_type": "code",
   "execution_count": 27,
   "metadata": {},
   "outputs": [],
   "source": [
    "data['CPU_manufacturer'] = data.CPU.str.split(\" \",expand=True)[0]"
   ]
  },
  {
   "cell_type": "code",
   "execution_count": 28,
   "metadata": {},
   "outputs": [
    {
     "data": {
      "text/plain": [
       "array(['AMD', 'Intel', 'Nvidia', 'ARM'], dtype=object)"
      ]
     },
     "execution_count": 28,
     "metadata": {},
     "output_type": "execute_result"
    }
   ],
   "source": [
    "data['graphic_manufacturer'] = data.GPU.str.split(\" \",expand=True)[0]\n",
    "#megh_data['graphic_manufacturer'].replace('ARM','Other',inplace=True)\n",
    "data['graphic_manufacturer'].unique()"
   ]
  },
  {
   "cell_type": "code",
   "execution_count": 32,
   "metadata": {},
   "outputs": [
    {
     "name": "stderr",
     "output_type": "stream",
     "text": [
      "/var/folders/0r/6nwh7td129301__r2brydjn00000gn/T/ipykernel_79096/485854253.py:2: SettingWithCopyWarning: \n",
      "A value is trying to be set on a copy of a slice from a DataFrame.\n",
      "Try using .loc[row_indexer,col_indexer] = value instead\n",
      "\n",
      "See the caveats in the documentation: https://pandas.pydata.org/pandas-docs/stable/user_guide/indexing.html#returning-a-view-versus-a-copy\n",
      "  data2['Profit_perc'] = data2['Profit']/data2['Total_Price']*100\n"
     ]
    }
   ],
   "source": [
    "data2 = data[['Model_Name','laptop_weight','Branch','RAM','year','day','month','Order_Priority','Discount','Total_Price','Profit','Quantity']]\n",
    "data2['Profit_perc'] = data2['Profit']/data2['Total_Price']*100\n",
    "data2 = pd.get_dummies(data2,columns=['Branch','Model_Name','year','month','day','Order_Priority'],drop_first=True)\n",
    "\n",
    "\n"
   ]
  },
  {
   "cell_type": "code",
   "execution_count": 33,
   "metadata": {},
   "outputs": [
    {
     "data": {
      "text/html": [
       "<style>#sk-container-id-2 {color: black;}#sk-container-id-2 pre{padding: 0;}#sk-container-id-2 div.sk-toggleable {background-color: white;}#sk-container-id-2 label.sk-toggleable__label {cursor: pointer;display: block;width: 100%;margin-bottom: 0;padding: 0.3em;box-sizing: border-box;text-align: center;}#sk-container-id-2 label.sk-toggleable__label-arrow:before {content: \"▸\";float: left;margin-right: 0.25em;color: #696969;}#sk-container-id-2 label.sk-toggleable__label-arrow:hover:before {color: black;}#sk-container-id-2 div.sk-estimator:hover label.sk-toggleable__label-arrow:before {color: black;}#sk-container-id-2 div.sk-toggleable__content {max-height: 0;max-width: 0;overflow: hidden;text-align: left;background-color: #f0f8ff;}#sk-container-id-2 div.sk-toggleable__content pre {margin: 0.2em;color: black;border-radius: 0.25em;background-color: #f0f8ff;}#sk-container-id-2 input.sk-toggleable__control:checked~div.sk-toggleable__content {max-height: 200px;max-width: 100%;overflow: auto;}#sk-container-id-2 input.sk-toggleable__control:checked~label.sk-toggleable__label-arrow:before {content: \"▾\";}#sk-container-id-2 div.sk-estimator input.sk-toggleable__control:checked~label.sk-toggleable__label {background-color: #d4ebff;}#sk-container-id-2 div.sk-label input.sk-toggleable__control:checked~label.sk-toggleable__label {background-color: #d4ebff;}#sk-container-id-2 input.sk-hidden--visually {border: 0;clip: rect(1px 1px 1px 1px);clip: rect(1px, 1px, 1px, 1px);height: 1px;margin: -1px;overflow: hidden;padding: 0;position: absolute;width: 1px;}#sk-container-id-2 div.sk-estimator {font-family: monospace;background-color: #f0f8ff;border: 1px dotted black;border-radius: 0.25em;box-sizing: border-box;margin-bottom: 0.5em;}#sk-container-id-2 div.sk-estimator:hover {background-color: #d4ebff;}#sk-container-id-2 div.sk-parallel-item::after {content: \"\";width: 100%;border-bottom: 1px solid gray;flex-grow: 1;}#sk-container-id-2 div.sk-label:hover label.sk-toggleable__label {background-color: #d4ebff;}#sk-container-id-2 div.sk-serial::before {content: \"\";position: absolute;border-left: 1px solid gray;box-sizing: border-box;top: 0;bottom: 0;left: 50%;z-index: 0;}#sk-container-id-2 div.sk-serial {display: flex;flex-direction: column;align-items: center;background-color: white;padding-right: 0.2em;padding-left: 0.2em;position: relative;}#sk-container-id-2 div.sk-item {position: relative;z-index: 1;}#sk-container-id-2 div.sk-parallel {display: flex;align-items: stretch;justify-content: center;background-color: white;position: relative;}#sk-container-id-2 div.sk-item::before, #sk-container-id-2 div.sk-parallel-item::before {content: \"\";position: absolute;border-left: 1px solid gray;box-sizing: border-box;top: 0;bottom: 0;left: 50%;z-index: -1;}#sk-container-id-2 div.sk-parallel-item {display: flex;flex-direction: column;z-index: 1;position: relative;background-color: white;}#sk-container-id-2 div.sk-parallel-item:first-child::after {align-self: flex-end;width: 50%;}#sk-container-id-2 div.sk-parallel-item:last-child::after {align-self: flex-start;width: 50%;}#sk-container-id-2 div.sk-parallel-item:only-child::after {width: 0;}#sk-container-id-2 div.sk-dashed-wrapped {border: 1px dashed gray;margin: 0 0.4em 0.5em 0.4em;box-sizing: border-box;padding-bottom: 0.4em;background-color: white;}#sk-container-id-2 div.sk-label label {font-family: monospace;font-weight: bold;display: inline-block;line-height: 1.2em;}#sk-container-id-2 div.sk-label-container {text-align: center;}#sk-container-id-2 div.sk-container {/* jupyter's `normalize.less` sets `[hidden] { display: none; }` but bootstrap.min.css set `[hidden] { display: none !important; }` so we also need the `!important` here to be able to override the default hidden behavior on the sphinx rendered scikit-learn.org. See: https://github.com/scikit-learn/scikit-learn/issues/21755 */display: inline-block !important;position: relative;}#sk-container-id-2 div.sk-text-repr-fallback {display: none;}</style><div id=\"sk-container-id-2\" class=\"sk-top-container\"><div class=\"sk-text-repr-fallback\"><pre>LinearRegression()</pre><b>In a Jupyter environment, please rerun this cell to show the HTML representation or trust the notebook. <br />On GitHub, the HTML representation is unable to render, please try loading this page with nbviewer.org.</b></div><div class=\"sk-container\" hidden><div class=\"sk-item\"><div class=\"sk-estimator sk-toggleable\"><input class=\"sk-toggleable__control sk-hidden--visually\" id=\"sk-estimator-id-2\" type=\"checkbox\" checked><label for=\"sk-estimator-id-2\" class=\"sk-toggleable__label sk-toggleable__label-arrow\">LinearRegression</label><div class=\"sk-toggleable__content\"><pre>LinearRegression()</pre></div></div></div></div></div>"
      ],
      "text/plain": [
       "LinearRegression()"
      ]
     },
     "execution_count": 33,
     "metadata": {},
     "output_type": "execute_result"
    }
   ],
   "source": [
    "from sklearn.linear_model import LinearRegression\n",
    "from sklearn.model_selection import train_test_split\n",
    "from sklearn.preprocessing import StandardScaler\n",
    "\n",
    "X = data2.drop(['Quantity','Profit','Profit_perc','Total_Price'], axis=1)\n",
    "y = data2['Quantity']\n",
    "\n",
    "\n",
    "x_train,x_test , y_train,y_test = train_test_split(X,y, test_size=.2, random_state=313)\n",
    "\n",
    "model = LinearRegression()\n",
    "model.fit(x_train,y_train)"
   ]
  },
  {
   "cell_type": "markdown",
   "metadata": {},
   "source": [
    "حال سراغ روش اصلی می‌رویم و آزمون فرض را تفسیر می‌کنیم:"
   ]
  },
  {
   "cell_type": "code",
   "execution_count": 53,
   "metadata": {},
   "outputs": [
    {
     "data": {
      "text/plain": [
       "TtestResult(statistic=-1.0056762165353774, pvalue=0.31457158677973424, df=1017079.0)"
      ]
     },
     "execution_count": 53,
     "metadata": {},
     "output_type": "execute_result"
    }
   ],
   "source": [
    "t1_final = ttest_ind(data2_disc['Quantity'],data2_nodisc['Quantity'])\n",
    "t1_final\n"
   ]
  },
  {
   "cell_type": "markdown",
   "metadata": {},
   "source": [
    "پس مشاهده می‌شود که درست بودن آزمون فرض در سطح ۱ درصدی هم رد می‌شود و نمی‌توانیم ادعا کنم حالت تخفیف‌دار وو بدون تخفیف یکی است!"
   ]
  },
  {
   "cell_type": "code",
   "execution_count": 56,
   "metadata": {},
   "outputs": [
    {
     "data": {
      "text/plain": [
       "TtestResult(statistic=-0.26237771731087506, pvalue=0.7930303091667252, df=914768.0)"
      ]
     },
     "execution_count": 56,
     "metadata": {},
     "output_type": "execute_result"
    }
   ],
   "source": [
    "t02_final = ttest_ind(data_disc_2['Quantity'],data2_nodisc['Quantity'])\n",
    "t02_final"
   ]
  },
  {
   "cell_type": "markdown",
   "metadata": {},
   "source": []
  },
  {
   "cell_type": "markdown",
   "metadata": {},
   "source": [
    "D 3:"
   ]
  },
  {
   "cell_type": "markdown",
   "metadata": {},
   "source": [
    "در این درخواست به دنبال آن هستیم که اثر تخفیف دادن بر سود سایت را بررسی کنیم. ابتدا از همان روشی که در ابتدای درخواست ۲ استفاده کردیم استفاده می‌کنیم یعنی تعداد فروش بدون تخفیف و با تخفیف هر مدل را بررسی می‌کنیم:"
   ]
  },
  {
   "cell_type": "markdown",
   "metadata": {},
   "source": [
    "هم برای مقدار سود و هم برای درصد سود فروش این مساله را آزمون می‌کنیم:"
   ]
  },
  {
   "cell_type": "code",
   "execution_count": 57,
   "metadata": {},
   "outputs": [
    {
     "name": "stdout",
     "output_type": "stream",
     "text": [
      "TtestResult(statistic=-12.275477740141888, pvalue=9.17147755522256e-33, df=1234.0)\n",
      "TtestResult(statistic=-11.891065991547686, pvalue=6.003693128974194e-31, df=1234.0)\n"
     ]
    }
   ],
   "source": [
    "t1_prof = ttest_ind(data_disc_quan['Profit'],data_nodisc_quan['Profit'])\n",
    "t1_prof_perc = ttest_ind(data_disc_quan['Profit_perc'],data_nodisc_quan['Profit_perc'])\n",
    "\n",
    "print(t1_prof)\n",
    "print(t1_prof_perc)\n"
   ]
  },
  {
   "cell_type": "markdown",
   "metadata": {},
   "source": [
    "در این حالت که البته دارای اشکال است، نمی‌توانیم فرض صفر را رد کنیم. یعنی در واقع شاهدی بر یکسان‌بودن و بی‌تفاوت‌بودن حالت با تخفیف و بدون آن است"
   ]
  },
  {
   "cell_type": "markdown",
   "metadata": {},
   "source": [
    "مشابه درخواست‌ ۲ در اینجا هم آزمون فرض را بین حالت بدون تخفیف و تمامی مقادیر تخفیف بررسی می‌کنیم"
   ]
  },
  {
   "cell_type": "code",
   "execution_count": 59,
   "metadata": {},
   "outputs": [],
   "source": [
    "t02_prof = ttest_ind(data_nodisc_quan['Profit'],data_disc_2_quan['Profit'])\n",
    "t03_prof = ttest_ind(data_nodisc_quan['Profit'],data_disc_3_quan['Profit'])\n",
    "t05_prof = ttest_ind(data_nodisc_quan['Profit'],data_disc_5_quan['Profit'])\n",
    "t07_prof = ttest_ind(data_nodisc_quan['Profit'],data_disc_7_quan['Profit'])\n",
    "t09_prof = ttest_ind(data_nodisc_quan['Profit'],data_disc_9_quan['Profit'])\n",
    "\n",
    "t02_prof_perc = ttest_ind(data_nodisc_quan['Profit_perc'],data_disc_2_quan['Profit_perc'])\n",
    "t03_prof_perc = ttest_ind(data_nodisc_quan['Profit_perc'],data_disc_3_quan['Profit_perc'])\n",
    "t05_prof_perc = ttest_ind(data_nodisc_quan['Profit_perc'],data_disc_5_quan['Profit_perc'])\n",
    "t07_prof_perc = ttest_ind(data_nodisc_quan['Profit_perc'],data_disc_7_quan['Profit_perc'])\n",
    "t09_prof_perc = ttest_ind(data_nodisc_quan['Profit_perc'],data_disc_9_quan['Profit_perc'])"
   ]
  },
  {
   "cell_type": "code",
   "execution_count": 60,
   "metadata": {},
   "outputs": [
    {
     "name": "stdout",
     "output_type": "stream",
     "text": [
      "TtestResult(statistic=14.582778005239044, pvalue=1.5212232570426154e-44, df=1228.0)\n",
      "TtestResult(statistic=14.25151814409053, pvalue=9.214492278868331e-43, df=1228.0)\n"
     ]
    }
   ],
   "source": [
    "print(t07_prof)\n",
    "print(t07_prof_perc)"
   ]
  },
  {
   "cell_type": "markdown",
   "metadata": {},
   "source": [
    "اما در اینجا هم مشابه درخواست قبلی لزوما تخفیف بر میزان خرید اثر گذار نیست بلکه ممکن است فروشنده بسته به شرایط تصمیم بگیرد چه تعداد لپتاپ را بدون تخفیف عرضه کند و چه مقدار را با تخفیف بدهد و به صورت کلی در ارائه تخفیف محدودیت وجود دارد. پس بدون جمع بستن روی تعداد هر مدل، اینها را مقایسه کرد"
   ]
  },
  {
   "cell_type": "code",
   "execution_count": 62,
   "metadata": {},
   "outputs": [
    {
     "data": {
      "text/plain": [
       "TtestResult(statistic=-11.75207721510755, pvalue=6.923241565492864e-32, df=1017079.0)"
      ]
     },
     "execution_count": 62,
     "metadata": {},
     "output_type": "execute_result"
    }
   ],
   "source": [
    "t1_final_prof = ttest_ind(data_disc['Profit'],data2_nodisc['Profit'])\n",
    "t1_final_prof\n"
   ]
  },
  {
   "cell_type": "markdown",
   "metadata": {},
   "source": []
  },
  {
   "cell_type": "code",
   "execution_count": 63,
   "metadata": {},
   "outputs": [
    {
     "data": {
      "text/plain": [
       "TtestResult(statistic=-1.3467962906869453, pvalue=0.1780461498118841, df=1017079.0)"
      ]
     },
     "execution_count": 63,
     "metadata": {},
     "output_type": "execute_result"
    }
   ],
   "source": [
    "t1_final_profperc = ttest_ind(data2_disc['Profit_perc'],data2_nodisc['Profit_perc'])\n",
    "t1_final_profperc"
   ]
  },
  {
   "cell_type": "markdown",
   "metadata": {},
   "source": [
    "در نتیجه برای مقدار تخفیف مساوی‌بودن دو حالت را نمی‌توان رد کرد و نمی‌توان ادعایی بر اثرگذاری تخفیف بر سود داشت. ولی برای درصد سود می‌توان در سطح ۱ درصد یکسان‌بودن حالت تخفیف‌دار و بدون تخفیف را رد کرد. پس درصد سود متفاوت می‌شود"
   ]
  },
  {
   "cell_type": "code",
   "execution_count": null,
   "metadata": {},
   "outputs": [],
   "source": []
  },
  {
   "cell_type": "markdown",
   "metadata": {},
   "source": []
  }
 ],
 "metadata": {
  "kernelspec": {
   "display_name": "base",
   "language": "python",
   "name": "python3"
  },
  "language_info": {
   "codemirror_mode": {
    "name": "ipython",
    "version": 3
   },
   "file_extension": ".py",
   "mimetype": "text/x-python",
   "name": "python",
   "nbconvert_exporter": "python",
   "pygments_lexer": "ipython3",
   "version": "3.11.4"
  },
  "orig_nbformat": 4
 },
 "nbformat": 4,
 "nbformat_minor": 2
}
