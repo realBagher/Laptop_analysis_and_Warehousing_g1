{
 "cells": [
  {
   "cell_type": "markdown",
   "source": [],
   "metadata": {
    "collapsed": false
   },
   "id": "335b8463edb0e721"
  },
  {
   "cell_type": "code",
   "execution_count": 1,
   "id": "initial_id",
   "metadata": {
    "collapsed": true,
    "ExecuteTime": {
     "end_time": "2023-10-27T11:54:36.758200Z",
     "start_time": "2023-10-27T11:54:36.737019Z"
    }
   },
   "outputs": [],
   "source": [
    "import mysql.connector\n",
    "from mysql.connector import Error"
   ]
  },
  {
   "cell_type": "code",
   "execution_count": 2,
   "outputs": [],
   "source": [
    "def create_connection(host, user, password):\n",
    "    try:\n",
    "        connection = mysql.connector.connect(\n",
    "            host=host,\n",
    "            user=user,\n",
    "            password=password,\n",
    "        )\n",
    "        if connection.is_connected():\n",
    "            print(f'Connected to MySQL database')\n",
    "            return connection\n",
    "    except Error as e:\n",
    "        print(f'Error: {e}')\n",
    "        return None"
   ],
   "metadata": {
    "collapsed": false,
    "ExecuteTime": {
     "end_time": "2023-10-27T11:54:37.285852Z",
     "start_time": "2023-10-27T11:54:37.263571Z"
    }
   },
   "id": "126b6e1fe422ed50"
  },
  {
   "cell_type": "code",
   "execution_count": 3,
   "outputs": [],
   "source": [
    "db_host = 'localhost'\n",
    "db_user = 'root'\n",
    "db_password = 'your_password'"
   ],
   "metadata": {
    "collapsed": false,
    "ExecuteTime": {
     "end_time": "2023-10-27T11:54:37.932497Z",
     "start_time": "2023-10-27T11:54:37.928702Z"
    }
   },
   "id": "cf1b9444d0d1793c"
  },
  {
   "cell_type": "code",
   "execution_count": 4,
   "outputs": [
    {
     "name": "stdout",
     "output_type": "stream",
     "text": [
      "Connected to MySQL database\n"
     ]
    }
   ],
   "source": [
    "connection = create_connection(db_host, db_user, db_password)\n",
    "cursor = connection.cursor()"
   ],
   "metadata": {
    "collapsed": false,
    "ExecuteTime": {
     "end_time": "2023-10-27T11:54:38.452564Z",
     "start_time": "2023-10-27T11:54:38.403979Z"
    }
   },
   "id": "94f69ce81e02ea44"
  },
  {
   "cell_type": "code",
   "execution_count": 10,
   "outputs": [],
   "source": [
    "cursor.execute('create database if not exists meghdad_db')"
   ],
   "metadata": {
    "collapsed": false,
    "ExecuteTime": {
     "end_time": "2023-10-24T16:28:28.232010Z",
     "start_time": "2023-10-24T16:28:28.209994Z"
    }
   },
   "id": "4c3d3efc30fbfff3"
  },
  {
   "cell_type": "code",
   "execution_count": 6,
   "outputs": [],
   "source": [
    "cursor.execute('USE meghdad_db')"
   ],
   "metadata": {
    "collapsed": false,
    "ExecuteTime": {
     "end_time": "2023-10-27T11:54:50.567850Z",
     "start_time": "2023-10-27T11:54:50.536419Z"
    }
   },
   "id": "b4e4186f5f82ab2f"
  },
  {
   "cell_type": "code",
   "execution_count": 12,
   "outputs": [],
   "source": [
    "cursor.execute('CREATE TABLE manufacture (id INT AUTO_INCREMENT PRIMARY KEY, man_nam VARCHAR(255))')"
   ],
   "metadata": {
    "collapsed": false,
    "ExecuteTime": {
     "end_time": "2023-10-24T16:44:48.199802Z",
     "start_time": "2023-10-24T16:44:48.065150Z"
    }
   },
   "id": "6d45752a8b437852"
  },
  {
   "cell_type": "code",
   "execution_count": 15,
   "outputs": [],
   "source": [
    "cursor.execute('CREATE TABLE screen_type (id INT AUTO_INCREMENT PRIMARY KEY, screen_type VARCHAR(255))')"
   ],
   "metadata": {
    "collapsed": false,
    "ExecuteTime": {
     "end_time": "2023-10-24T16:47:53.718992Z",
     "start_time": "2023-10-24T16:47:53.669507Z"
    }
   },
   "id": "b69360abef62087d"
  },
  {
   "cell_type": "code",
   "execution_count": 16,
   "outputs": [],
   "source": [
    "cursor.execute('CREATE TABLE resolution (id INT AUTO_INCREMENT PRIMARY KEY, screen_x INT, screen_y INT)')"
   ],
   "metadata": {
    "collapsed": false,
    "ExecuteTime": {
     "end_time": "2023-10-24T16:48:24.338829Z",
     "start_time": "2023-10-24T16:48:24.312532Z"
    }
   },
   "id": "48d7668b6a0a7124"
  },
  {
   "cell_type": "code",
   "execution_count": 17,
   "outputs": [],
   "source": [
    "cursor.execute('CREATE TABLE ram_type (id INT AUTO_INCREMENT PRIMARY KEY, ram_name VARCHAR(10))')"
   ],
   "metadata": {
    "collapsed": false,
    "ExecuteTime": {
     "end_time": "2023-10-24T16:49:02.875344Z",
     "start_time": "2023-10-24T16:49:02.827324Z"
    }
   },
   "id": "f088ce79be0edcbf"
  },
  {
   "cell_type": "code",
   "execution_count": 18,
   "outputs": [],
   "source": [
    "cursor.execute('CREATE TABLE gpu_model (id INT AUTO_INCREMENT PRIMARY KEY, gpu_name VARCHAR(255))')"
   ],
   "metadata": {
    "collapsed": false,
    "ExecuteTime": {
     "end_time": "2023-10-24T16:49:50.896580Z",
     "start_time": "2023-10-24T16:49:50.838132Z"
    }
   },
   "id": "38732897d1322331"
  },
  {
   "cell_type": "code",
   "execution_count": 19,
   "outputs": [],
   "source": [
    "cursor.execute('CREATE TABLE category (id INT AUTO_INCREMENT PRIMARY KEY, category_name VARCHAR(255))')"
   ],
   "metadata": {
    "collapsed": false,
    "ExecuteTime": {
     "end_time": "2023-10-24T16:57:59.468969Z",
     "start_time": "2023-10-24T16:57:59.335697Z"
    }
   },
   "id": "99b2f8b9148a62aa"
  },
  {
   "cell_type": "code",
   "execution_count": 7,
   "outputs": [],
   "source": [
    "cursor.execute('CREATE TABLE size (id INT AUTO_INCREMENT PRIMARY KEY, size VARCHAR(255))')"
   ],
   "metadata": {
    "collapsed": false,
    "ExecuteTime": {
     "end_time": "2023-10-27T11:54:52.704465Z",
     "start_time": "2023-10-27T11:54:52.672370Z"
    }
   },
   "id": "694e1270c42bc3a4"
  },
  {
   "cell_type": "code",
   "execution_count": 21,
   "outputs": [],
   "source": [
    "cursor.execute('CREATE TABLE cpu_manufacture (id INT AUTO_INCREMENT PRIMARY KEY, cpu_man VARCHAR(10))')"
   ],
   "metadata": {
    "collapsed": false,
    "ExecuteTime": {
     "end_time": "2023-10-24T16:59:51.053997Z",
     "start_time": "2023-10-24T16:59:51.014643Z"
    }
   },
   "id": "cb7f08c212ebb14a"
  },
  {
   "cell_type": "code",
   "execution_count": 22,
   "outputs": [],
   "source": [
    "cursor.execute('CREATE TABLE cpu_series (id INT AUTO_INCREMENT PRIMARY KEY, cpu_series VARCHAR(60))')"
   ],
   "metadata": {
    "collapsed": false,
    "ExecuteTime": {
     "end_time": "2023-10-24T17:00:29.706970Z",
     "start_time": "2023-10-24T17:00:29.678331Z"
    }
   },
   "id": "43314cb0e271ad8c"
  },
  {
   "cell_type": "code",
   "execution_count": 23,
   "outputs": [],
   "source": [
    "cursor.execute('CREATE TABLE cpu_model (id INT AUTO_INCREMENT PRIMARY KEY, cpu_name VARCHAR(255))')"
   ],
   "metadata": {
    "collapsed": false,
    "ExecuteTime": {
     "end_time": "2023-10-24T17:00:58.375179Z",
     "start_time": "2023-10-24T17:00:58.347245Z"
    }
   },
   "id": "c3ac4a4027ce52a4"
  },
  {
   "cell_type": "code",
   "execution_count": 24,
   "outputs": [],
   "source": [
    "cursor.execute('CREATE TABLE gpu_manufacture (id INT AUTO_INCREMENT PRIMARY KEY, gpu_man VARCHAR(255))')"
   ],
   "metadata": {
    "collapsed": false,
    "ExecuteTime": {
     "end_time": "2023-10-24T17:01:12.029702Z",
     "start_time": "2023-10-24T17:01:11.989912Z"
    }
   },
   "id": "860bd4a078b7031d"
  },
  {
   "cell_type": "code",
   "execution_count": 25,
   "outputs": [],
   "source": [
    "cursor.execute('CREATE TABLE storage (id INT AUTO_INCREMENT PRIMARY KEY, storage_name VARCHAR(10))')"
   ],
   "metadata": {
    "collapsed": false,
    "ExecuteTime": {
     "end_time": "2023-10-24T17:01:32.174855Z",
     "start_time": "2023-10-24T17:01:32.137713Z"
    }
   },
   "id": "6d3f6d6726a9d450"
  },
  {
   "cell_type": "code",
   "execution_count": 10,
   "outputs": [],
   "source": [
    "cursor.execute('CREATE TABLE laptop (\\\n",
    "                     laptop_id INT AUTO_INCREMENT PRIMARY KEY ,\\\n",
    "                     manufacturer_id INT,\\\n",
    "                     type_id INT,\\\n",
    "                     size_id INT ,\\\n",
    "                     screen_type_id INT,\\\n",
    "                     resolution_id INT,\\\n",
    "                     cpu_man_id INT,\\\n",
    "                     cpu_series_id INT,\\\n",
    "                     cpu_model_id INT,\\\n",
    "                     ram_type_id INT,\\\n",
    "                     gpu_man_id INT,\\\n",
    "                     gpu_model_id INT,\\\n",
    "                     name VARCHAR(255),\\\n",
    "                     ename VARCHAR(255),\\\n",
    "                     aprice INT,\\\n",
    "                     sprice INT,\\\n",
    "                     weight INT,\\\n",
    "                     screen_size INT,\\\n",
    "                     cpu_frequncy INT,\\\n",
    "                     cache_memory INT,\\\n",
    "                     ram INT,\\\n",
    "                     hard_disk INT,\\\n",
    "                     graphic_memory INT,\\\n",
    "                     FOREIGN KEY (manufacturer_id) REFERENCES manufacture(id),\\\n",
    "                     FOREIGN KEY (type_id) REFERENCES category(id),\\\n",
    "                     FOREIGN KEY (size_id) REFERENCES screen_type(id),\\\n",
    "                     FOREIGN KEY (screen_type_id) REFERENCES screen_type(id),\\\n",
    "                     FOREIGN KEY (resolution_id) REFERENCES resolution(id),\\\n",
    "                     FOREIGN KEY (cpu_man_id) REFERENCES cpu_manufacture(id),\\\n",
    "                     FOREIGN KEY (cpu_series_id) REFERENCES cpu_series(id),\\\n",
    "                     FOREIGN KEY (cpu_model_id) REFERENCES cpu_model(id),\\\n",
    "                     FOREIGN KEY (ram_type_id) REFERENCES ram_type(id),\\\n",
    "                     FOREIGN KEY (gpu_man_id) REFERENCES gpu_manufacture(id),\\\n",
    "                     FOREIGN KEY (gpu_model_id) REFERENCES gpu_model(id)\\\n",
    "                 )')"
   ],
   "metadata": {
    "collapsed": false,
    "ExecuteTime": {
     "end_time": "2023-10-26T13:03:35.489113Z",
     "start_time": "2023-10-26T13:03:35.285291Z"
    }
   },
   "id": "271e4e0885020c55"
  },
  {
   "cell_type": "code",
   "execution_count": 11,
   "outputs": [],
   "source": [
    "cursor.execute('CREATE TABLE laptop_storage (\\\n",
    "                     laptop_id INT,\\\n",
    "                     storage_id INT,\\\n",
    "                     FOREIGN KEY (laptop_id) REFERENCES laptop(laptop_id),\\\n",
    "                     FOREIGN KEY (storage_id) REFERENCES storage(id)\\\n",
    "                 )')"
   ],
   "metadata": {
    "collapsed": false,
    "ExecuteTime": {
     "end_time": "2023-10-26T13:04:24.857767Z",
     "start_time": "2023-10-26T13:04:24.803528Z"
    }
   },
   "id": "d7d1900e830e405"
  },
  {
   "cell_type": "code",
   "execution_count": null,
   "outputs": [],
   "source": [],
   "metadata": {
    "collapsed": false
   },
   "id": "4372b31205292e50"
  }
 ],
 "metadata": {
  "kernelspec": {
   "display_name": "Python 3",
   "language": "python",
   "name": "python3"
  },
  "language_info": {
   "codemirror_mode": {
    "name": "ipython",
    "version": 2
   },
   "file_extension": ".py",
   "mimetype": "text/x-python",
   "name": "python",
   "nbconvert_exporter": "python",
   "pygments_lexer": "ipython2",
   "version": "2.7.6"
  }
 },
 "nbformat": 4,
 "nbformat_minor": 5
}
