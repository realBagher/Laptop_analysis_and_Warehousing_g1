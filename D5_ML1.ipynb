{
 "cells": [
  {
   "cell_type": "code",
   "execution_count": 180,
   "metadata": {},
   "outputs": [],
   "source": [
    "import pandas as pd\n",
    "import numpy as np"
   ]
  },
  {
   "cell_type": "markdown",
   "metadata": {},
   "source": [
    "درخواست ۵:"
   ]
  },
  {
   "cell_type": "markdown",
   "metadata": {},
   "source": [
    "در اینجا به دنبال آن هستیم تا با یادگیری از داده‌های موجود مدلی بسازیم که با در اختیار داشتن مشخصات و ویژگی‌های هر لپتاپ، قیمت آن در بازار را پیش‌بینی کند. برای این منظور از چند منظر و چند روش کار می‌کنیم. ابتدا داده‌هایی کنونی لپتاپ را که از سایت مقداد آی‌تی دریافت کرده‌ایم را می‌خوانیم و براساس ویژگی‌ها و قیمت‌های موجود در آن یک مدل رگرسیون را آموزش می‌دهیم. چالش اصلی این داده، تعداد محدود آن برای یادگیری مناسب مدل است. در ادامه به نحوی که در ادامه می‌آید قیمت‌های داده اصلی را حقیقی و تبدیل به قیمت معادل ۱۴۰۰ می‌کنیم و سپس با استفاده از آن داده که داده‌ای بزرگ و غنی و مربوط به خود لوتک است، مدل یادگیری دیگری می‌سازیم. "
   ]
  },
  {
   "cell_type": "code",
   "execution_count": 181,
   "metadata": {},
   "outputs": [],
   "source": [
    "megh_data = pd.read_csv('Laptops_final.csv')\n"
   ]
  },
  {
   "cell_type": "code",
   "execution_count": 182,
   "metadata": {},
   "outputs": [
    {
     "data": {
      "text/plain": [
       "Index(['manufactor', 'name', 'ename', 'aprice', 'sprice', 'laptop_size',\n",
       "       'laptop_weight', 'laptop_type', 'Screen_size', 'Screen_type',\n",
       "       'Screen_resolution', 'CPU_manufacturer', 'CPU_series', 'CPU_model',\n",
       "       'CPU_frequency', 'cache_memory', 'RAM', 'RAM_type', 'hard_disk',\n",
       "       'internal_memory', 'graphic_manufacturer', 'graphic_model',\n",
       "       'graphic_memory', 'Laptop_id'],\n",
       "      dtype='object')"
      ]
     },
     "execution_count": 182,
     "metadata": {},
     "output_type": "execute_result"
    }
   ],
   "source": [
    "megh_data.columns"
   ]
  },
  {
   "cell_type": "code",
   "execution_count": 149,
   "metadata": {},
   "outputs": [
    {
     "data": {
      "text/plain": [
       "0"
      ]
     },
     "execution_count": 149,
     "metadata": {},
     "output_type": "execute_result"
    }
   ],
   "source": [
    "megh_data['RAM'] = megh_data.RAM.str.split(\" \",expand=True)[0]\n",
    "megh_data['RAM'] = megh_data['RAM'].astype(float)\n",
    "megh_data['CPU_frequency'] = megh_data.CPU_frequency.str.split(\" \",expand=True)[0]\n",
    "megh_data['CPU_frequency'] = megh_data['CPU_frequency'].astype(float)\n",
    "megh_data['CPU_frequency'].fillna(megh_data['CPU_frequency'].notnull().mean(),inplace=True)\n",
    "megh_data['hard_disk'] = megh_data.hard_disk.str.split(\" \",expand=True)[0]\n",
    "megh_data.drop(index=megh_data[megh_data['hard_disk']=='SATA'].index,inplace=True)\n",
    "megh_data['hard_disk'] = megh_data['hard_disk'].astype(float)\n",
    "\n",
    "megh_data['graphic_memory'] = megh_data.graphic_memory.str.split(\" \",expand=True)[0]\n",
    "megh_data['graphic_memory'] = megh_data['graphic_memory'].astype(float)\n",
    "megh_data['graphic_memory'].fillna(megh_data['graphic_memory'].notnull().mean(),inplace=True)\n",
    "megh_data['graphic_memory'].isnull().sum()\n"
   ]
  },
  {
   "cell_type": "markdown",
   "metadata": {},
   "source": [
    "1-"
   ]
  },
  {
   "cell_type": "markdown",
   "metadata": {},
   "source": [
    "الگوریتم رگرسیون خطی بر روی داده‌های مقداد آی‌تی:"
   ]
  },
  {
   "cell_type": "code",
   "execution_count": 150,
   "metadata": {},
   "outputs": [],
   "source": [
    "train_megh_data = megh_data[['aprice','sprice','manufactor','laptop_weight','graphic_memory','CPU_manufacturer','RAM','graphic_manufacturer','Screen_resolution','Screen_size','CPU_frequency','hard_disk']]\n",
    "train_megh_data = pd.get_dummies(train_megh_data,columns=['manufactor','CPU_manufacturer','Screen_resolution','graphic_manufacturer'],drop_first=True)\n",
    "\n"
   ]
  },
  {
   "cell_type": "code",
   "execution_count": 151,
   "metadata": {},
   "outputs": [],
   "source": [
    "from sklearn.linear_model import LinearRegression\n",
    "\n",
    "from sklearn.model_selection import train_test_split\n",
    "from sklearn.preprocessing import StandardScaler\n",
    "\n",
    "X = train_megh_data.drop(['sprice','aprice'], axis=1)\n",
    "y = train_megh_data['aprice']\n",
    "\n",
    "x_train,x_test , y_train,y_test = train_test_split(X,y, test_size=.2, random_state=313)"
   ]
  },
  {
   "cell_type": "code",
   "execution_count": 152,
   "metadata": {},
   "outputs": [],
   "source": [
    "stan_scaler = StandardScaler()\n",
    "x_train = stan_scaler.fit_transform(x_train)"
   ]
  },
  {
   "cell_type": "code",
   "execution_count": 153,
   "metadata": {},
   "outputs": [
    {
     "data": {
      "text/html": [
       "<style>#sk-container-id-16 {color: black;}#sk-container-id-16 pre{padding: 0;}#sk-container-id-16 div.sk-toggleable {background-color: white;}#sk-container-id-16 label.sk-toggleable__label {cursor: pointer;display: block;width: 100%;margin-bottom: 0;padding: 0.3em;box-sizing: border-box;text-align: center;}#sk-container-id-16 label.sk-toggleable__label-arrow:before {content: \"▸\";float: left;margin-right: 0.25em;color: #696969;}#sk-container-id-16 label.sk-toggleable__label-arrow:hover:before {color: black;}#sk-container-id-16 div.sk-estimator:hover label.sk-toggleable__label-arrow:before {color: black;}#sk-container-id-16 div.sk-toggleable__content {max-height: 0;max-width: 0;overflow: hidden;text-align: left;background-color: #f0f8ff;}#sk-container-id-16 div.sk-toggleable__content pre {margin: 0.2em;color: black;border-radius: 0.25em;background-color: #f0f8ff;}#sk-container-id-16 input.sk-toggleable__control:checked~div.sk-toggleable__content {max-height: 200px;max-width: 100%;overflow: auto;}#sk-container-id-16 input.sk-toggleable__control:checked~label.sk-toggleable__label-arrow:before {content: \"▾\";}#sk-container-id-16 div.sk-estimator input.sk-toggleable__control:checked~label.sk-toggleable__label {background-color: #d4ebff;}#sk-container-id-16 div.sk-label input.sk-toggleable__control:checked~label.sk-toggleable__label {background-color: #d4ebff;}#sk-container-id-16 input.sk-hidden--visually {border: 0;clip: rect(1px 1px 1px 1px);clip: rect(1px, 1px, 1px, 1px);height: 1px;margin: -1px;overflow: hidden;padding: 0;position: absolute;width: 1px;}#sk-container-id-16 div.sk-estimator {font-family: monospace;background-color: #f0f8ff;border: 1px dotted black;border-radius: 0.25em;box-sizing: border-box;margin-bottom: 0.5em;}#sk-container-id-16 div.sk-estimator:hover {background-color: #d4ebff;}#sk-container-id-16 div.sk-parallel-item::after {content: \"\";width: 100%;border-bottom: 1px solid gray;flex-grow: 1;}#sk-container-id-16 div.sk-label:hover label.sk-toggleable__label {background-color: #d4ebff;}#sk-container-id-16 div.sk-serial::before {content: \"\";position: absolute;border-left: 1px solid gray;box-sizing: border-box;top: 0;bottom: 0;left: 50%;z-index: 0;}#sk-container-id-16 div.sk-serial {display: flex;flex-direction: column;align-items: center;background-color: white;padding-right: 0.2em;padding-left: 0.2em;position: relative;}#sk-container-id-16 div.sk-item {position: relative;z-index: 1;}#sk-container-id-16 div.sk-parallel {display: flex;align-items: stretch;justify-content: center;background-color: white;position: relative;}#sk-container-id-16 div.sk-item::before, #sk-container-id-16 div.sk-parallel-item::before {content: \"\";position: absolute;border-left: 1px solid gray;box-sizing: border-box;top: 0;bottom: 0;left: 50%;z-index: -1;}#sk-container-id-16 div.sk-parallel-item {display: flex;flex-direction: column;z-index: 1;position: relative;background-color: white;}#sk-container-id-16 div.sk-parallel-item:first-child::after {align-self: flex-end;width: 50%;}#sk-container-id-16 div.sk-parallel-item:last-child::after {align-self: flex-start;width: 50%;}#sk-container-id-16 div.sk-parallel-item:only-child::after {width: 0;}#sk-container-id-16 div.sk-dashed-wrapped {border: 1px dashed gray;margin: 0 0.4em 0.5em 0.4em;box-sizing: border-box;padding-bottom: 0.4em;background-color: white;}#sk-container-id-16 div.sk-label label {font-family: monospace;font-weight: bold;display: inline-block;line-height: 1.2em;}#sk-container-id-16 div.sk-label-container {text-align: center;}#sk-container-id-16 div.sk-container {/* jupyter's `normalize.less` sets `[hidden] { display: none; }` but bootstrap.min.css set `[hidden] { display: none !important; }` so we also need the `!important` here to be able to override the default hidden behavior on the sphinx rendered scikit-learn.org. See: https://github.com/scikit-learn/scikit-learn/issues/21755 */display: inline-block !important;position: relative;}#sk-container-id-16 div.sk-text-repr-fallback {display: none;}</style><div id=\"sk-container-id-16\" class=\"sk-top-container\"><div class=\"sk-text-repr-fallback\"><pre>LinearRegression()</pre><b>In a Jupyter environment, please rerun this cell to show the HTML representation or trust the notebook. <br />On GitHub, the HTML representation is unable to render, please try loading this page with nbviewer.org.</b></div><div class=\"sk-container\" hidden><div class=\"sk-item\"><div class=\"sk-estimator sk-toggleable\"><input class=\"sk-toggleable__control sk-hidden--visually\" id=\"sk-estimator-id-16\" type=\"checkbox\" checked><label for=\"sk-estimator-id-16\" class=\"sk-toggleable__label sk-toggleable__label-arrow\">LinearRegression</label><div class=\"sk-toggleable__content\"><pre>LinearRegression()</pre></div></div></div></div></div>"
      ],
      "text/plain": [
       "LinearRegression()"
      ]
     },
     "execution_count": 153,
     "metadata": {},
     "output_type": "execute_result"
    }
   ],
   "source": [
    "model = LinearRegression()\n",
    "model.fit(x_train,y_train)"
   ]
  },
  {
   "cell_type": "code",
   "execution_count": 154,
   "metadata": {},
   "outputs": [
    {
     "data": {
      "text/plain": [
       "0.005301087170150098"
      ]
     },
     "execution_count": 154,
     "metadata": {},
     "output_type": "execute_result"
    }
   ],
   "source": [
    "from sklearn.metrics import r2_score\n",
    "y_pred = model.predict(stan_scaler.transform(x_test))\n",
    "\n",
    "r2 = r2_score(y_test, y_pred)\n",
    "r2 "
   ]
  },
  {
   "cell_type": "code",
   "execution_count": 155,
   "metadata": {},
   "outputs": [
    {
     "name": "stdout",
     "output_type": "stream",
     "text": [
      "42587863.493619174\n",
      "77970313.92970426\n",
      "21065292.139531218\n",
      "41571272.62180974\n",
      "215249000\n",
      "10750000\n"
     ]
    }
   ],
   "source": [
    "print(y_pred.mean())\n",
    "print(y_pred.max())\n",
    "print(y_pred.min())\n",
    "\n",
    "print(y_test.mean())\n",
    "print(y_test.max())\n",
    "print(y_test.min())"
   ]
  },
  {
   "cell_type": "markdown",
   "metadata": {},
   "source": [
    "الگوریتم یادگیری دیگری را اجرا می‌کنیم که این بار به جای تخمین پیوسته قیمت لپتاپ بتواند سطح قیمتی لپتاپ را در یکی از سطوح چهارگانه از ارزان تا گران تشخیص دهد. سطح‌بندی چهارگانه قیمتی بر حسب چارک اول، دوم و سوم ساخته‌ می‌شود:"
   ]
  },
  {
   "cell_type": "code",
   "execution_count": 156,
   "metadata": {},
   "outputs": [],
   "source": [
    "megh_data = pd.read_csv('Laptops_final.csv')\n",
    "megh_data['RAM'] = megh_data.RAM.str.split(\" \",expand=True)[0]\n",
    "megh_data['RAM'] = megh_data['RAM'].astype(float)\n",
    "megh_data['CPU_frequency'] = megh_data.CPU_frequency.str.split(\" \",expand=True)[0]\n",
    "megh_data['CPU_frequency'] = megh_data['CPU_frequency'].astype(float)\n",
    "megh_data['CPU_frequency'].fillna(megh_data['CPU_frequency'].notnull().mean(),inplace=True)\n",
    "megh_data['hard_disk'] = megh_data.hard_disk.str.split(\" \",expand=True)[0]\n",
    "megh_data.drop(index=megh_data[megh_data['hard_disk']=='SATA'].index,inplace=True)\n",
    "megh_data['hard_disk'] = megh_data['hard_disk'].astype(float)"
   ]
  },
  {
   "cell_type": "code",
   "execution_count": 157,
   "metadata": {},
   "outputs": [
    {
     "name": "stdout",
     "output_type": "stream",
     "text": [
      "9566000.0\n",
      "20525000.0\n",
      "32399000.0\n",
      "51900000.0\n",
      "220014000.0\n"
     ]
    }
   ],
   "source": [
    "q0, q1, q2, q3, q4 = np.quantile(megh_data.aprice,q = [0,0.25, 0.5, 0.75,1])\n",
    "print(q0)\n",
    "print(q1)\n",
    "print(q2)\n",
    "print(q3)\n",
    "print(q4)"
   ]
  },
  {
   "cell_type": "code",
   "execution_count": 158,
   "metadata": {},
   "outputs": [],
   "source": [
    "megh_data['aprice_categ'] = pd.cut(megh_data['aprice'], [q0, q1, q2, q3, q4], \n",
    "                              labels=[1, 2, 3, 4])\n",
    "megh_data  = megh_data.drop('aprice',axis = 1)"
   ]
  },
  {
   "cell_type": "code",
   "execution_count": 159,
   "metadata": {},
   "outputs": [],
   "source": [
    "megh_data['sprice_categ'] = pd.cut(megh_data['sprice'], [q0, q1, q2, q3, q4], \n",
    "                              labels=['min-q1', 'q1-q2', 'q2-q3', 'q3-max'])\n",
    "megh_data  = megh_data.drop('sprice',axis = 1)"
   ]
  },
  {
   "cell_type": "code",
   "execution_count": 160,
   "metadata": {},
   "outputs": [],
   "source": [
    "train_megh_data = megh_data[['aprice_categ','sprice_categ','manufactor','laptop_weight','CPU_manufacturer','RAM','graphic_manufacturer','laptop_type','Screen_size','Screen_resolution','CPU_frequency','hard_disk']]\n",
    "train_megh_data = pd.get_dummies(train_megh_data,columns=['manufactor','CPU_manufacturer','graphic_manufacturer','laptop_type','Screen_resolution'],drop_first=True)\n",
    "\n",
    "train_megh_data.dropna(inplace=True)\n",
    "X = train_megh_data.drop(['sprice_categ','aprice_categ'], axis=1)\n",
    "y = train_megh_data['aprice_categ']\n",
    "x_train,x_test , y_train,y_test = train_test_split(X,y, test_size=.2, random_state=313)\n"
   ]
  },
  {
   "cell_type": "code",
   "execution_count": 161,
   "metadata": {},
   "outputs": [
    {
     "data": {
      "text/html": [
       "<style>#sk-container-id-17 {color: black;}#sk-container-id-17 pre{padding: 0;}#sk-container-id-17 div.sk-toggleable {background-color: white;}#sk-container-id-17 label.sk-toggleable__label {cursor: pointer;display: block;width: 100%;margin-bottom: 0;padding: 0.3em;box-sizing: border-box;text-align: center;}#sk-container-id-17 label.sk-toggleable__label-arrow:before {content: \"▸\";float: left;margin-right: 0.25em;color: #696969;}#sk-container-id-17 label.sk-toggleable__label-arrow:hover:before {color: black;}#sk-container-id-17 div.sk-estimator:hover label.sk-toggleable__label-arrow:before {color: black;}#sk-container-id-17 div.sk-toggleable__content {max-height: 0;max-width: 0;overflow: hidden;text-align: left;background-color: #f0f8ff;}#sk-container-id-17 div.sk-toggleable__content pre {margin: 0.2em;color: black;border-radius: 0.25em;background-color: #f0f8ff;}#sk-container-id-17 input.sk-toggleable__control:checked~div.sk-toggleable__content {max-height: 200px;max-width: 100%;overflow: auto;}#sk-container-id-17 input.sk-toggleable__control:checked~label.sk-toggleable__label-arrow:before {content: \"▾\";}#sk-container-id-17 div.sk-estimator input.sk-toggleable__control:checked~label.sk-toggleable__label {background-color: #d4ebff;}#sk-container-id-17 div.sk-label input.sk-toggleable__control:checked~label.sk-toggleable__label {background-color: #d4ebff;}#sk-container-id-17 input.sk-hidden--visually {border: 0;clip: rect(1px 1px 1px 1px);clip: rect(1px, 1px, 1px, 1px);height: 1px;margin: -1px;overflow: hidden;padding: 0;position: absolute;width: 1px;}#sk-container-id-17 div.sk-estimator {font-family: monospace;background-color: #f0f8ff;border: 1px dotted black;border-radius: 0.25em;box-sizing: border-box;margin-bottom: 0.5em;}#sk-container-id-17 div.sk-estimator:hover {background-color: #d4ebff;}#sk-container-id-17 div.sk-parallel-item::after {content: \"\";width: 100%;border-bottom: 1px solid gray;flex-grow: 1;}#sk-container-id-17 div.sk-label:hover label.sk-toggleable__label {background-color: #d4ebff;}#sk-container-id-17 div.sk-serial::before {content: \"\";position: absolute;border-left: 1px solid gray;box-sizing: border-box;top: 0;bottom: 0;left: 50%;z-index: 0;}#sk-container-id-17 div.sk-serial {display: flex;flex-direction: column;align-items: center;background-color: white;padding-right: 0.2em;padding-left: 0.2em;position: relative;}#sk-container-id-17 div.sk-item {position: relative;z-index: 1;}#sk-container-id-17 div.sk-parallel {display: flex;align-items: stretch;justify-content: center;background-color: white;position: relative;}#sk-container-id-17 div.sk-item::before, #sk-container-id-17 div.sk-parallel-item::before {content: \"\";position: absolute;border-left: 1px solid gray;box-sizing: border-box;top: 0;bottom: 0;left: 50%;z-index: -1;}#sk-container-id-17 div.sk-parallel-item {display: flex;flex-direction: column;z-index: 1;position: relative;background-color: white;}#sk-container-id-17 div.sk-parallel-item:first-child::after {align-self: flex-end;width: 50%;}#sk-container-id-17 div.sk-parallel-item:last-child::after {align-self: flex-start;width: 50%;}#sk-container-id-17 div.sk-parallel-item:only-child::after {width: 0;}#sk-container-id-17 div.sk-dashed-wrapped {border: 1px dashed gray;margin: 0 0.4em 0.5em 0.4em;box-sizing: border-box;padding-bottom: 0.4em;background-color: white;}#sk-container-id-17 div.sk-label label {font-family: monospace;font-weight: bold;display: inline-block;line-height: 1.2em;}#sk-container-id-17 div.sk-label-container {text-align: center;}#sk-container-id-17 div.sk-container {/* jupyter's `normalize.less` sets `[hidden] { display: none; }` but bootstrap.min.css set `[hidden] { display: none !important; }` so we also need the `!important` here to be able to override the default hidden behavior on the sphinx rendered scikit-learn.org. See: https://github.com/scikit-learn/scikit-learn/issues/21755 */display: inline-block !important;position: relative;}#sk-container-id-17 div.sk-text-repr-fallback {display: none;}</style><div id=\"sk-container-id-17\" class=\"sk-top-container\"><div class=\"sk-text-repr-fallback\"><pre>KNeighborsClassifier(n_neighbors=4)</pre><b>In a Jupyter environment, please rerun this cell to show the HTML representation or trust the notebook. <br />On GitHub, the HTML representation is unable to render, please try loading this page with nbviewer.org.</b></div><div class=\"sk-container\" hidden><div class=\"sk-item\"><div class=\"sk-estimator sk-toggleable\"><input class=\"sk-toggleable__control sk-hidden--visually\" id=\"sk-estimator-id-17\" type=\"checkbox\" checked><label for=\"sk-estimator-id-17\" class=\"sk-toggleable__label sk-toggleable__label-arrow\">KNeighborsClassifier</label><div class=\"sk-toggleable__content\"><pre>KNeighborsClassifier(n_neighbors=4)</pre></div></div></div></div></div>"
      ],
      "text/plain": [
       "KNeighborsClassifier(n_neighbors=4)"
      ]
     },
     "execution_count": 161,
     "metadata": {},
     "output_type": "execute_result"
    }
   ],
   "source": [
    "from sklearn.neighbors import KNeighborsClassifier\n",
    "\n",
    "class_model = KNeighborsClassifier(n_neighbors=4)\n",
    "class_model.fit(x_train,y_train)"
   ]
  },
  {
   "cell_type": "code",
   "execution_count": 162,
   "metadata": {},
   "outputs": [
    {
     "name": "stdout",
     "output_type": "stream",
     "text": [
      "[1 3 1 2 2 1 1 4 1 1 4 1 3 1 1 4 2 3 4 1 1 2 3 2 1 2 2 2 1 4 3 1 1 1 1 3 3\n",
      " 4 2 4 4 4 4 1 3 4 1 3 1 1 4 4 3 4 1 1 2 3 4 3 2 3 2 4 3 4 2 1 1 2 4 4 1 1\n",
      " 4 1 3 1 4 1 2 2 1 1 4 1 3 1 1 1 1 4 4 1 3 1 3 2 1 1 2 2 2 3 3 2 4 2 1 1 3\n",
      " 1 3 3 3 2 4 3 1 2 1 2 1 4 3 3 3 1 4 4 4 1 3 1 1 3 1 4 4 2 3 4 3 3 1 2 4 1\n",
      " 4 4 1 1 2 3 3 2 3 1 4 3 1 1 1 4 1 1 1 2 4 3 1 1 4 2 4 4 2 3 4 1 3 3 4 1 3\n",
      " 1 4 1 2 3 1 2 1 2 1 2 3 4 3 3 3 4 2 1 2 2 2 4 1 4 2 2 4 3 1 1 2 1 2 3 4 2\n",
      " 4 1 1 4 4 1 2 1 3 4 1 1 1 1 2 3 4 4 3 4 4 1 1 4 1 4 1 3 2 2 4 1 3 3 4 1 3\n",
      " 3 1 1 1 1 3 2 2 1 1 3 2 2 3 1 1 2 2 2 3 1 4 4 1 1 4 2 1 1 2 2 2 1 2 1 4 3\n",
      " 2 1 3 1 2 2 1 2 2 3 2 2 4 4 2 1 1 2 2 2 3 4 4 1 1 2 4 3 1 2 4 1 4 1 1 1 1\n",
      " 4 1 1 2 1 4 1 1 3 4 4 3 3 2 1 4 2 3 1 1 1 2 1 4 2 2 4 1 1 4 4 2 2 2 2 2 1\n",
      " 2 1 3 3 1 1 2 1 3 4 2 1 2 2 1 3 1 1 2 2 1 1 2 1 1 4 2 1 1 2 3 1 2 3 3 3 1\n",
      " 3 1 3 2 2 2 4 2 4 1 4 4 3 3 4 1 3 1 1 1 3 3 2 2 2 1 2 1 2 1 4 1 2 1 4 2 3\n",
      " 1 1 1 1 1 1 1 4 2 1 1 3 2 3 1 1 2 1 4 2 1 3 1 1 2 2 4 3 2 2 1 2 4 1 4 4 2\n",
      " 2 1 2 4 3 2 3 2 1 1 2 4 1 1 1 1 3 4 1 1 2 2 2 4 3 1 3 1 4 1 3 1 1 1 1 1 3\n",
      " 4 2 2 1 1 3 2 3 4 2 4 3 1 1 2 1 2 4 3 3 3 1 1 2 3 3 3 3 2 1 4 2 1 1 2 3 1\n",
      " 2 3 3 2 2 3 3 2 2 2 4 3 1 2 1 4 1 1 4 2 1 2 2 4 1 3 2 2 1 2 3 4 2 2 1 2 2\n",
      " 1 3 4 4 3 3 1 1 2 1 2 2 3 2 3 3 3 1 4 1 3 3 2 4 1 1 3 3 2 1 3 3 1 2 1 1 3\n",
      " 3 2 4 1 1 4 3 2 4 2 3 2 1 2 2 1 1 4 3 4 3 1 2 2 3 1 4 4 1 1 2 2 1 3 1 3 3\n",
      " 2 2 2 4 1 3 3 1 2 3 4 2 2 3 3 3 3 1 1 2 3 1 1 3 3 4 4 1 4 1 2 1 3 2 4 4 4\n",
      " 2 1 2 3 3 4 1 1 2 2 2 4 1 2 2 3 1 2 2 3 4 1 3 1 3 2 1 2 4 2 1 4 3 4 1 1 3\n",
      " 3 1 1 1 1 1 1 4 2 2 1 1 3 2 3 1 2 4 1 3 3 1 2 2 1 2 3 4 1 3 3 2 3 2 1 1 2\n",
      " 4 3 4 1 1 2 1 2 1 2 1 1 3 1 2 2 1 4 4 2 1 2 2 2 3 2 1 2 4 2 4 2 3 2 4 2 1\n",
      " 4 2 4 3 1 4 3 2 4 3 1 1 1 3 1 1 3 2 2 1 3 3 2 1 4 4 3 1 1 2 3 2 2 2 2 2 3\n",
      " 3 3 3 1 2 1 2 4 4 2]\n"
     ]
    }
   ],
   "source": [
    "from sklearn.metrics import mean_squared_error, r2_score\n",
    "pred = class_model.predict(x_test)\n",
    "\n",
    "print(pred)"
   ]
  },
  {
   "cell_type": "code",
   "execution_count": null,
   "metadata": {},
   "outputs": [],
   "source": []
  },
  {
   "cell_type": "code",
   "execution_count": null,
   "metadata": {},
   "outputs": [],
   "source": []
  },
  {
   "cell_type": "code",
   "execution_count": 172,
   "metadata": {},
   "outputs": [],
   "source": [
    "all_data = pd.read_csv('sales_data.csv')"
   ]
  },
  {
   "cell_type": "code",
   "execution_count": 173,
   "metadata": {},
   "outputs": [
    {
     "data": {
      "text/plain": [
       "Index(['Order_ID', 'Branch', 'Order_Date', 'Order_Priority', 'Manufacturer',\n",
       "       'Model_Name', 'Category', 'Screen_Size', 'Screen', 'CPU', 'RAM',\n",
       "       'Storage', 'GPU', 'OS', 'OS_Version', 'Weight', 'Price', 'Quantity',\n",
       "       'Discount', 'Total_Price', 'Profit', 'Ship_Duration'],\n",
       "      dtype='object')"
      ]
     },
     "execution_count": 173,
     "metadata": {},
     "output_type": "execute_result"
    }
   ],
   "source": [
    "all_data.columns"
   ]
  },
  {
   "cell_type": "code",
   "execution_count": 174,
   "metadata": {},
   "outputs": [],
   "source": [
    "all_data[['year', 'month', 'day']] = all_data.Order_Date.str.split(\"-\",expand=True)\n",
    "all_data['year']=all_data['year'].astype('int')\n",
    "all_data['month']=all_data['month'].astype('int')\n",
    "all_data['day']=all_data['day'].astype('int')\n",
    "\n",
    "\n",
    "all_data = all_data.loc[((all_data['month']<7) & (all_data['year']==1402)) | (all_data['year']<1402)]\n",
    "all_data = all_data.loc[((all_data['month']>10) & (all_data['year']==1390)) | (all_data['year']>1390)]"
   ]
  },
  {
   "cell_type": "code",
   "execution_count": 175,
   "metadata": {},
   "outputs": [
    {
     "name": "stderr",
     "output_type": "stream",
     "text": [
      "/var/folders/0r/6nwh7td129301__r2brydjn00000gn/T/ipykernel_83124/1595178306.py:3: SettingWithCopyWarning: \n",
      "A value is trying to be set on a copy of a slice from a DataFrame\n",
      "\n",
      "See the caveats in the documentation: https://pandas.pydata.org/pandas-docs/stable/user_guide/indexing.html#returning-a-view-versus-a-copy\n",
      "  model_info.drop(columns=['Order_ID','Branch','Order_Date','Order_Priority','Price','Quantity','Total_Price','Ship_Duration'],inplace=True)\n"
     ]
    }
   ],
   "source": [
    "model_data = all_data.groupby(['Model_Name']).sum()[['Quantity','Total_Price']].reset_index()\n",
    "model_info = all_data.drop_duplicates(subset=['Model_Name'],keep='last')\n",
    "model_info.drop(columns=['Order_ID','Branch','Order_Date','Order_Priority','Price','Quantity','Total_Price','Ship_Duration'],inplace=True)\n",
    "model_data = pd.merge(model_info,model_data,how='inner', on='Model_Name')"
   ]
  },
  {
   "cell_type": "code",
   "execution_count": 176,
   "metadata": {},
   "outputs": [],
   "source": [
    "model_data[['Screen_size','maz1']] = model_data.Screen_Size.str.split('\"',expand=True)\n",
    "model_data['Screen_size']=model_data['Screen_size'].astype('float')\n",
    "\n",
    "model_data[['RAM','maz2']] = model_data.RAM.str.split(\"G\",expand=True)\n",
    "model_data['RAM'] = model_data['RAM'].astype('float')\n",
    "model_data[['laptop_weight','maz3']] = model_data.Weight.str.split(\"k\",expand=True)\n",
    "model_data['laptop_weight'] = model_data['laptop_weight'].astype('float')\n",
    "\n",
    "model_data['CPU_manufacturer'] = model_data.CPU.str.split(\" \",expand=True)[0]\n",
    "model_data['CPU_manufacturer'].replace('Samsung','other',inplace=True)\n",
    "model_data['CPU_manufacturer'].replace('Intel','INTEL',inplace=True)\n",
    "model_data['graphic_manufacturer'] = model_data.GPU.str.split(\" \",expand=True)[0]\n",
    "model_data['graphic_manufacturer'].replace('ARM','Other',inplace=True)"
   ]
  },
  {
   "cell_type": "code",
   "execution_count": 178,
   "metadata": {},
   "outputs": [
    {
     "data": {
      "text/plain": [
       "Index(['aprice', 'laptop_weight', 'RAM', 'Screen_size', 'manufactor_Apple',\n",
       "       'manufactor_Asus', 'manufactor_Chuwi', 'manufactor_Dell',\n",
       "       'manufactor_Fujitsu', 'manufactor_Google', 'manufactor_HP',\n",
       "       'manufactor_Huawei', 'manufactor_LG', 'manufactor_Lenovo',\n",
       "       'manufactor_MSI', 'manufactor_Mediacom', 'manufactor_Microsoft',\n",
       "       'manufactor_Razer', 'manufactor_Samsung', 'manufactor_Toshiba',\n",
       "       'manufactor_Vero', 'manufactor_Xiaomi', 'CPU_manufacturer_INTEL',\n",
       "       'CPU_manufacturer_other', 'graphic_manufacturer_Intel',\n",
       "       'graphic_manufacturer_Nvidia', 'graphic_manufacturer_Other'],\n",
       "      dtype='object')"
      ]
     },
     "execution_count": 178,
     "metadata": {},
     "output_type": "execute_result"
    }
   ],
   "source": [
    "model_data['Price'] = model_data['Total_Price']/model_data['Quantity']\n",
    "model_data.rename(columns={'Manufacturer':'manufactor','Price':'aprice'},inplace=True)\n",
    "model_data = model_data[['aprice','manufactor','laptop_weight','CPU_manufacturer','RAM','graphic_manufacturer','Screen_size']]\n",
    "model_data = pd.get_dummies(model_data,columns=['manufactor','CPU_manufacturer','graphic_manufacturer'],drop_first=True)\n",
    "\n",
    "model_data.columns\n",
    "\n"
   ]
  },
  {
   "cell_type": "code",
   "execution_count": 179,
   "metadata": {},
   "outputs": [
    {
     "ename": "KeyError",
     "evalue": "\"['aprice', 'sprice'] not in index\"",
     "output_type": "error",
     "traceback": [
      "\u001b[0;31m---------------------------------------------------------------------------\u001b[0m",
      "\u001b[0;31mKeyError\u001b[0m                                  Traceback (most recent call last)",
      "\u001b[1;32m/Users/apple/Desktop/1401-2/BootCamp/D5_ML1.ipynb Cell 31\u001b[0m line \u001b[0;36m1\n\u001b[0;32m----> <a href='vscode-notebook-cell:/Users/apple/Desktop/1401-2/BootCamp/D5_ML1.ipynb#Y116sZmlsZQ%3D%3D?line=0'>1</a>\u001b[0m train_megh_data \u001b[39m=\u001b[39m megh_data[[\u001b[39m'\u001b[39;49m\u001b[39maprice\u001b[39;49m\u001b[39m'\u001b[39;49m,\u001b[39m'\u001b[39;49m\u001b[39msprice\u001b[39;49m\u001b[39m'\u001b[39;49m,\u001b[39m'\u001b[39;49m\u001b[39mmanufactor\u001b[39;49m\u001b[39m'\u001b[39;49m,\u001b[39m'\u001b[39;49m\u001b[39mlaptop_weight\u001b[39;49m\u001b[39m'\u001b[39;49m,\u001b[39m'\u001b[39;49m\u001b[39mCPU_manufacturer\u001b[39;49m\u001b[39m'\u001b[39;49m,\u001b[39m'\u001b[39;49m\u001b[39mRAM\u001b[39;49m\u001b[39m'\u001b[39;49m,\u001b[39m'\u001b[39;49m\u001b[39mgraphic_manufacturer\u001b[39;49m\u001b[39m'\u001b[39;49m,\u001b[39m'\u001b[39;49m\u001b[39mScreen_size\u001b[39;49m\u001b[39m'\u001b[39;49m]]\n\u001b[1;32m      <a href='vscode-notebook-cell:/Users/apple/Desktop/1401-2/BootCamp/D5_ML1.ipynb#Y116sZmlsZQ%3D%3D?line=1'>2</a>\u001b[0m train_megh_data \u001b[39m=\u001b[39m pd\u001b[39m.\u001b[39mget_dummies(train_megh_data,columns\u001b[39m=\u001b[39m[\u001b[39m'\u001b[39m\u001b[39mmanufactor\u001b[39m\u001b[39m'\u001b[39m,\u001b[39m'\u001b[39m\u001b[39mCPU_manufacturer\u001b[39m\u001b[39m'\u001b[39m,\u001b[39m'\u001b[39m\u001b[39mgraphic_manufacturer\u001b[39m\u001b[39m'\u001b[39m],drop_first\u001b[39m=\u001b[39m\u001b[39mTrue\u001b[39;00m)\n",
      "File \u001b[0;32m~/miniconda3/lib/python3.11/site-packages/pandas/core/frame.py:3902\u001b[0m, in \u001b[0;36mDataFrame.__getitem__\u001b[0;34m(self, key)\u001b[0m\n\u001b[1;32m   3900\u001b[0m     \u001b[39mif\u001b[39;00m is_iterator(key):\n\u001b[1;32m   3901\u001b[0m         key \u001b[39m=\u001b[39m \u001b[39mlist\u001b[39m(key)\n\u001b[0;32m-> 3902\u001b[0m     indexer \u001b[39m=\u001b[39m \u001b[39mself\u001b[39;49m\u001b[39m.\u001b[39;49mcolumns\u001b[39m.\u001b[39;49m_get_indexer_strict(key, \u001b[39m\"\u001b[39;49m\u001b[39mcolumns\u001b[39;49m\u001b[39m\"\u001b[39;49m)[\u001b[39m1\u001b[39m]\n\u001b[1;32m   3904\u001b[0m \u001b[39m# take() does not accept boolean indexers\u001b[39;00m\n\u001b[1;32m   3905\u001b[0m \u001b[39mif\u001b[39;00m \u001b[39mgetattr\u001b[39m(indexer, \u001b[39m\"\u001b[39m\u001b[39mdtype\u001b[39m\u001b[39m\"\u001b[39m, \u001b[39mNone\u001b[39;00m) \u001b[39m==\u001b[39m \u001b[39mbool\u001b[39m:\n",
      "File \u001b[0;32m~/miniconda3/lib/python3.11/site-packages/pandas/core/indexes/base.py:6114\u001b[0m, in \u001b[0;36mIndex._get_indexer_strict\u001b[0;34m(self, key, axis_name)\u001b[0m\n\u001b[1;32m   6111\u001b[0m \u001b[39melse\u001b[39;00m:\n\u001b[1;32m   6112\u001b[0m     keyarr, indexer, new_indexer \u001b[39m=\u001b[39m \u001b[39mself\u001b[39m\u001b[39m.\u001b[39m_reindex_non_unique(keyarr)\n\u001b[0;32m-> 6114\u001b[0m \u001b[39mself\u001b[39;49m\u001b[39m.\u001b[39;49m_raise_if_missing(keyarr, indexer, axis_name)\n\u001b[1;32m   6116\u001b[0m keyarr \u001b[39m=\u001b[39m \u001b[39mself\u001b[39m\u001b[39m.\u001b[39mtake(indexer)\n\u001b[1;32m   6117\u001b[0m \u001b[39mif\u001b[39;00m \u001b[39misinstance\u001b[39m(key, Index):\n\u001b[1;32m   6118\u001b[0m     \u001b[39m# GH 42790 - Preserve name from an Index\u001b[39;00m\n",
      "File \u001b[0;32m~/miniconda3/lib/python3.11/site-packages/pandas/core/indexes/base.py:6178\u001b[0m, in \u001b[0;36mIndex._raise_if_missing\u001b[0;34m(self, key, indexer, axis_name)\u001b[0m\n\u001b[1;32m   6175\u001b[0m     \u001b[39mraise\u001b[39;00m \u001b[39mKeyError\u001b[39;00m(\u001b[39mf\u001b[39m\u001b[39m\"\u001b[39m\u001b[39mNone of [\u001b[39m\u001b[39m{\u001b[39;00mkey\u001b[39m}\u001b[39;00m\u001b[39m] are in the [\u001b[39m\u001b[39m{\u001b[39;00maxis_name\u001b[39m}\u001b[39;00m\u001b[39m]\u001b[39m\u001b[39m\"\u001b[39m)\n\u001b[1;32m   6177\u001b[0m not_found \u001b[39m=\u001b[39m \u001b[39mlist\u001b[39m(ensure_index(key)[missing_mask\u001b[39m.\u001b[39mnonzero()[\u001b[39m0\u001b[39m]]\u001b[39m.\u001b[39munique())\n\u001b[0;32m-> 6178\u001b[0m \u001b[39mraise\u001b[39;00m \u001b[39mKeyError\u001b[39;00m(\u001b[39mf\u001b[39m\u001b[39m\"\u001b[39m\u001b[39m{\u001b[39;00mnot_found\u001b[39m}\u001b[39;00m\u001b[39m not in index\u001b[39m\u001b[39m\"\u001b[39m)\n",
      "\u001b[0;31mKeyError\u001b[0m: \"['aprice', 'sprice'] not in index\""
     ]
    }
   ],
   "source": [
    "train_megh_data = megh_data[['aprice','sprice','manufactor','laptop_weight','CPU_manufacturer','RAM','graphic_manufacturer','Screen_size']]\n",
    "train_megh_data = pd.get_dummies(train_megh_data,columns=['manufactor','CPU_manufacturer','graphic_manufacturer'],drop_first=True)\n"
   ]
  },
  {
   "cell_type": "code",
   "execution_count": null,
   "metadata": {},
   "outputs": [],
   "source": [
    "model_data.columns\n",
    "model_data.drop(columns=['Model_Name','Screen','CPU','Storage','GPU','OS_Version','Profit','Weight', 'year', 'month', 'day', 'Total_Price','maz1', 'maz2','maz3' ],inplace=True)\n",
    "model_data = pd.get_dummies(model_data,columns=['Manufacturer','Category','graphic_manufacturer','OS','CPU_manufacturer', 'graphic_manufacturer'],drop_first=True)\n"
   ]
  },
  {
   "cell_type": "code",
   "execution_count": null,
   "metadata": {},
   "outputs": [],
   "source": [
    "megh_data['CPU_manufacturer'].replace('Carrizo','other',inplace=True)\n",
    "megh_data['CPU_manufacturer'].replace('Apple','other',inplace=True)\n",
    "megh_data['CPU_manufacturer'].unique()\n",
    "\n",
    "megh_data['graphic_manufacturer'].replace('Apple','Other',inplace=True)\n",
    "megh_data['graphic_manufacturer'].replace('AMD Radeon ','AMD',inplace=True)\n",
    "megh_data['graphic_manufacturer'].replace('Nvidia Gforce','Nvidia',inplace=True)\n",
    "megh_data['graphic_manufacturer'].replace('RTX 3060','Other',inplace=True)\n",
    "megh_data['graphic_manufacturer'].replace('Geforce MX150','Other',inplace=True)\n",
    "megh_data['graphic_manufacturer'].replace('GTX 1650 Ti','Other',inplace=True)\n",
    "megh_data['graphic_manufacturer'].replace('2 گیگا بایت','Other',inplace=True)\n",
    "megh_data['graphic_manufacturer'].unique()\n"
   ]
  },
  {
   "cell_type": "code",
   "execution_count": 111,
   "metadata": {},
   "outputs": [
    {
     "data": {
      "text/html": [
       "<div>\n",
       "<style scoped>\n",
       "    .dataframe tbody tr th:only-of-type {\n",
       "        vertical-align: middle;\n",
       "    }\n",
       "\n",
       "    .dataframe tbody tr th {\n",
       "        vertical-align: top;\n",
       "    }\n",
       "\n",
       "    .dataframe thead th {\n",
       "        text-align: right;\n",
       "    }\n",
       "</style>\n",
       "<table border=\"1\" class=\"dataframe\">\n",
       "  <thead>\n",
       "    <tr style=\"text-align: right;\">\n",
       "      <th></th>\n",
       "      <th>Order_ID</th>\n",
       "      <th>Price</th>\n",
       "      <th>Quantity</th>\n",
       "      <th>Discount</th>\n",
       "      <th>Total_Price</th>\n",
       "      <th>Profit</th>\n",
       "      <th>Ship_Duration</th>\n",
       "    </tr>\n",
       "  </thead>\n",
       "  <tbody>\n",
       "    <tr>\n",
       "      <th>count</th>\n",
       "      <td>1.017081e+06</td>\n",
       "      <td>1.017081e+06</td>\n",
       "      <td>1.017081e+06</td>\n",
       "      <td>1.017081e+06</td>\n",
       "      <td>1.017081e+06</td>\n",
       "      <td>1.017081e+06</td>\n",
       "      <td>1.017081e+06</td>\n",
       "    </tr>\n",
       "    <tr>\n",
       "      <th>mean</th>\n",
       "      <td>5.085400e+05</td>\n",
       "      <td>1.315689e+07</td>\n",
       "      <td>1.106288e+00</td>\n",
       "      <td>6.030857e-01</td>\n",
       "      <td>1.445983e+07</td>\n",
       "      <td>1.440988e+06</td>\n",
       "      <td>5.820368e+00</td>\n",
       "    </tr>\n",
       "    <tr>\n",
       "      <th>std</th>\n",
       "      <td>2.936061e+05</td>\n",
       "      <td>1.556534e+07</td>\n",
       "      <td>3.635524e-01</td>\n",
       "      <td>1.659795e+00</td>\n",
       "      <td>1.862173e+07</td>\n",
       "      <td>1.894085e+06</td>\n",
       "      <td>2.600829e+00</td>\n",
       "    </tr>\n",
       "    <tr>\n",
       "      <th>min</th>\n",
       "      <td>0.000000e+00</td>\n",
       "      <td>2.000000e+05</td>\n",
       "      <td>1.000000e+00</td>\n",
       "      <td>0.000000e+00</td>\n",
       "      <td>1.900000e+05</td>\n",
       "      <td>1.000000e+04</td>\n",
       "      <td>1.000000e+00</td>\n",
       "    </tr>\n",
       "    <tr>\n",
       "      <th>25%</th>\n",
       "      <td>2.542700e+05</td>\n",
       "      <td>3.050000e+06</td>\n",
       "      <td>1.000000e+00</td>\n",
       "      <td>0.000000e+00</td>\n",
       "      <td>3.150000e+06</td>\n",
       "      <td>3.000000e+05</td>\n",
       "      <td>4.000000e+00</td>\n",
       "    </tr>\n",
       "    <tr>\n",
       "      <th>50%</th>\n",
       "      <td>5.085400e+05</td>\n",
       "      <td>5.300000e+06</td>\n",
       "      <td>1.000000e+00</td>\n",
       "      <td>0.000000e+00</td>\n",
       "      <td>6.000000e+06</td>\n",
       "      <td>5.900000e+05</td>\n",
       "      <td>6.000000e+00</td>\n",
       "    </tr>\n",
       "    <tr>\n",
       "      <th>75%</th>\n",
       "      <td>7.628100e+05</td>\n",
       "      <td>1.905000e+07</td>\n",
       "      <td>1.000000e+00</td>\n",
       "      <td>0.000000e+00</td>\n",
       "      <td>2.015000e+07</td>\n",
       "      <td>1.970000e+06</td>\n",
       "      <td>8.000000e+00</td>\n",
       "    </tr>\n",
       "    <tr>\n",
       "      <th>max</th>\n",
       "      <td>1.017080e+06</td>\n",
       "      <td>3.281000e+08</td>\n",
       "      <td>7.000000e+00</td>\n",
       "      <td>9.000000e+00</td>\n",
       "      <td>8.846000e+08</td>\n",
       "      <td>7.674000e+07</td>\n",
       "      <td>1.000000e+01</td>\n",
       "    </tr>\n",
       "  </tbody>\n",
       "</table>\n",
       "</div>"
      ],
      "text/plain": [
       "           Order_ID         Price      Quantity      Discount   Total_Price  \\\n",
       "count  1.017081e+06  1.017081e+06  1.017081e+06  1.017081e+06  1.017081e+06   \n",
       "mean   5.085400e+05  1.315689e+07  1.106288e+00  6.030857e-01  1.445983e+07   \n",
       "std    2.936061e+05  1.556534e+07  3.635524e-01  1.659795e+00  1.862173e+07   \n",
       "min    0.000000e+00  2.000000e+05  1.000000e+00  0.000000e+00  1.900000e+05   \n",
       "25%    2.542700e+05  3.050000e+06  1.000000e+00  0.000000e+00  3.150000e+06   \n",
       "50%    5.085400e+05  5.300000e+06  1.000000e+00  0.000000e+00  6.000000e+06   \n",
       "75%    7.628100e+05  1.905000e+07  1.000000e+00  0.000000e+00  2.015000e+07   \n",
       "max    1.017080e+06  3.281000e+08  7.000000e+00  9.000000e+00  8.846000e+08   \n",
       "\n",
       "             Profit  Ship_Duration  \n",
       "count  1.017081e+06   1.017081e+06  \n",
       "mean   1.440988e+06   5.820368e+00  \n",
       "std    1.894085e+06   2.600829e+00  \n",
       "min    1.000000e+04   1.000000e+00  \n",
       "25%    3.000000e+05   4.000000e+00  \n",
       "50%    5.900000e+05   6.000000e+00  \n",
       "75%    1.970000e+06   8.000000e+00  \n",
       "max    7.674000e+07   1.000000e+01  "
      ]
     },
     "execution_count": 111,
     "metadata": {},
     "output_type": "execute_result"
    }
   ],
   "source": [
    "data = pd.read_csv('sales_data.csv')\n",
    "data.describe()\n"
   ]
  },
  {
   "cell_type": "code",
   "execution_count": 100,
   "metadata": {},
   "outputs": [],
   "source": [
    "data = pd.read_csv('sales_data.csv')\n",
    "data['Manufacturer'].replace('Dell','dell',inplace=True)\n",
    "data['Manufacturer'].replace('Lenovo','lenovo',inplace=True)\n",
    "data['Manufacturer'].replace('Acer','acer',inplace=True)\n",
    "data['Manufacturer'].replace('HP','hp',inplace=True)\n",
    "data['Manufacturer'].replace('Asus','asus',inplace=True)\n",
    "data['Manufacturer'].replace('MSI','msi',inplace=True)\n",
    "data['Manufacturer'].replace('Apple','apple',inplace=True)\n",
    "data['Manufacturer'].replace('Microsoft','microsoft',inplace=True)\n",
    "\n",
    "data = data.loc[(data['Manufacturer']=='dell') | (data['Manufacturer']=='lenovo') | (data['Manufacturer']=='microsoft') | (data['Manufacturer']=='hp') | (data['Manufacturer']=='asus') | (data['Manufacturer']=='msi') | (data['Manufacturer']=='apple') | (data['Manufacturer']=='acer')]\n",
    "\n"
   ]
  },
  {
   "cell_type": "code",
   "execution_count": 101,
   "metadata": {},
   "outputs": [
    {
     "data": {
      "text/plain": [
       "array(['dell', 'lenovo', 'acer', 'hp', 'asus', 'msi', 'apple',\n",
       "       'microsoft'], dtype=object)"
      ]
     },
     "execution_count": 101,
     "metadata": {},
     "output_type": "execute_result"
    }
   ],
   "source": [
    "data['Manufacturer'].unique()"
   ]
  },
  {
   "cell_type": "code",
   "execution_count": 102,
   "metadata": {},
   "outputs": [
    {
     "data": {
      "text/plain": [
       "array(['apple', 'microsoft', 'asus', 'hp', 'msi', 'dell', 'lenovo',\n",
       "       'acer'], dtype=object)"
      ]
     },
     "execution_count": 102,
     "metadata": {},
     "output_type": "execute_result"
    }
   ],
   "source": [
    "megh_data['manufactor'].unique()"
   ]
  },
  {
   "cell_type": "code",
   "execution_count": 103,
   "metadata": {},
   "outputs": [
    {
     "data": {
      "text/plain": [
       "Index(['Order_ID', 'Branch', 'Order_Date', 'Order_Priority', 'manufactor',\n",
       "       'Model_Name', 'Category', 'Screen_Size', 'Screen', 'CPU', 'RAM',\n",
       "       'Storage', 'GPU', 'OS', 'OS_Version', 'Weight', 'Price', 'Quantity',\n",
       "       'Discount', 'Total_Price', 'Profit', 'Ship_Duration', 'year', 'month',\n",
       "       'day', 'Screen_size', 'maz1', 'maz2', 'laptop_weight', 'maz3',\n",
       "       'CPU_manufacturer', 'graphic_manufacturer'],\n",
       "      dtype='object')"
      ]
     },
     "execution_count": 103,
     "metadata": {},
     "output_type": "execute_result"
    }
   ],
   "source": [
    "data[['year', 'month', 'day']] = data.Order_Date.str.split(\"-\",expand=True)\n",
    "data['year']=data['year'].astype('int')\n",
    "data['month']=data['month'].astype('int')\n",
    "data['day']=data['day'].astype('int')\n",
    "\n",
    "data[['Screen_size','maz1']] = data.Screen_Size.str.split('\"',expand=True)\n",
    "data['Screen_size']=data['Screen_size'].astype('float')\n",
    "\n",
    "data[['RAM','maz2']] = data.RAM.str.split(\"G\",expand=True)\n",
    "data['RAM'] = data['RAM'].astype('float')\n",
    "data[['laptop_weight','maz3']] = data.Weight.str.split(\"k\",expand=True)\n",
    "data['laptop_weight'] = data['laptop_weight'].astype('float')\n",
    "\n",
    "data['CPU_manufacturer'] = data.CPU.str.split(\" \",expand=True)[0]\n",
    "data['CPU_manufacturer'].replace('Samsung','other',inplace=True)\n",
    "data['CPU_manufacturer'].replace('Intel','INTEL',inplace=True)\n",
    "data['graphic_manufacturer'] = data.GPU.str.split(\" \",expand=True)[0]\n",
    "data['graphic_manufacturer'].replace('ARM','Other',inplace=True)\n",
    "\n",
    "data.rename(columns={'Manufacturer':'manufactor'},inplace=True)\n",
    "\n",
    "\n",
    "data.columns"
   ]
  },
  {
   "cell_type": "code",
   "execution_count": 104,
   "metadata": {},
   "outputs": [
    {
     "data": {
      "text/plain": [
       "array(['INTEL', 'AMD'], dtype=object)"
      ]
     },
     "execution_count": 104,
     "metadata": {},
     "output_type": "execute_result"
    }
   ],
   "source": [
    "data['CPU_manufacturer'].unique()"
   ]
  },
  {
   "cell_type": "code",
   "execution_count": 105,
   "metadata": {},
   "outputs": [
    {
     "data": {
      "text/plain": [
       "array(['other', 'INTEL', 'AMD'], dtype=object)"
      ]
     },
     "execution_count": 105,
     "metadata": {},
     "output_type": "execute_result"
    }
   ],
   "source": [
    "megh_data['CPU_manufacturer'].unique()"
   ]
  },
  {
   "cell_type": "code",
   "execution_count": 98,
   "metadata": {},
   "outputs": [
    {
     "ename": "ValueError",
     "evalue": "The feature names should match those that were passed during fit.\nFeature names seen at fit time, yet now missing:\n- CPU_manufacturer_other\n- graphic_manufacturer_Other\n",
     "output_type": "error",
     "traceback": [
      "\u001b[0;31m---------------------------------------------------------------------------\u001b[0m",
      "\u001b[0;31mValueError\u001b[0m                                Traceback (most recent call last)",
      "\u001b[1;32m/Users/apple/Desktop/1401-2/BootCamp/D5_ML1.ipynb Cell 17\u001b[0m line \u001b[0;36m4\n\u001b[1;32m      <a href='vscode-notebook-cell:/Users/apple/Desktop/1401-2/BootCamp/D5_ML1.ipynb#X21sZmlsZQ%3D%3D?line=0'>1</a>\u001b[0m data \u001b[39m=\u001b[39m data[[\u001b[39m'\u001b[39m\u001b[39mmanufactor\u001b[39m\u001b[39m'\u001b[39m,\u001b[39m'\u001b[39m\u001b[39mlaptop_weight\u001b[39m\u001b[39m'\u001b[39m,\u001b[39m'\u001b[39m\u001b[39mCPU_manufacturer\u001b[39m\u001b[39m'\u001b[39m,\u001b[39m'\u001b[39m\u001b[39mRAM\u001b[39m\u001b[39m'\u001b[39m,\u001b[39m'\u001b[39m\u001b[39mgraphic_manufacturer\u001b[39m\u001b[39m'\u001b[39m]]\n\u001b[1;32m      <a href='vscode-notebook-cell:/Users/apple/Desktop/1401-2/BootCamp/D5_ML1.ipynb#X21sZmlsZQ%3D%3D?line=1'>2</a>\u001b[0m data \u001b[39m=\u001b[39m pd\u001b[39m.\u001b[39mget_dummies(data,columns\u001b[39m=\u001b[39m[\u001b[39m'\u001b[39m\u001b[39mmanufactor\u001b[39m\u001b[39m'\u001b[39m,\u001b[39m'\u001b[39m\u001b[39mCPU_manufacturer\u001b[39m\u001b[39m'\u001b[39m,\u001b[39m'\u001b[39m\u001b[39mgraphic_manufacturer\u001b[39m\u001b[39m'\u001b[39m],drop_first\u001b[39m=\u001b[39m\u001b[39mTrue\u001b[39;00m)\n\u001b[0;32m----> <a href='vscode-notebook-cell:/Users/apple/Desktop/1401-2/BootCamp/D5_ML1.ipynb#X21sZmlsZQ%3D%3D?line=3'>4</a>\u001b[0m y_prediction \u001b[39m=\u001b[39m model\u001b[39m.\u001b[39mpredict(stan_scaler\u001b[39m.\u001b[39;49mtransform(data))\n",
      "File \u001b[0;32m~/miniconda3/lib/python3.11/site-packages/sklearn/utils/_set_output.py:157\u001b[0m, in \u001b[0;36m_wrap_method_output.<locals>.wrapped\u001b[0;34m(self, X, *args, **kwargs)\u001b[0m\n\u001b[1;32m    155\u001b[0m \u001b[39m@wraps\u001b[39m(f)\n\u001b[1;32m    156\u001b[0m \u001b[39mdef\u001b[39;00m \u001b[39mwrapped\u001b[39m(\u001b[39mself\u001b[39m, X, \u001b[39m*\u001b[39margs, \u001b[39m*\u001b[39m\u001b[39m*\u001b[39mkwargs):\n\u001b[0;32m--> 157\u001b[0m     data_to_wrap \u001b[39m=\u001b[39m f(\u001b[39mself\u001b[39;49m, X, \u001b[39m*\u001b[39;49margs, \u001b[39m*\u001b[39;49m\u001b[39m*\u001b[39;49mkwargs)\n\u001b[1;32m    158\u001b[0m     \u001b[39mif\u001b[39;00m \u001b[39misinstance\u001b[39m(data_to_wrap, \u001b[39mtuple\u001b[39m):\n\u001b[1;32m    159\u001b[0m         \u001b[39m# only wrap the first output for cross decomposition\u001b[39;00m\n\u001b[1;32m    160\u001b[0m         return_tuple \u001b[39m=\u001b[39m (\n\u001b[1;32m    161\u001b[0m             _wrap_data_with_container(method, data_to_wrap[\u001b[39m0\u001b[39m], X, \u001b[39mself\u001b[39m),\n\u001b[1;32m    162\u001b[0m             \u001b[39m*\u001b[39mdata_to_wrap[\u001b[39m1\u001b[39m:],\n\u001b[1;32m    163\u001b[0m         )\n",
      "File \u001b[0;32m~/miniconda3/lib/python3.11/site-packages/sklearn/preprocessing/_data.py:1006\u001b[0m, in \u001b[0;36mStandardScaler.transform\u001b[0;34m(self, X, copy)\u001b[0m\n\u001b[1;32m   1003\u001b[0m check_is_fitted(\u001b[39mself\u001b[39m)\n\u001b[1;32m   1005\u001b[0m copy \u001b[39m=\u001b[39m copy \u001b[39mif\u001b[39;00m copy \u001b[39mis\u001b[39;00m \u001b[39mnot\u001b[39;00m \u001b[39mNone\u001b[39;00m \u001b[39melse\u001b[39;00m \u001b[39mself\u001b[39m\u001b[39m.\u001b[39mcopy\n\u001b[0;32m-> 1006\u001b[0m X \u001b[39m=\u001b[39m \u001b[39mself\u001b[39;49m\u001b[39m.\u001b[39;49m_validate_data(\n\u001b[1;32m   1007\u001b[0m     X,\n\u001b[1;32m   1008\u001b[0m     reset\u001b[39m=\u001b[39;49m\u001b[39mFalse\u001b[39;49;00m,\n\u001b[1;32m   1009\u001b[0m     accept_sparse\u001b[39m=\u001b[39;49m\u001b[39m\"\u001b[39;49m\u001b[39mcsr\u001b[39;49m\u001b[39m\"\u001b[39;49m,\n\u001b[1;32m   1010\u001b[0m     copy\u001b[39m=\u001b[39;49mcopy,\n\u001b[1;32m   1011\u001b[0m     dtype\u001b[39m=\u001b[39;49mFLOAT_DTYPES,\n\u001b[1;32m   1012\u001b[0m     force_all_finite\u001b[39m=\u001b[39;49m\u001b[39m\"\u001b[39;49m\u001b[39mallow-nan\u001b[39;49m\u001b[39m\"\u001b[39;49m,\n\u001b[1;32m   1013\u001b[0m )\n\u001b[1;32m   1015\u001b[0m \u001b[39mif\u001b[39;00m sparse\u001b[39m.\u001b[39missparse(X):\n\u001b[1;32m   1016\u001b[0m     \u001b[39mif\u001b[39;00m \u001b[39mself\u001b[39m\u001b[39m.\u001b[39mwith_mean:\n",
      "File \u001b[0;32m~/miniconda3/lib/python3.11/site-packages/sklearn/base.py:580\u001b[0m, in \u001b[0;36mBaseEstimator._validate_data\u001b[0;34m(self, X, y, reset, validate_separately, cast_to_ndarray, **check_params)\u001b[0m\n\u001b[1;32m    509\u001b[0m \u001b[39mdef\u001b[39;00m \u001b[39m_validate_data\u001b[39m(\n\u001b[1;32m    510\u001b[0m     \u001b[39mself\u001b[39m,\n\u001b[1;32m    511\u001b[0m     X\u001b[39m=\u001b[39m\u001b[39m\"\u001b[39m\u001b[39mno_validation\u001b[39m\u001b[39m\"\u001b[39m,\n\u001b[0;32m   (...)\u001b[0m\n\u001b[1;32m    516\u001b[0m     \u001b[39m*\u001b[39m\u001b[39m*\u001b[39mcheck_params,\n\u001b[1;32m    517\u001b[0m ):\n\u001b[1;32m    518\u001b[0m \u001b[39m    \u001b[39m\u001b[39m\"\"\"Validate input data and set or check the `n_features_in_` attribute.\u001b[39;00m\n\u001b[1;32m    519\u001b[0m \n\u001b[1;32m    520\u001b[0m \u001b[39m    Parameters\u001b[39;00m\n\u001b[0;32m   (...)\u001b[0m\n\u001b[1;32m    578\u001b[0m \u001b[39m        validated.\u001b[39;00m\n\u001b[1;32m    579\u001b[0m \u001b[39m    \"\"\"\u001b[39;00m\n\u001b[0;32m--> 580\u001b[0m     \u001b[39mself\u001b[39;49m\u001b[39m.\u001b[39;49m_check_feature_names(X, reset\u001b[39m=\u001b[39;49mreset)\n\u001b[1;32m    582\u001b[0m     \u001b[39mif\u001b[39;00m y \u001b[39mis\u001b[39;00m \u001b[39mNone\u001b[39;00m \u001b[39mand\u001b[39;00m \u001b[39mself\u001b[39m\u001b[39m.\u001b[39m_get_tags()[\u001b[39m\"\u001b[39m\u001b[39mrequires_y\u001b[39m\u001b[39m\"\u001b[39m]:\n\u001b[1;32m    583\u001b[0m         \u001b[39mraise\u001b[39;00m \u001b[39mValueError\u001b[39;00m(\n\u001b[1;32m    584\u001b[0m             \u001b[39mf\u001b[39m\u001b[39m\"\u001b[39m\u001b[39mThis \u001b[39m\u001b[39m{\u001b[39;00m\u001b[39mself\u001b[39m\u001b[39m.\u001b[39m\u001b[39m__class__\u001b[39m\u001b[39m.\u001b[39m\u001b[39m__name__\u001b[39m\u001b[39m}\u001b[39;00m\u001b[39m estimator \u001b[39m\u001b[39m\"\u001b[39m\n\u001b[1;32m    585\u001b[0m             \u001b[39m\"\u001b[39m\u001b[39mrequires y to be passed, but the target y is None.\u001b[39m\u001b[39m\"\u001b[39m\n\u001b[1;32m    586\u001b[0m         )\n",
      "File \u001b[0;32m~/miniconda3/lib/python3.11/site-packages/sklearn/base.py:507\u001b[0m, in \u001b[0;36mBaseEstimator._check_feature_names\u001b[0;34m(self, X, reset)\u001b[0m\n\u001b[1;32m    502\u001b[0m \u001b[39mif\u001b[39;00m \u001b[39mnot\u001b[39;00m missing_names \u001b[39mand\u001b[39;00m \u001b[39mnot\u001b[39;00m unexpected_names:\n\u001b[1;32m    503\u001b[0m     message \u001b[39m+\u001b[39m\u001b[39m=\u001b[39m (\n\u001b[1;32m    504\u001b[0m         \u001b[39m\"\u001b[39m\u001b[39mFeature names must be in the same order as they were in fit.\u001b[39m\u001b[39m\\n\u001b[39;00m\u001b[39m\"\u001b[39m\n\u001b[1;32m    505\u001b[0m     )\n\u001b[0;32m--> 507\u001b[0m \u001b[39mraise\u001b[39;00m \u001b[39mValueError\u001b[39;00m(message)\n",
      "\u001b[0;31mValueError\u001b[0m: The feature names should match those that were passed during fit.\nFeature names seen at fit time, yet now missing:\n- CPU_manufacturer_other\n- graphic_manufacturer_Other\n"
     ]
    }
   ],
   "source": [
    "data = data[['manufactor','laptop_weight','CPU_manufacturer','RAM','graphic_manufacturer']]\n",
    "data = pd.get_dummies(data,columns=['manufactor','CPU_manufacturer','graphic_manufacturer'],drop_first=True)\n",
    "\n",
    "y_prediction = model.predict(stan_scaler.transform(data))\n",
    "\n"
   ]
  },
  {
   "cell_type": "code",
   "execution_count": null,
   "metadata": {},
   "outputs": [],
   "source": [
    "cpi = pd.read_csv('cpi.csv')\n",
    "cpi"
   ]
  },
  {
   "cell_type": "markdown",
   "metadata": {},
   "source": []
  },
  {
   "cell_type": "markdown",
   "metadata": {},
   "source": [
    "الگوریتم یادگیری روی داده اصلی:"
   ]
  },
  {
   "cell_type": "code",
   "execution_count": 123,
   "metadata": {},
   "outputs": [],
   "source": [
    "all_data = pd.read_csv('sales_data.csv')"
   ]
  },
  {
   "cell_type": "code",
   "execution_count": null,
   "metadata": {},
   "outputs": [],
   "source": []
  }
 ],
 "metadata": {
  "kernelspec": {
   "display_name": "base",
   "language": "python",
   "name": "python3"
  },
  "language_info": {
   "codemirror_mode": {
    "name": "ipython",
    "version": 3
   },
   "file_extension": ".py",
   "mimetype": "text/x-python",
   "name": "python",
   "nbconvert_exporter": "python",
   "pygments_lexer": "ipython3",
   "version": "3.11.4"
  },
  "orig_nbformat": 4
 },
 "nbformat": 4,
 "nbformat_minor": 2
}
