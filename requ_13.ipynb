{
 "cells": [
  {
   "cell_type": "code",
   "execution_count": 283,
   "metadata": {},
   "outputs": [],
   "source": [
    "import pandas as pd\n",
    "import numpy as np"
   ]
  },
  {
   "cell_type": "code",
   "execution_count": 284,
   "metadata": {},
   "outputs": [],
   "source": [
    "all_data = pd.read_csv('sales_data.csv')"
   ]
  },
  {
   "cell_type": "markdown",
   "metadata": {},
   "source": [
    "درخواست ۱۳:"
   ]
  },
  {
   "cell_type": "markdown",
   "metadata": {},
   "source": [
    "در این درخواست ابتدا نسبت فروش هر مدل در هر شهر را بدست می‌آوریم. و در ادامه بر پایه این داده مدل یادگیری رگرسیون خطی ایجاد می‌کنیم که با در اختیار داشتن مشخصات و ویژگی‌های یک لپتاپ می‌توان تخمینی از درصد فروش آن لپتاپ در تهران و دیگر شهرها ارائه دهد. این مدل به شرکت کمک‌ می‌کند که هم در مدیریت انبارهای خود و هم در مدیریت شبکه توزیع خود بین تهران و دیگر شهرها تناسبی برقرار کند. همچنین برنامه‌های بازاریابی و ارائه تخفیف و فروش ویژه را برای هر مدل بسته به میزان محبوبیت آن در تهران و شهرها تنظیم‌ کند و برای مثال برای لپتاپی که فروش بسیار کمی در تهران دارد، تمرکز کمی روی شهر تهران قرار می‌دهد"
   ]
  },
  {
   "cell_type": "code",
   "execution_count": 285,
   "metadata": {},
   "outputs": [],
   "source": [
    "branch_model_data = all_data.groupby(by=['Branch','Model_Name']).sum()['Quantity'].reset_index()"
   ]
  },
  {
   "cell_type": "code",
   "execution_count": 286,
   "metadata": {},
   "outputs": [],
   "source": [
    "model_data = all_data.groupby(by=['Model_Name']).sum()['Quantity'].reset_index()\n",
    "model_data=model_data.rename(columns={'Quantity':'Quantity2'})"
   ]
  },
  {
   "cell_type": "code",
   "execution_count": 287,
   "metadata": {},
   "outputs": [],
   "source": [
    "branchmodel_data = pd.merge(branch_model_data,model_data,how='inner',on='Model_Name')"
   ]
  },
  {
   "cell_type": "code",
   "execution_count": 288,
   "metadata": {},
   "outputs": [
    {
     "data": {
      "text/html": [
       "<div>\n",
       "<style scoped>\n",
       "    .dataframe tbody tr th:only-of-type {\n",
       "        vertical-align: middle;\n",
       "    }\n",
       "\n",
       "    .dataframe tbody tr th {\n",
       "        vertical-align: top;\n",
       "    }\n",
       "\n",
       "    .dataframe thead th {\n",
       "        text-align: right;\n",
       "    }\n",
       "</style>\n",
       "<table border=\"1\" class=\"dataframe\">\n",
       "  <thead>\n",
       "    <tr style=\"text-align: right;\">\n",
       "      <th></th>\n",
       "      <th>Branch</th>\n",
       "      <th>Model_Name</th>\n",
       "      <th>Quantity</th>\n",
       "      <th>Quantity2</th>\n",
       "      <th>branch_perc</th>\n",
       "    </tr>\n",
       "  </thead>\n",
       "  <tbody>\n",
       "    <tr>\n",
       "      <th>0</th>\n",
       "      <td>Ahvaz</td>\n",
       "      <td>110-15ACL (A6-7310/4GB/500GB/W10)</td>\n",
       "      <td>8</td>\n",
       "      <td>119</td>\n",
       "      <td>0.067227</td>\n",
       "    </tr>\n",
       "    <tr>\n",
       "      <th>1</th>\n",
       "      <td>Arak</td>\n",
       "      <td>110-15ACL (A6-7310/4GB/500GB/W10)</td>\n",
       "      <td>5</td>\n",
       "      <td>119</td>\n",
       "      <td>0.042017</td>\n",
       "    </tr>\n",
       "    <tr>\n",
       "      <th>2</th>\n",
       "      <td>Hamedan</td>\n",
       "      <td>110-15ACL (A6-7310/4GB/500GB/W10)</td>\n",
       "      <td>5</td>\n",
       "      <td>119</td>\n",
       "      <td>0.042017</td>\n",
       "    </tr>\n",
       "    <tr>\n",
       "      <th>3</th>\n",
       "      <td>Isfahan</td>\n",
       "      <td>110-15ACL (A6-7310/4GB/500GB/W10)</td>\n",
       "      <td>11</td>\n",
       "      <td>119</td>\n",
       "      <td>0.092437</td>\n",
       "    </tr>\n",
       "    <tr>\n",
       "      <th>4</th>\n",
       "      <td>Karaj</td>\n",
       "      <td>110-15ACL (A6-7310/4GB/500GB/W10)</td>\n",
       "      <td>9</td>\n",
       "      <td>119</td>\n",
       "      <td>0.075630</td>\n",
       "    </tr>\n",
       "    <tr>\n",
       "      <th>...</th>\n",
       "      <td>...</td>\n",
       "      <td>...</td>\n",
       "      <td>...</td>\n",
       "      <td>...</td>\n",
       "      <td>...</td>\n",
       "    </tr>\n",
       "    <tr>\n",
       "      <th>9876</th>\n",
       "      <td>Shiraz</td>\n",
       "      <td>Zenbook UX510UW-FI095T</td>\n",
       "      <td>58</td>\n",
       "      <td>1268</td>\n",
       "      <td>0.045741</td>\n",
       "    </tr>\n",
       "    <tr>\n",
       "      <th>9877</th>\n",
       "      <td>Tabriz</td>\n",
       "      <td>Zenbook UX510UW-FI095T</td>\n",
       "      <td>54</td>\n",
       "      <td>1268</td>\n",
       "      <td>0.042587</td>\n",
       "    </tr>\n",
       "    <tr>\n",
       "      <th>9878</th>\n",
       "      <td>Tehran</td>\n",
       "      <td>Zenbook UX510UW-FI095T</td>\n",
       "      <td>203</td>\n",
       "      <td>1268</td>\n",
       "      <td>0.160095</td>\n",
       "    </tr>\n",
       "    <tr>\n",
       "      <th>9879</th>\n",
       "      <td>Yazd</td>\n",
       "      <td>Zenbook UX510UW-FI095T</td>\n",
       "      <td>73</td>\n",
       "      <td>1268</td>\n",
       "      <td>0.057571</td>\n",
       "    </tr>\n",
       "    <tr>\n",
       "      <th>9880</th>\n",
       "      <td>Zanjan</td>\n",
       "      <td>Zenbook UX510UW-FI095T</td>\n",
       "      <td>56</td>\n",
       "      <td>1268</td>\n",
       "      <td>0.044164</td>\n",
       "    </tr>\n",
       "  </tbody>\n",
       "</table>\n",
       "<p>9881 rows × 5 columns</p>\n",
       "</div>"
      ],
      "text/plain": [
       "       Branch                         Model_Name  Quantity  Quantity2  \\\n",
       "0       Ahvaz  110-15ACL (A6-7310/4GB/500GB/W10)         8        119   \n",
       "1        Arak  110-15ACL (A6-7310/4GB/500GB/W10)         5        119   \n",
       "2     Hamedan  110-15ACL (A6-7310/4GB/500GB/W10)         5        119   \n",
       "3     Isfahan  110-15ACL (A6-7310/4GB/500GB/W10)        11        119   \n",
       "4       Karaj  110-15ACL (A6-7310/4GB/500GB/W10)         9        119   \n",
       "...       ...                                ...       ...        ...   \n",
       "9876   Shiraz             Zenbook UX510UW-FI095T        58       1268   \n",
       "9877   Tabriz             Zenbook UX510UW-FI095T        54       1268   \n",
       "9878   Tehran             Zenbook UX510UW-FI095T       203       1268   \n",
       "9879     Yazd             Zenbook UX510UW-FI095T        73       1268   \n",
       "9880   Zanjan             Zenbook UX510UW-FI095T        56       1268   \n",
       "\n",
       "      branch_perc  \n",
       "0        0.067227  \n",
       "1        0.042017  \n",
       "2        0.042017  \n",
       "3        0.092437  \n",
       "4        0.075630  \n",
       "...           ...  \n",
       "9876     0.045741  \n",
       "9877     0.042587  \n",
       "9878     0.160095  \n",
       "9879     0.057571  \n",
       "9880     0.044164  \n",
       "\n",
       "[9881 rows x 5 columns]"
      ]
     },
     "execution_count": 288,
     "metadata": {},
     "output_type": "execute_result"
    }
   ],
   "source": [
    "branchmodel_data['branch_perc'] = branchmodel_data['Quantity']/branchmodel_data['Quantity2']\n",
    "branchmodel_data"
   ]
  },
  {
   "cell_type": "markdown",
   "metadata": {},
   "source": [
    "در نتیجه برای درصد فروش هر مدل در شهر تهران نسبت به کل فروش آن لپتاپ داریم:\n",
    "از ۶ درصد تا ۲۳ درصد متغیر است:"
   ]
  },
  {
   "cell_type": "code",
   "execution_count": 292,
   "metadata": {},
   "outputs": [
    {
     "data": {
      "text/plain": [
       "1580     6.299213\n",
       "477      8.791209\n",
       "6251     9.174312\n",
       "2364     9.230769\n",
       "13      10.084034\n",
       "          ...    \n",
       "4699    20.909091\n",
       "3291    20.979021\n",
       "8982    21.978022\n",
       "6633    22.857143\n",
       "6187    23.770492\n",
       "Name: branch_perc, Length: 618, dtype: float64"
      ]
     },
     "execution_count": 292,
     "metadata": {},
     "output_type": "execute_result"
    }
   ],
   "source": [
    "branchmodel_data[branchmodel_data['Branch']=='Tehran']['branch_perc'].sort_values()*100"
   ]
  },
  {
   "cell_type": "markdown",
   "metadata": {},
   "source": [
    "حال روی داده‌ای که از درصد فروش هر مدل در هر شعبه کشور داریم، مدل یادگیری بر پایه رگرسیون خطی می‌سازیم که بتواند برای هر لپتاپ جدید با در اختیار داشتن مشخصات و ویژگی‌ها و تعیین شعبه مورد نظر، سهم فروش آن شعبه یا همان محبوبیت نسبی آن لپتاپ در آن شهر را تعیین کند."
   ]
  },
  {
   "cell_type": "markdown",
   "metadata": {},
   "source": [
    "شرکت با داشتن این مدل می‌تواند برای هر لپتاپ جدید با داشتن متغیرهای آن، میزان محبوبیت و خرید نسبی آن لپتاپ در هر شهر را بدست آورد و با توجه به مقدار بدست آمده نسبت به توزیع و انبار آن کالا در هر شهر تصمیم بگیرد. همچنین سرمایه‌گذاری بیشتری برای تبلیغ هر لپتاپی در شعبات و شهرهایی کند که احتمال موفقیت بیشتری برای آن لپتاپ متصور است"
   ]
  },
  {
   "cell_type": "code",
   "execution_count": 293,
   "metadata": {},
   "outputs": [],
   "source": [
    "branch_perc = branchmodel_data[['Branch','Model_Name','branch_perc']]\n"
   ]
  },
  {
   "cell_type": "code",
   "execution_count": 294,
   "metadata": {},
   "outputs": [],
   "source": [
    "all_data = pd.read_csv('sales_data.csv')\n",
    "all_data[['year', 'month', 'day']] = all_data.Order_Date.str.split(\"-\",expand=True)\n",
    "all_data['year']=all_data['year'].astype('int')\n",
    "all_data['month']=all_data['month'].astype('int')\n",
    "all_data['day']=all_data['day'].astype('int')\n",
    "\n",
    "\n",
    "all_data = all_data.loc[((all_data['month']<7) & (all_data['year']==1402)) | (all_data['year']<1402)]\n",
    "all_data = all_data.loc[((all_data['month']>10) & (all_data['year']==1390)) | (all_data['year']>1390)]"
   ]
  },
  {
   "cell_type": "markdown",
   "metadata": {},
   "source": [
    "از داده‌های قیمت مصرف‌کننده مرکز آمار از ابتدای سال ۹۱ تا شهریور ۱۴۰۲ برای تعدیل قیمت‌های موجود و تعدیل سود و تبدیل آن به قیمت ثابت سال ۱۴۰۰ استفاده می‌کنیم. یعنی تورم را در می‌آوریم:"
   ]
  },
  {
   "cell_type": "code",
   "execution_count": 295,
   "metadata": {},
   "outputs": [],
   "source": [
    "cpi = pd.read_csv('cpi.csv')\n",
    "#cpi['CPI'] = cpi['CPI'].astype('float')\n",
    "all_data = pd.merge(all_data,cpi,how='inner',on=['year','month'])\n",
    "all_data\n",
    "all_data['Price'] = all_data['Price']*100/all_data['CPI']\n",
    "all_data['Total_Price'] = all_data['Total_Price']*100/all_data['CPI']\n",
    "all_data['Profit'] = all_data['Profit']*100/all_data['CPI']"
   ]
  },
  {
   "cell_type": "code",
   "execution_count": 296,
   "metadata": {},
   "outputs": [],
   "source": [
    "model_fitu = all_data.drop_duplicates(subset=['Model_Name'])\n",
    "model_fitu = model_fitu[['Manufacturer','Model_Name','Screen_Size','RAM','Weight']]"
   ]
  },
  {
   "cell_type": "code",
   "execution_count": 297,
   "metadata": {},
   "outputs": [],
   "source": [
    "model_data_mean = all_data.groupby(['Model_Name']).sum()[['Quantity','Total_Price']].reset_index()\n",
    "model_data_mean['Price'] = model_data_mean['Total_Price']/model_data_mean['Quantity']\n",
    "model_data = pd.merge(model_fitu,model_data_mean[['Model_Name','Price']],how='inner',on='Model_Name')"
   ]
  },
  {
   "cell_type": "code",
   "execution_count": 298,
   "metadata": {},
   "outputs": [],
   "source": [
    "data_branch = pd.merge(branch_perc,model_data,how='inner',on='Model_Name')\n",
    "data_branch['RAM'] = data_branch.RAM.str.split(\"G\",expand=True)[0]\n",
    "data_branch['RAM'] = data_branch['RAM'].astype(float)\n",
    "data_branch['Weight'] = data_branch.Weight.str.split(\"k\",expand=True)[0]\n",
    "data_branch['Weight'] = data_branch['Weight'].astype(float)\n",
    "data_branch['Screen_Size'] = data_branch.Screen_Size.str.split('\"',expand=True)[0]\n",
    "data_branch['Screen_Size'] = data_branch['Screen_Size'].astype(float)\n",
    "\n",
    "\n",
    "data_branch = pd.get_dummies(data_branch,columns=['Manufacturer','Branch'])"
   ]
  },
  {
   "cell_type": "code",
   "execution_count": 299,
   "metadata": {},
   "outputs": [],
   "source": [
    "from sklearn.linear_model import LinearRegression\n",
    "from sklearn.model_selection import train_test_split\n",
    "from sklearn.preprocessing import StandardScaler\n",
    "\n",
    "X = data_branch.drop(['branch_perc','Model_Name','Price'], axis=1)\n",
    "y = data_branch['branch_perc']\n",
    "\n",
    "x_train,x_test , y_train,y_test = train_test_split(X,y, test_size=.2, random_state=313)"
   ]
  },
  {
   "cell_type": "code",
   "execution_count": 300,
   "metadata": {},
   "outputs": [],
   "source": [
    "from sklearn.preprocessing import MinMaxScaler\n",
    "\n",
    "stan_scaler = MinMaxScaler()\n",
    "x_train = stan_scaler.fit_transform(x_train)"
   ]
  },
  {
   "cell_type": "code",
   "execution_count": 301,
   "metadata": {},
   "outputs": [
    {
     "data": {
      "text/html": [
       "<style>#sk-container-id-11 {color: black;}#sk-container-id-11 pre{padding: 0;}#sk-container-id-11 div.sk-toggleable {background-color: white;}#sk-container-id-11 label.sk-toggleable__label {cursor: pointer;display: block;width: 100%;margin-bottom: 0;padding: 0.3em;box-sizing: border-box;text-align: center;}#sk-container-id-11 label.sk-toggleable__label-arrow:before {content: \"▸\";float: left;margin-right: 0.25em;color: #696969;}#sk-container-id-11 label.sk-toggleable__label-arrow:hover:before {color: black;}#sk-container-id-11 div.sk-estimator:hover label.sk-toggleable__label-arrow:before {color: black;}#sk-container-id-11 div.sk-toggleable__content {max-height: 0;max-width: 0;overflow: hidden;text-align: left;background-color: #f0f8ff;}#sk-container-id-11 div.sk-toggleable__content pre {margin: 0.2em;color: black;border-radius: 0.25em;background-color: #f0f8ff;}#sk-container-id-11 input.sk-toggleable__control:checked~div.sk-toggleable__content {max-height: 200px;max-width: 100%;overflow: auto;}#sk-container-id-11 input.sk-toggleable__control:checked~label.sk-toggleable__label-arrow:before {content: \"▾\";}#sk-container-id-11 div.sk-estimator input.sk-toggleable__control:checked~label.sk-toggleable__label {background-color: #d4ebff;}#sk-container-id-11 div.sk-label input.sk-toggleable__control:checked~label.sk-toggleable__label {background-color: #d4ebff;}#sk-container-id-11 input.sk-hidden--visually {border: 0;clip: rect(1px 1px 1px 1px);clip: rect(1px, 1px, 1px, 1px);height: 1px;margin: -1px;overflow: hidden;padding: 0;position: absolute;width: 1px;}#sk-container-id-11 div.sk-estimator {font-family: monospace;background-color: #f0f8ff;border: 1px dotted black;border-radius: 0.25em;box-sizing: border-box;margin-bottom: 0.5em;}#sk-container-id-11 div.sk-estimator:hover {background-color: #d4ebff;}#sk-container-id-11 div.sk-parallel-item::after {content: \"\";width: 100%;border-bottom: 1px solid gray;flex-grow: 1;}#sk-container-id-11 div.sk-label:hover label.sk-toggleable__label {background-color: #d4ebff;}#sk-container-id-11 div.sk-serial::before {content: \"\";position: absolute;border-left: 1px solid gray;box-sizing: border-box;top: 0;bottom: 0;left: 50%;z-index: 0;}#sk-container-id-11 div.sk-serial {display: flex;flex-direction: column;align-items: center;background-color: white;padding-right: 0.2em;padding-left: 0.2em;position: relative;}#sk-container-id-11 div.sk-item {position: relative;z-index: 1;}#sk-container-id-11 div.sk-parallel {display: flex;align-items: stretch;justify-content: center;background-color: white;position: relative;}#sk-container-id-11 div.sk-item::before, #sk-container-id-11 div.sk-parallel-item::before {content: \"\";position: absolute;border-left: 1px solid gray;box-sizing: border-box;top: 0;bottom: 0;left: 50%;z-index: -1;}#sk-container-id-11 div.sk-parallel-item {display: flex;flex-direction: column;z-index: 1;position: relative;background-color: white;}#sk-container-id-11 div.sk-parallel-item:first-child::after {align-self: flex-end;width: 50%;}#sk-container-id-11 div.sk-parallel-item:last-child::after {align-self: flex-start;width: 50%;}#sk-container-id-11 div.sk-parallel-item:only-child::after {width: 0;}#sk-container-id-11 div.sk-dashed-wrapped {border: 1px dashed gray;margin: 0 0.4em 0.5em 0.4em;box-sizing: border-box;padding-bottom: 0.4em;background-color: white;}#sk-container-id-11 div.sk-label label {font-family: monospace;font-weight: bold;display: inline-block;line-height: 1.2em;}#sk-container-id-11 div.sk-label-container {text-align: center;}#sk-container-id-11 div.sk-container {/* jupyter's `normalize.less` sets `[hidden] { display: none; }` but bootstrap.min.css set `[hidden] { display: none !important; }` so we also need the `!important` here to be able to override the default hidden behavior on the sphinx rendered scikit-learn.org. See: https://github.com/scikit-learn/scikit-learn/issues/21755 */display: inline-block !important;position: relative;}#sk-container-id-11 div.sk-text-repr-fallback {display: none;}</style><div id=\"sk-container-id-11\" class=\"sk-top-container\"><div class=\"sk-text-repr-fallback\"><pre>LinearRegression()</pre><b>In a Jupyter environment, please rerun this cell to show the HTML representation or trust the notebook. <br />On GitHub, the HTML representation is unable to render, please try loading this page with nbviewer.org.</b></div><div class=\"sk-container\" hidden><div class=\"sk-item\"><div class=\"sk-estimator sk-toggleable\"><input class=\"sk-toggleable__control sk-hidden--visually\" id=\"sk-estimator-id-11\" type=\"checkbox\" checked><label for=\"sk-estimator-id-11\" class=\"sk-toggleable__label sk-toggleable__label-arrow\">LinearRegression</label><div class=\"sk-toggleable__content\"><pre>LinearRegression()</pre></div></div></div></div></div>"
      ],
      "text/plain": [
       "LinearRegression()"
      ]
     },
     "execution_count": 301,
     "metadata": {},
     "output_type": "execute_result"
    }
   ],
   "source": [
    "model = LinearRegression()\n",
    "model.fit(x_train,y_train)"
   ]
  },
  {
   "cell_type": "code",
   "execution_count": 302,
   "metadata": {},
   "outputs": [
    {
     "data": {
      "text/plain": [
       "0.8250791432284851"
      ]
     },
     "execution_count": 302,
     "metadata": {},
     "output_type": "execute_result"
    }
   ],
   "source": [
    "from sklearn.metrics import r2_score\n",
    "y_pred = model.predict(stan_scaler.transform(x_test))\n",
    "\n",
    "r2 = r2_score(y_test, y_pred)\n",
    "r2 "
   ]
  },
  {
   "cell_type": "markdown",
   "metadata": {},
   "source": [
    "و مشاهده می‌کنیم که مدل توانسته تا حد بسیار خوبی سهم فروش در هر شهر را پیش بینی کند"
   ]
  },
  {
   "cell_type": "code",
   "execution_count": 303,
   "metadata": {},
   "outputs": [
    {
     "name": "stdout",
     "output_type": "stream",
     "text": [
      "0.062399689091174486\n",
      "0.0469975471496582\n",
      "0.15304183959960938\n",
      "0.028136158008425748\n"
     ]
    }
   ],
   "source": [
    "print(y_pred.mean())\n",
    "print(y_pred.min())\n",
    "print(y_pred.max())\n",
    "print(y_pred.std())"
   ]
  },
  {
   "cell_type": "code",
   "execution_count": 304,
   "metadata": {},
   "outputs": [
    {
     "name": "stdout",
     "output_type": "stream",
     "text": [
      "0.062051573261612994\n",
      "0.008695652173913044\n",
      "0.20833333333333334\n",
      "0.030551944694857842\n"
     ]
    }
   ],
   "source": [
    "print(y_test.mean())\n",
    "print(y_test.min())\n",
    "print(y_test.max())\n",
    "print(y_test.std())"
   ]
  },
  {
   "cell_type": "code",
   "execution_count": 305,
   "metadata": {},
   "outputs": [
    {
     "data": {
      "text/plain": [
       "array([0.04983997, 0.05006409, 0.10026169, ..., 0.05002785, 0.05065536,\n",
       "       0.0499959 ])"
      ]
     },
     "execution_count": 305,
     "metadata": {},
     "output_type": "execute_result"
    }
   ],
   "source": [
    "y_pred"
   ]
  }
 ],
 "metadata": {
  "kernelspec": {
   "display_name": "base",
   "language": "python",
   "name": "python3"
  },
  "language_info": {
   "codemirror_mode": {
    "name": "ipython",
    "version": 3
   },
   "file_extension": ".py",
   "mimetype": "text/x-python",
   "name": "python",
   "nbconvert_exporter": "python",
   "pygments_lexer": "ipython3",
   "version": "3.11.4"
  }
 },
 "nbformat": 4,
 "nbformat_minor": 2
}
