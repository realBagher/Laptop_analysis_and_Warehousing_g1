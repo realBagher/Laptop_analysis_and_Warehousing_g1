{
 "cells": [
  {
   "cell_type": "markdown",
   "metadata": {},
   "source": [
    "درخواست ۸:\n"
   ]
  },
  {
   "cell_type": "markdown",
   "metadata": {},
   "source": [
    "در این درخواست از ما می‌خواهد که لپتاپ‌های حال حاضر بازار ایران را برحسب شباهت ویژگی‌هایشان دسته‌بندی کنیم؛ بنابراین از یک الگوریتم یادگیری نظارت نشده استفاده می‌کنیم. اگر بخواهیم این دسته‌بندی را صرفا براساس ستون‌های عددی همچون قیمت، وزن لپتاپ و ظرفیت حافظه انجام دهیم باید از الگوریتم \n",
    "kmeans\n",
    " استفاده کنیم. و برای استفاده از ستون‌های غیرعددی باید از \n",
    " Kmodes \n",
    " استفاده کرد. و در نهایت در اینجا برای اینکه از هر دو نوع ستون‌های عددی و غیرعددی بهره بگیریم از الگوریتم یادگیری \n",
    " kprototypes\n",
    "  استفاده می‌کنیم.\n"
   ]
  },
  {
   "cell_type": "code",
   "execution_count": 80,
   "metadata": {},
   "outputs": [],
   "source": [
    "import pandas as pd\n",
    "import numpy as np"
   ]
  },
  {
   "cell_type": "code",
   "execution_count": 81,
   "metadata": {},
   "outputs": [
    {
     "data": {
      "text/html": [
       "<div>\n",
       "<style scoped>\n",
       "    .dataframe tbody tr th:only-of-type {\n",
       "        vertical-align: middle;\n",
       "    }\n",
       "\n",
       "    .dataframe tbody tr th {\n",
       "        vertical-align: top;\n",
       "    }\n",
       "\n",
       "    .dataframe thead th {\n",
       "        text-align: right;\n",
       "    }\n",
       "</style>\n",
       "<table border=\"1\" class=\"dataframe\">\n",
       "  <thead>\n",
       "    <tr style=\"text-align: right;\">\n",
       "      <th></th>\n",
       "      <th>aprice</th>\n",
       "      <th>sprice</th>\n",
       "      <th>laptop_weight</th>\n",
       "      <th>Screen_size</th>\n",
       "      <th>Laptop_id</th>\n",
       "    </tr>\n",
       "  </thead>\n",
       "  <tbody>\n",
       "    <tr>\n",
       "      <th>count</th>\n",
       "      <td>4.310000e+03</td>\n",
       "      <td>4.310000e+03</td>\n",
       "      <td>4310.000000</td>\n",
       "      <td>4310.00000</td>\n",
       "      <td>4310.000000</td>\n",
       "    </tr>\n",
       "    <tr>\n",
       "      <th>mean</th>\n",
       "      <td>4.221750e+07</td>\n",
       "      <td>4.220546e+07</td>\n",
       "      <td>6.968171</td>\n",
       "      <td>15.35634</td>\n",
       "      <td>88777.646404</td>\n",
       "    </tr>\n",
       "    <tr>\n",
       "      <th>std</th>\n",
       "      <td>3.088505e+07</td>\n",
       "      <td>2.881716e+07</td>\n",
       "      <td>95.308869</td>\n",
       "      <td>0.85742</td>\n",
       "      <td>41757.473279</td>\n",
       "    </tr>\n",
       "    <tr>\n",
       "      <th>min</th>\n",
       "      <td>9.566000e+06</td>\n",
       "      <td>9.666000e+06</td>\n",
       "      <td>1.000000</td>\n",
       "      <td>11.00000</td>\n",
       "      <td>18.000000</td>\n",
       "    </tr>\n",
       "    <tr>\n",
       "      <th>25%</th>\n",
       "      <td>2.055000e+07</td>\n",
       "      <td>2.219900e+07</td>\n",
       "      <td>1.780000</td>\n",
       "      <td>15.60000</td>\n",
       "      <td>62983.750000</td>\n",
       "    </tr>\n",
       "    <tr>\n",
       "      <th>50%</th>\n",
       "      <td>3.236400e+07</td>\n",
       "      <td>3.299900e+07</td>\n",
       "      <td>2.100000</td>\n",
       "      <td>15.60000</td>\n",
       "      <td>109735.500000</td>\n",
       "    </tr>\n",
       "    <tr>\n",
       "      <th>75%</th>\n",
       "      <td>5.190000e+07</td>\n",
       "      <td>5.100000e+07</td>\n",
       "      <td>2.300000</td>\n",
       "      <td>15.60000</td>\n",
       "      <td>122535.750000</td>\n",
       "    </tr>\n",
       "    <tr>\n",
       "      <th>max</th>\n",
       "      <td>2.200140e+08</td>\n",
       "      <td>2.203990e+08</td>\n",
       "      <td>2800.000000</td>\n",
       "      <td>18.40000</td>\n",
       "      <td>134663.000000</td>\n",
       "    </tr>\n",
       "  </tbody>\n",
       "</table>\n",
       "</div>"
      ],
      "text/plain": [
       "             aprice        sprice  laptop_weight  Screen_size      Laptop_id\n",
       "count  4.310000e+03  4.310000e+03    4310.000000   4310.00000    4310.000000\n",
       "mean   4.221750e+07  4.220546e+07       6.968171     15.35634   88777.646404\n",
       "std    3.088505e+07  2.881716e+07      95.308869      0.85742   41757.473279\n",
       "min    9.566000e+06  9.666000e+06       1.000000     11.00000      18.000000\n",
       "25%    2.055000e+07  2.219900e+07       1.780000     15.60000   62983.750000\n",
       "50%    3.236400e+07  3.299900e+07       2.100000     15.60000  109735.500000\n",
       "75%    5.190000e+07  5.100000e+07       2.300000     15.60000  122535.750000\n",
       "max    2.200140e+08  2.203990e+08    2800.000000     18.40000  134663.000000"
      ]
     },
     "execution_count": 81,
     "metadata": {},
     "output_type": "execute_result"
    }
   ],
   "source": [
    "laptop_data = pd.read_csv('Laptops_final.csv')\n",
    "laptop_data.describe()\n"
   ]
  },
  {
   "cell_type": "markdown",
   "metadata": {},
   "source": [
    "ابتدا لازم است برخی ستون‌هایی را که نیاز به تمیزکردن دارد را تمیز کنیم و در صورت امکان به فرمت عددی تبدیل کنیم:"
   ]
  },
  {
   "cell_type": "code",
   "execution_count": 82,
   "metadata": {},
   "outputs": [],
   "source": [
    "laptop_data['RAM'] = laptop_data.RAM.str.split(\" \",expand=True)[0]\n",
    "laptop_data['RAM'] = laptop_data['RAM'].astype(float)"
   ]
  },
  {
   "cell_type": "code",
   "execution_count": 83,
   "metadata": {},
   "outputs": [],
   "source": [
    "laptop_data['hard_disk']=laptop_data.hard_disk.str.split(\" \",expand=True)[0]\n",
    "laptop_data.drop(index=laptop_data[laptop_data['hard_disk']=='SATA'].index,inplace=True)\n",
    "laptop_data['hard_disk'] = laptop_data['hard_disk'].astype(float)\n"
   ]
  },
  {
   "cell_type": "code",
   "execution_count": 84,
   "metadata": {},
   "outputs": [],
   "source": [
    "laptop_data['graphic_memory'] = laptop_data.graphic_memory.str.split(\" \",expand=True)[0]\n",
    "laptop_data['graphic_memory'] = laptop_data['graphic_memory'].astype(float)\n"
   ]
  },
  {
   "cell_type": "code",
   "execution_count": 85,
   "metadata": {},
   "outputs": [],
   "source": [
    "laptop_data['CPU_frequency'] = laptop_data.CPU_frequency.str.split(\" \",expand=True)[0]\n",
    "laptop_data['CPU_frequency'] = laptop_data['CPU_frequency'].astype(float)\n",
    "laptop_data['cache_memory'] = laptop_data.cache_memory.str.split(\" \",expand=True)[0]\n",
    "laptop_data['cache_memory'] = laptop_data['cache_memory'].astype(float)\n"
   ]
  },
  {
   "cell_type": "markdown",
   "metadata": {},
   "source": [
    "عنوان ستون‌های عددی و غیرعددی را ذخیره می‌کنیم تا در ادامه برای اجرای الگوریتم استفاده کنیم"
   ]
  },
  {
   "cell_type": "code",
   "execution_count": 86,
   "metadata": {},
   "outputs": [],
   "source": [
    "cat_cols = ['manufactor','laptop_size','Screen_type','CPU_manufacturer','CPU_series']\n",
    "num_cols = ['laptop_weight','Screen_size','RAM','hard_disk']\n"
   ]
  },
  {
   "cell_type": "markdown",
   "metadata": {},
   "source": [
    "برخی از ستون‌هایی که نیازی به آن‌ها نداریم را حذف می‌کنیم:"
   ]
  },
  {
   "cell_type": "code",
   "execution_count": 87,
   "metadata": {},
   "outputs": [],
   "source": [
    "laptop_data.drop(columns={'aprice','Screen_resolution','CPU_frequency','cache_memory','graphic_memory','sprice','laptop_type','CPU_model','RAM_type','internal_memory','graphic_manufacturer','graphic_model','Laptop_id'},inplace=True)\n",
    "\n",
    "laptop_data.dropna(inplace=True)"
   ]
  },
  {
   "cell_type": "code",
   "execution_count": 88,
   "metadata": {},
   "outputs": [],
   "source": [
    "from sklearn import preprocessing\n",
    "le = preprocessing.LabelEncoder()\n",
    "std_scaler = preprocessing.StandardScaler()\n",
    "\n",
    "\n",
    "laptop_data.loc[:, cat_cols] = laptop_data.loc[:, cat_cols].apply(le.fit_transform)\n",
    "\n",
    "laptop_data.loc[:, num_cols] = std_scaler.fit_transform(laptop_data.loc[:, num_cols])\n"
   ]
  },
  {
   "cell_type": "markdown",
   "metadata": {},
   "source": [
    "برای نمونه ابتدا برای حالت ۲ دسته‌ای اجرا می‌کنیم:"
   ]
  },
  {
   "cell_type": "code",
   "execution_count": 89,
   "metadata": {},
   "outputs": [
    {
     "name": "stdout",
     "output_type": "stream",
     "text": [
      "Initialization method and algorithm are deterministic. Setting n_init to 1.\n"
     ]
    },
    {
     "name": "stdout",
     "output_type": "stream",
     "text": [
      "Init: initializing centroids\n",
      "Init: initializing clusters\n",
      "Starting iterations...\n",
      "Run: 1, iteration: 1/100, moves: 590, ncost: 77972791.18269968\n",
      "Run: 1, iteration: 2/100, moves: 260, ncost: 75593234.14435443\n",
      "Run: 1, iteration: 3/100, moves: 32, ncost: 75566380.36975548\n",
      "Run: 1, iteration: 4/100, moves: 0, ncost: 75566380.36975548\n"
     ]
    }
   ],
   "source": [
    "from kmodes.kprototypes import KPrototypes\n",
    "\n",
    "kpro_cluster = KPrototypes(n_clusters=2, n_init = 1, verbose=1, n_jobs=-1)\n",
    "kpro_cluster_pred = kpro_cluster.fit_predict(laptop_data.drop(columns={'name','ename'}), \\\n",
    "                                             categorical=[laptop_data.columns.get_loc(c) for c in cat_cols] )"
   ]
  },
  {
   "cell_type": "markdown",
   "metadata": {},
   "source": [
    "پس لپتاپ‌ها را به دو دسته تقسیم می‌کند که با توجه به مقدار میانگین، تعداد دو دسته تقریبا یکسان شده است"
   ]
  },
  {
   "cell_type": "code",
   "execution_count": 90,
   "metadata": {},
   "outputs": [
    {
     "name": "stdout",
     "output_type": "stream",
     "text": [
      "[0 1]\n",
      "0.5267193308550185\n"
     ]
    }
   ],
   "source": [
    "# Predicted Clusters\n",
    "print(np.unique(kpro_cluster_pred))\n",
    "print(kpro_cluster_pred.mean())"
   ]
  },
  {
   "cell_type": "markdown",
   "metadata": {},
   "source": [
    "حال الگوریتم را به ازای تعداد دسته‌های ۱ تا ۱۵ اجرا می‌کنیم و با بررسی نمودار مجموع فواصل، تعداد دسته بهینه را تعیین می کنیم:"
   ]
  },
  {
   "cell_type": "code",
   "execution_count": 91,
   "metadata": {},
   "outputs": [
    {
     "name": "stdout",
     "output_type": "stream",
     "text": [
      "Initialization method and algorithm are deterministic. Setting n_init to 1.\n",
      "Init: initializing centroids\n",
      "Init: initializing clusters\n",
      "Starting iterations...\n",
      "Run: 1, iteration: 1/100, moves: 0, ncost: 288375996.0301212\n",
      "\n",
      "-----\n",
      "Initialization method and algorithm are deterministic. Setting n_init to 1.\n",
      "Init: initializing centroids\n",
      "Init: initializing clusters\n",
      "Starting iterations...\n",
      "Run: 1, iteration: 1/100, moves: 249, ncost: 75614434.079571\n",
      "Run: 1, iteration: 2/100, moves: 34, ncost: 75567538.49465193\n",
      "Run: 1, iteration: 3/100, moves: 5, ncost: 75566380.36975548\n",
      "Run: 1, iteration: 4/100, moves: 0, ncost: 75566380.36975548\n",
      "\n",
      "-----\n",
      "Initialization method and algorithm are deterministic. Setting n_init to 1.\n",
      "Init: initializing centroids\n",
      "Init: initializing clusters\n",
      "Starting iterations...\n",
      "Run: 1, iteration: 1/100, moves: 370, ncost: 47737555.235263385\n",
      "Run: 1, iteration: 2/100, moves: 280, ncost: 45722668.47599243\n",
      "Run: 1, iteration: 3/100, moves: 151, ncost: 45266769.346946076\n",
      "Run: 1, iteration: 4/100, moves: 48, ncost: 45223540.776884116\n",
      "Run: 1, iteration: 5/100, moves: 15, ncost: 45220046.79614187\n",
      "Run: 1, iteration: 6/100, moves: 2, ncost: 45219908.707268596\n",
      "Run: 1, iteration: 7/100, moves: 0, ncost: 45219908.707268596\n",
      "\n",
      "-----\n",
      "Initialization method and algorithm are deterministic. Setting n_init to 1.\n",
      "Init: initializing centroids\n",
      "Init: initializing clusters\n",
      "Starting iterations...\n",
      "Run: 1, iteration: 1/100, moves: 976, ncost: 35294765.56518699\n",
      "Run: 1, iteration: 2/100, moves: 234, ncost: 34787277.66822354\n",
      "Run: 1, iteration: 3/100, moves: 30, ncost: 34772097.009550504\n",
      "Run: 1, iteration: 4/100, moves: 5, ncost: 34770862.53100947\n",
      "Run: 1, iteration: 5/100, moves: 6, ncost: 34769956.4368934\n",
      "Run: 1, iteration: 6/100, moves: 1, ncost: 34769925.26411642\n",
      "Run: 1, iteration: 7/100, moves: 0, ncost: 34769925.26411642\n",
      "\n",
      "-----\n",
      "Initialization method and algorithm are deterministic. Setting n_init to 1.\n",
      "Init: initializing centroids\n",
      "Init: initializing clusters\n",
      "Init: initializing centroids\n",
      "Init: initializing clusters\n",
      "Starting iterations...\n",
      "Run: 1, iteration: 1/100, moves: 850, ncost: 34677097.04146478\n",
      "Run: 1, iteration: 2/100, moves: 427, ncost: 32340725.0554413\n",
      "Run: 1, iteration: 3/100, moves: 237, ncost: 31568943.548146844\n",
      "Run: 1, iteration: 4/100, moves: 129, ncost: 31346420.940114446\n",
      "Run: 1, iteration: 5/100, moves: 65, ncost: 31272014.227416936\n",
      "Run: 1, iteration: 6/100, moves: 100, ncost: 31137455.656930562\n",
      "Run: 1, iteration: 7/100, moves: 101, ncost: 30933358.205379583\n",
      "Run: 1, iteration: 8/100, moves: 191, ncost: 30548738.193195708\n",
      "Run: 1, iteration: 9/100, moves: 264, ncost: 29971240.48970271\n",
      "Run: 1, iteration: 10/100, moves: 158, ncost: 29622964.765124094\n",
      "Run: 1, iteration: 11/100, moves: 164, ncost: 29379368.513219036\n",
      "Run: 1, iteration: 12/100, moves: 54, ncost: 29343266.725890644\n",
      "Run: 1, iteration: 13/100, moves: 8, ncost: 29342025.798233356\n",
      "Run: 1, iteration: 14/100, moves: 9, ncost: 29340244.14546917\n",
      "Run: 1, iteration: 15/100, moves: 0, ncost: 29340244.14546917\n",
      "\n",
      "-----\n",
      "Initialization method and algorithm are deterministic. Setting n_init to 1.\n",
      "Init: initializing centroids\n",
      "Init: initializing clusters\n",
      "Starting iterations...\n",
      "Run: 1, iteration: 1/100, moves: 1605, ncost: 26004782.740981605\n",
      "Run: 1, iteration: 2/100, moves: 451, ncost: 24670566.361029174\n",
      "Run: 1, iteration: 3/100, moves: 189, ncost: 24161091.770970866\n",
      "Run: 1, iteration: 4/100, moves: 334, ncost: 22540737.55846517\n",
      "Run: 1, iteration: 5/100, moves: 290, ncost: 21999737.64615225\n",
      "Run: 1, iteration: 6/100, moves: 40, ncost: 21982372.656040713\n",
      "Run: 1, iteration: 7/100, moves: 13, ncost: 21978974.70258203\n",
      "Run: 1, iteration: 8/100, moves: 7, ncost: 21977869.06579175\n",
      "Run: 1, iteration: 9/100, moves: 1, ncost: 21977819.41505429\n",
      "Run: 1, iteration: 10/100, moves: 0, ncost: 21977819.41505429\n",
      "\n",
      "-----\n",
      "Initialization method and algorithm are deterministic. Setting n_init to 1.\n",
      "Init: initializing centroids\n",
      "Init: initializing clusters\n",
      "Starting iterations...\n",
      "Run: 1, iteration: 1/100, moves: 866, ncost: 22818516.914595265\n",
      "Run: 1, iteration: 2/100, moves: 438, ncost: 20815264.033119846\n",
      "Run: 1, iteration: 3/100, moves: 248, ncost: 20000509.765737094\n",
      "Run: 1, iteration: 4/100, moves: 92, ncost: 19929687.608262233\n",
      "Run: 1, iteration: 5/100, moves: 10, ncost: 19927619.226874433\n",
      "Run: 1, iteration: 6/100, moves: 2, ncost: 19927449.93283859\n",
      "Run: 1, iteration: 7/100, moves: 0, ncost: 19927449.93283859\n",
      "\n",
      "-----\n",
      "Initialization method and algorithm are deterministic. Setting n_init to 1.\n",
      "Init: initializing centroids\n",
      "Init: initializing clusters\n",
      "Starting iterations...\n",
      "Run: 1, iteration: 1/100, moves: 896, ncost: 28834395.911625873\n",
      "Run: 1, iteration: 2/100, moves: 762, ncost: 23810973.78366533\n",
      "Run: 1, iteration: 3/100, moves: 588, ncost: 21220830.166694887\n",
      "Run: 1, iteration: 4/100, moves: 553, ncost: 19371882.121957757\n",
      "Run: 1, iteration: 5/100, moves: 247, ncost: 18977219.72339519\n",
      "Run: 1, iteration: 6/100, moves: 221, ncost: 18574235.702276137\n",
      "Run: 1, iteration: 7/100, moves: 272, ncost: 18008916.748906847\n",
      "Run: 1, iteration: 8/100, moves: 157, ncost: 17827055.907406956\n",
      "Run: 1, iteration: 9/100, moves: 64, ncost: 17776353.174105953\n",
      "Run: 1, iteration: 10/100, moves: 41, ncost: 17753505.250483885\n",
      "Run: 1, iteration: 11/100, moves: 14, ncost: 17747453.213001683\n",
      "Run: 1, iteration: 12/100, moves: 3, ncost: 17747087.677036185\n",
      "Run: 1, iteration: 13/100, moves: 0, ncost: 17747087.677036185\n",
      "\n",
      "-----\n",
      "Initialization method and algorithm are deterministic. Setting n_init to 1.\n",
      "Init: initializing centroids\n",
      "Init: initializing clusters\n",
      "Starting iterations...\n",
      "Run: 1, iteration: 1/100, moves: 857, ncost: 17282793.004867613\n",
      "Run: 1, iteration: 2/100, moves: 246, ncost: 16861905.48060041\n",
      "Run: 1, iteration: 3/100, moves: 129, ncost: 16753467.523192737\n",
      "Run: 1, iteration: 4/100, moves: 79, ncost: 16666696.244067242\n",
      "Run: 1, iteration: 5/100, moves: 43, ncost: 16642048.254383286\n",
      "Run: 1, iteration: 6/100, moves: 47, ncost: 16614497.812383503\n",
      "Run: 1, iteration: 7/100, moves: 9, ncost: 16613390.56097954\n",
      "Run: 1, iteration: 8/100, moves: 3, ncost: 16612912.02248384\n",
      "Run: 1, iteration: 9/100, moves: 2, ncost: 16612740.686557906\n",
      "Run: 1, iteration: 10/100, moves: 0, ncost: 16612740.686557906\n",
      "\n",
      "-----\n",
      "Initialization method and algorithm are deterministic. Setting n_init to 1.\n",
      "Init: initializing centroids\n",
      "Init: initializing clusters\n",
      "Init: initializing centroids\n",
      "Init: initializing clusters\n",
      "Starting iterations...\n",
      "Run: 1, iteration: 1/100, moves: 666, ncost: 15584711.239115778\n",
      "Run: 1, iteration: 2/100, moves: 315, ncost: 15075660.419250768\n",
      "Run: 1, iteration: 3/100, moves: 149, ncost: 14874169.68409659\n",
      "Run: 1, iteration: 4/100, moves: 80, ncost: 14750079.571431302\n",
      "Run: 1, iteration: 5/100, moves: 67, ncost: 14639039.271002436\n",
      "Run: 1, iteration: 6/100, moves: 3, ncost: 14638764.040288216\n",
      "Run: 1, iteration: 7/100, moves: 0, ncost: 14638764.040288216\n",
      "\n",
      "-----\n",
      "Initialization method and algorithm are deterministic. Setting n_init to 1.\n",
      "Init: initializing centroids\n",
      "Init: initializing clusters\n",
      "Starting iterations...\n",
      "Run: 1, iteration: 1/100, moves: 1032, ncost: 13906130.606220119\n",
      "Run: 1, iteration: 2/100, moves: 429, ncost: 13202504.737337964\n",
      "Run: 1, iteration: 3/100, moves: 187, ncost: 12806160.457290951\n",
      "Run: 1, iteration: 4/100, moves: 176, ncost: 12530250.707539434\n",
      "Run: 1, iteration: 5/100, moves: 75, ncost: 12486977.305479098\n",
      "Run: 1, iteration: 6/100, moves: 31, ncost: 12452895.82014648\n",
      "Run: 1, iteration: 7/100, moves: 21, ncost: 12436604.046953777\n",
      "Run: 1, iteration: 8/100, moves: 36, ncost: 12405165.17998874\n",
      "Run: 1, iteration: 9/100, moves: 8, ncost: 12404605.87858039\n",
      "Run: 1, iteration: 10/100, moves: 0, ncost: 12404605.87858039\n",
      "\n",
      "-----\n",
      "Initialization method and algorithm are deterministic. Setting n_init to 1.\n",
      "Init: initializing centroids\n",
      "Init: initializing clusters\n",
      "Starting iterations...\n",
      "Run: 1, iteration: 1/100, moves: 1028, ncost: 15533589.766061451\n",
      "Run: 1, iteration: 2/100, moves: 543, ncost: 14284969.085355936\n",
      "Run: 1, iteration: 3/100, moves: 239, ncost: 13857434.517636538\n",
      "Run: 1, iteration: 4/100, moves: 65, ncost: 13813016.233744618\n",
      "Run: 1, iteration: 5/100, moves: 120, ncost: 13655299.32910805\n",
      "Run: 1, iteration: 6/100, moves: 75, ncost: 13590140.065168036\n",
      "Run: 1, iteration: 7/100, moves: 56, ncost: 13547796.980767937\n",
      "Run: 1, iteration: 8/100, moves: 45, ncost: 13511557.194919204\n",
      "Run: 1, iteration: 9/100, moves: 47, ncost: 13472309.096556745\n",
      "Run: 1, iteration: 10/100, moves: 21, ncost: 13456303.871190427\n",
      "Run: 1, iteration: 11/100, moves: 17, ncost: 13445990.29497807\n",
      "Run: 1, iteration: 12/100, moves: 7, ncost: 13444533.025998129\n",
      "Run: 1, iteration: 13/100, moves: 7, ncost: 13436677.854548717\n",
      "Run: 1, iteration: 14/100, moves: 12, ncost: 13427907.39360731\n",
      "Run: 1, iteration: 15/100, moves: 0, ncost: 13427907.39360731\n",
      "\n",
      "-----\n",
      "Initialization method and algorithm are deterministic. Setting n_init to 1.\n",
      "Init: initializing centroids\n",
      "Init: initializing clusters\n",
      "Starting iterations...\n",
      "Run: 1, iteration: 1/100, moves: 931, ncost: 11320023.091488242\n",
      "Run: 1, iteration: 2/100, moves: 420, ncost: 10481338.568170223\n",
      "Run: 1, iteration: 3/100, moves: 120, ncost: 10345703.888958758\n",
      "Run: 1, iteration: 4/100, moves: 76, ncost: 10264378.958532263\n",
      "Run: 1, iteration: 5/100, moves: 17, ncost: 10260912.525532795\n",
      "Run: 1, iteration: 6/100, moves: 8, ncost: 10259309.037599297\n",
      "Run: 1, iteration: 7/100, moves: 1, ncost: 10259281.463055803\n",
      "Run: 1, iteration: 8/100, moves: 0, ncost: 10259281.463055803\n",
      "\n",
      "-----\n",
      "Initialization method and algorithm are deterministic. Setting n_init to 1.\n",
      "Init: initializing centroids\n",
      "Init: initializing clusters\n",
      "Init: initializing centroids\n",
      "Init: initializing clusters\n",
      "Starting iterations...\n",
      "Run: 1, iteration: 1/100, moves: 854, ncost: 13381724.016628282\n",
      "Run: 1, iteration: 2/100, moves: 575, ncost: 12405328.991013536\n",
      "Run: 1, iteration: 3/100, moves: 397, ncost: 11841516.097875874\n",
      "Run: 1, iteration: 4/100, moves: 290, ncost: 11342273.102346549\n",
      "Run: 1, iteration: 5/100, moves: 215, ncost: 10923007.349023515\n",
      "Run: 1, iteration: 6/100, moves: 249, ncost: 10452879.143792646\n",
      "Run: 1, iteration: 7/100, moves: 96, ncost: 10335536.666651443\n",
      "Run: 1, iteration: 8/100, moves: 107, ncost: 10171669.2294562\n",
      "Run: 1, iteration: 9/100, moves: 63, ncost: 10067006.65686297\n",
      "Run: 1, iteration: 10/100, moves: 33, ncost: 10041901.203076337\n",
      "Run: 1, iteration: 11/100, moves: 24, ncost: 10025390.601328116\n",
      "Run: 1, iteration: 12/100, moves: 9, ncost: 10021639.660323014\n",
      "Run: 1, iteration: 13/100, moves: 14, ncost: 10011865.064664746\n",
      "Run: 1, iteration: 14/100, moves: 17, ncost: 10005281.353168622\n",
      "Run: 1, iteration: 15/100, moves: 4, ncost: 10004971.348340452\n",
      "Run: 1, iteration: 16/100, moves: 0, ncost: 10004971.348340452\n",
      "\n",
      "-----\n"
     ]
    }
   ],
   "source": [
    "cost = []\n",
    "for num_clusters in list(range(1,15)):\n",
    "    kpro = KPrototypes(n_clusters=num_clusters, init = \"Cao\", n_init = 1, verbose=1, n_jobs=-1)\n",
    "    kpro.fit_predict(laptop_data.drop(columns={'name','ename'}), \\\n",
    "                      categorical = [laptop_data.columns.get_loc(c) for c in cat_cols])\n",
    "    cost.append(kpro.cost_)\n",
    "    print('\\n-----')"
   ]
  },
  {
   "cell_type": "code",
   "execution_count": 92,
   "metadata": {},
   "outputs": [
    {
     "data": {
      "text/plain": [
       "[<matplotlib.lines.Line2D at 0x1303d5bd0>]"
      ]
     },
     "execution_count": 92,
     "metadata": {},
     "output_type": "execute_result"
    },
    {
     "data": {
      "image/png": "[encoded data removed]",
      "text/plain": [
       "<Figure size 640x480 with 1 Axes>"
      ]
     },
     "metadata": {},
     "output_type": "display_data"
    }
   ],
   "source": [
    "import matplotlib.pyplot as plt\n",
    "\n",
    "y = np.array([i for i in range(1,15)])\n",
    "plt.plot(y,cost)"
   ]
  },
  {
   "cell_type": "markdown",
   "metadata": {},
   "source": [
    "در نتیجه الگوریتم را به ازای تعداد دسته ۶ اجرا می‌کنیم و نتیجه را به صورت ستون به داده اصلی اضافه می‌کنیم:"
   ]
  },
  {
   "cell_type": "code",
   "execution_count": 93,
   "metadata": {},
   "outputs": [
    {
     "name": "stdout",
     "output_type": "stream",
     "text": [
      "Initialization method and algorithm are deterministic. Setting n_init to 1.\n",
      "Init: initializing centroids\n",
      "Init: initializing clusters\n"
     ]
    },
    {
     "name": "stdout",
     "output_type": "stream",
     "text": [
      "Starting iterations...\n",
      "Run: 1, iteration: 1/100, moves: 750, ncost: 22306748.690774858\n",
      "Run: 1, iteration: 2/100, moves: 209, ncost: 22041839.208562598\n",
      "Run: 1, iteration: 3/100, moves: 82, ncost: 21981343.94921353\n",
      "Run: 1, iteration: 4/100, moves: 18, ncost: 21977914.864881042\n",
      "Run: 1, iteration: 5/100, moves: 2, ncost: 21977822.655124817\n",
      "Run: 1, iteration: 6/100, moves: 0, ncost: 21977822.655124817\n"
     ]
    }
   ],
   "source": [
    "kpro_cluster = KPrototypes(n_clusters=6, init = \"Cao\", n_init = 1, verbose=1)\n",
    "kpro_cluster_pred = kpro_cluster.fit_predict(laptop_data.drop(columns={'name','ename'}), \\\n",
    "                      categorical = [laptop_data.columns.get_loc(c) for c in cat_cols] )"
   ]
  },
  {
   "cell_type": "code",
   "execution_count": 94,
   "metadata": {},
   "outputs": [
    {
     "name": "stdout",
     "output_type": "stream",
     "text": [
      "4304\n",
      "2.345724907063197\n"
     ]
    }
   ],
   "source": [
    "print(len(kpro_cluster_pred))\n",
    "print(kpro_cluster_pred.mean())"
   ]
  },
  {
   "cell_type": "markdown",
   "metadata": {},
   "source": [
    "ستون دسته‌بندی را به داده اضافه می‌کنیم "
   ]
  },
  {
   "cell_type": "code",
   "execution_count": 95,
   "metadata": {},
   "outputs": [],
   "source": [
    "clustersDf = pd.DataFrame(kpro_cluster_pred)\n",
    "clustersDf.columns = ['cluster_predicted']\n",
    "combinedDf = pd.concat([laptop_data, clustersDf], axis = 1).reset_index()\n",
    "combinedDf = combinedDf.drop(['index'], axis = 1)"
   ]
  },
  {
   "cell_type": "markdown",
   "metadata": {},
   "source": [
    "مثلا مجموعه لپتاپ‌های دسته ۵ می‌شود:"
   ]
  },
  {
   "cell_type": "code",
   "execution_count": 96,
   "metadata": {},
   "outputs": [
    {
     "data": {
      "text/html": [
       "<div>\n",
       "<style scoped>\n",
       "    .dataframe tbody tr th:only-of-type {\n",
       "        vertical-align: middle;\n",
       "    }\n",
       "\n",
       "    .dataframe tbody tr th {\n",
       "        vertical-align: top;\n",
       "    }\n",
       "\n",
       "    .dataframe thead th {\n",
       "        text-align: right;\n",
       "    }\n",
       "</style>\n",
       "<table border=\"1\" class=\"dataframe\">\n",
       "  <thead>\n",
       "    <tr style=\"text-align: right;\">\n",
       "      <th></th>\n",
       "      <th>manufactor</th>\n",
       "      <th>name</th>\n",
       "      <th>ename</th>\n",
       "      <th>laptop_size</th>\n",
       "      <th>laptop_weight</th>\n",
       "      <th>Screen_size</th>\n",
       "      <th>Screen_type</th>\n",
       "      <th>CPU_manufacturer</th>\n",
       "      <th>CPU_series</th>\n",
       "      <th>RAM</th>\n",
       "      <th>hard_disk</th>\n",
       "      <th>cluster_predicted</th>\n",
       "    </tr>\n",
       "  </thead>\n",
       "  <tbody>\n",
       "    <tr>\n",
       "      <th>0</th>\n",
       "      <td>1</td>\n",
       "      <td>\\nMacBook Air اپل 13 اینچ مدل MGND3 2020 پرداز...</td>\n",
       "      <td>\\nApple MacBook Air MGND3 2020 - 13 inch Laptop\\n</td>\n",
       "      <td>541</td>\n",
       "      <td>-0.059613</td>\n",
       "      <td>-2.396636</td>\n",
       "      <td>127</td>\n",
       "      <td>1</td>\n",
       "      <td>48</td>\n",
       "      <td>-0.470128</td>\n",
       "      <td>0.271519</td>\n",
       "      <td>5.0</td>\n",
       "    </tr>\n",
       "    <tr>\n",
       "      <th>1</th>\n",
       "      <td>1</td>\n",
       "      <td>\\nMacBook Air اپل 13 اینچ مدل MGN63 2020 پرداز...</td>\n",
       "      <td>\\nApple MacBook Air MGN63 2020 M1 256 - 13 inc...</td>\n",
       "      <td>526</td>\n",
       "      <td>-0.059613</td>\n",
       "      <td>-2.396636</td>\n",
       "      <td>200</td>\n",
       "      <td>1</td>\n",
       "      <td>48</td>\n",
       "      <td>-0.470128</td>\n",
       "      <td>0.271519</td>\n",
       "      <td>5.0</td>\n",
       "    </tr>\n",
       "    <tr>\n",
       "      <th>2</th>\n",
       "      <td>1</td>\n",
       "      <td>\\nلپ تاپ اپل 14 اینچ مدل Mac Book Pro 14inch M...</td>\n",
       "      <td>\\nApple MacBook Pro 14‑inch MKGP3 M1 Pro 16GB ...</td>\n",
       "      <td>558</td>\n",
       "      <td>-0.056363</td>\n",
       "      <td>-1.347525</td>\n",
       "      <td>189</td>\n",
       "      <td>1</td>\n",
       "      <td>50</td>\n",
       "      <td>0.509030</td>\n",
       "      <td>1.468794</td>\n",
       "      <td>5.0</td>\n",
       "    </tr>\n",
       "    <tr>\n",
       "      <th>3</th>\n",
       "      <td>1</td>\n",
       "      <td>\\nلپ تاپ اپل 14 اینچ مدل Mac Book Pro 14inch M...</td>\n",
       "      <td>\\nApple MacBook Pro 14‑inch MKGR3 M1 Pro 16GB ...</td>\n",
       "      <td>558</td>\n",
       "      <td>-0.056363</td>\n",
       "      <td>-1.347525</td>\n",
       "      <td>189</td>\n",
       "      <td>1</td>\n",
       "      <td>50</td>\n",
       "      <td>0.509030</td>\n",
       "      <td>1.468794</td>\n",
       "      <td>5.0</td>\n",
       "    </tr>\n",
       "    <tr>\n",
       "      <th>4</th>\n",
       "      <td>1</td>\n",
       "      <td>\\nلپ تاپ اپل 14 اینچ مدل Mac Book Pro 14inch M...</td>\n",
       "      <td>\\nApple MacBook Pro 14‑inch MKGQ3 M1 Pro 16GB ...</td>\n",
       "      <td>558</td>\n",
       "      <td>-0.056363</td>\n",
       "      <td>-1.347525</td>\n",
       "      <td>189</td>\n",
       "      <td>1</td>\n",
       "      <td>50</td>\n",
       "      <td>0.509030</td>\n",
       "      <td>-0.921080</td>\n",
       "      <td>5.0</td>\n",
       "    </tr>\n",
       "    <tr>\n",
       "      <th>...</th>\n",
       "      <td>...</td>\n",
       "      <td>...</td>\n",
       "      <td>...</td>\n",
       "      <td>...</td>\n",
       "      <td>...</td>\n",
       "      <td>...</td>\n",
       "      <td>...</td>\n",
       "      <td>...</td>\n",
       "      <td>...</td>\n",
       "      <td>...</td>\n",
       "      <td>...</td>\n",
       "      <td>...</td>\n",
       "    </tr>\n",
       "    <tr>\n",
       "      <th>3917</th>\n",
       "      <td>0</td>\n",
       "      <td>\\nلپ تاپ ایسر اسپایر مدل ای 5 با پردازنده i5\\n</td>\n",
       "      <td>\\nAspire-E5-571G-Core-i5-4GB-500GB-1GB\\n</td>\n",
       "      <td>202</td>\n",
       "      <td>-0.046925</td>\n",
       "      <td>0.284425</td>\n",
       "      <td>146</td>\n",
       "      <td>3</td>\n",
       "      <td>29</td>\n",
       "      <td>-0.959707</td>\n",
       "      <td>1.412672</td>\n",
       "      <td>5.0</td>\n",
       "    </tr>\n",
       "    <tr>\n",
       "      <th>4121</th>\n",
       "      <td>0</td>\n",
       "      <td>\\nلپ تاپ ایسر مدل V15 Nitro VN7-592G-79T2 با پ...</td>\n",
       "      <td>\\nAspire V15 Nitro VN7-592G-79T2 Core i7 12GB ...</td>\n",
       "      <td>255</td>\n",
       "      <td>-0.049022</td>\n",
       "      <td>0.284425</td>\n",
       "      <td>123</td>\n",
       "      <td>3</td>\n",
       "      <td>30</td>\n",
       "      <td>0.019451</td>\n",
       "      <td>-0.327119</td>\n",
       "      <td>5.0</td>\n",
       "    </tr>\n",
       "    <tr>\n",
       "      <th>4138</th>\n",
       "      <td>0</td>\n",
       "      <td>\\nلپ تاپ ایسر اسپایر مدل Spin 5-SP513 با پرداز...</td>\n",
       "      <td>\\nSpin 5-SP513 Core i5 8GB 512GB SSD Intel Tou...</td>\n",
       "      <td>195</td>\n",
       "      <td>-0.055314</td>\n",
       "      <td>-2.396636</td>\n",
       "      <td>127</td>\n",
       "      <td>3</td>\n",
       "      <td>29</td>\n",
       "      <td>-0.470128</td>\n",
       "      <td>1.468794</td>\n",
       "      <td>5.0</td>\n",
       "    </tr>\n",
       "    <tr>\n",
       "      <th>4171</th>\n",
       "      <td>0</td>\n",
       "      <td>\\nلپ تاپ 15 اینچی ایسر مدل Aspire A315\\n</td>\n",
       "      <td>\\nAspire A315 Core i5 8250U 8GB 1TB 256GB SSD ...</td>\n",
       "      <td>823</td>\n",
       "      <td>-0.051120</td>\n",
       "      <td>0.284425</td>\n",
       "      <td>212</td>\n",
       "      <td>3</td>\n",
       "      <td>29</td>\n",
       "      <td>-0.470128</td>\n",
       "      <td>0.271519</td>\n",
       "      <td>5.0</td>\n",
       "    </tr>\n",
       "    <tr>\n",
       "      <th>4308</th>\n",
       "      <td>NaN</td>\n",
       "      <td>NaN</td>\n",
       "      <td>NaN</td>\n",
       "      <td>NaN</td>\n",
       "      <td>NaN</td>\n",
       "      <td>NaN</td>\n",
       "      <td>NaN</td>\n",
       "      <td>NaN</td>\n",
       "      <td>NaN</td>\n",
       "      <td>NaN</td>\n",
       "      <td>NaN</td>\n",
       "      <td>5.0</td>\n",
       "    </tr>\n",
       "  </tbody>\n",
       "</table>\n",
       "<p>551 rows × 12 columns</p>\n",
       "</div>"
      ],
      "text/plain": [
       "     manufactor                                               name  \\\n",
       "0             1  \\nMacBook Air اپل 13 اینچ مدل MGND3 2020 پرداز...   \n",
       "1             1  \\nMacBook Air اپل 13 اینچ مدل MGN63 2020 پرداز...   \n",
       "2             1  \\nلپ تاپ اپل 14 اینچ مدل Mac Book Pro 14inch M...   \n",
       "3             1  \\nلپ تاپ اپل 14 اینچ مدل Mac Book Pro 14inch M...   \n",
       "4             1  \\nلپ تاپ اپل 14 اینچ مدل Mac Book Pro 14inch M...   \n",
       "...         ...                                                ...   \n",
       "3917          0     \\nلپ تاپ ایسر اسپایر مدل ای 5 با پردازنده i5\\n   \n",
       "4121          0  \\nلپ تاپ ایسر مدل V15 Nitro VN7-592G-79T2 با پ...   \n",
       "4138          0  \\nلپ تاپ ایسر اسپایر مدل Spin 5-SP513 با پرداز...   \n",
       "4171          0           \\nلپ تاپ 15 اینچی ایسر مدل Aspire A315\\n   \n",
       "4308        NaN                                                NaN   \n",
       "\n",
       "                                                  ename laptop_size  \\\n",
       "0     \\nApple MacBook Air MGND3 2020 - 13 inch Laptop\\n         541   \n",
       "1     \\nApple MacBook Air MGN63 2020 M1 256 - 13 inc...         526   \n",
       "2     \\nApple MacBook Pro 14‑inch MKGP3 M1 Pro 16GB ...         558   \n",
       "3     \\nApple MacBook Pro 14‑inch MKGR3 M1 Pro 16GB ...         558   \n",
       "4     \\nApple MacBook Pro 14‑inch MKGQ3 M1 Pro 16GB ...         558   \n",
       "...                                                 ...         ...   \n",
       "3917           \\nAspire-E5-571G-Core-i5-4GB-500GB-1GB\\n         202   \n",
       "4121  \\nAspire V15 Nitro VN7-592G-79T2 Core i7 12GB ...         255   \n",
       "4138  \\nSpin 5-SP513 Core i5 8GB 512GB SSD Intel Tou...         195   \n",
       "4171  \\nAspire A315 Core i5 8250U 8GB 1TB 256GB SSD ...         823   \n",
       "4308                                                NaN         NaN   \n",
       "\n",
       "      laptop_weight  Screen_size Screen_type CPU_manufacturer CPU_series  \\\n",
       "0         -0.059613    -2.396636         127                1         48   \n",
       "1         -0.059613    -2.396636         200                1         48   \n",
       "2         -0.056363    -1.347525         189                1         50   \n",
       "3         -0.056363    -1.347525         189                1         50   \n",
       "4         -0.056363    -1.347525         189                1         50   \n",
       "...             ...          ...         ...              ...        ...   \n",
       "3917      -0.046925     0.284425         146                3         29   \n",
       "4121      -0.049022     0.284425         123                3         30   \n",
       "4138      -0.055314    -2.396636         127                3         29   \n",
       "4171      -0.051120     0.284425         212                3         29   \n",
       "4308            NaN          NaN         NaN              NaN        NaN   \n",
       "\n",
       "           RAM  hard_disk  cluster_predicted  \n",
       "0    -0.470128   0.271519                5.0  \n",
       "1    -0.470128   0.271519                5.0  \n",
       "2     0.509030   1.468794                5.0  \n",
       "3     0.509030   1.468794                5.0  \n",
       "4     0.509030  -0.921080                5.0  \n",
       "...        ...        ...                ...  \n",
       "3917 -0.959707   1.412672                5.0  \n",
       "4121  0.019451  -0.327119                5.0  \n",
       "4138 -0.470128   1.468794                5.0  \n",
       "4171 -0.470128   0.271519                5.0  \n",
       "4308       NaN        NaN                5.0  \n",
       "\n",
       "[551 rows x 12 columns]"
      ]
     },
     "execution_count": 96,
     "metadata": {},
     "output_type": "execute_result"
    }
   ],
   "source": [
    "combinedDf[combinedDf['cluster_predicted']==5]"
   ]
  },
  {
   "cell_type": "code",
   "execution_count": null,
   "metadata": {},
   "outputs": [],
   "source": []
  },
  {
   "cell_type": "markdown",
   "metadata": {},
   "source": [
    "و برای ۶۱۸ مدل لپتاپی که در داده‌های شرکت لوتک داشتیم دسته‌بندی ۶ دسته‌ای را اعمال می‌کنیم:"
   ]
  },
  {
   "cell_type": "code",
   "execution_count": 69,
   "metadata": {},
   "outputs": [],
   "source": [
    "all_data = pd.read_csv('sales_data.csv')\n",
    "all_data.drop_duplicates(subset=['Model_Name'],inplace=True)"
   ]
  },
  {
   "cell_type": "code",
   "execution_count": 70,
   "metadata": {},
   "outputs": [
    {
     "data": {
      "text/plain": [
       "31"
      ]
     },
     "execution_count": 70,
     "metadata": {},
     "output_type": "execute_result"
    }
   ],
   "source": [
    "len(all_data['Screen'].unique())"
   ]
  },
  {
   "cell_type": "code",
   "execution_count": 71,
   "metadata": {},
   "outputs": [],
   "source": [
    "all_data[['Screen_Size','maz1']] = all_data.Screen_Size.str.split('\"',expand=True)\n",
    "all_data['Screen_Size']=all_data['Screen_Size'].astype('float')\n",
    "\n",
    "all_data[['RAM','maz2']] = all_data.RAM.str.split(\"G\",expand=True)\n",
    "all_data['RAM'] = all_data['RAM'].astype('float')\n",
    "all_data[['laptop_weight','maz3']] = all_data.Weight.str.split(\"k\",expand=True)\n",
    "all_data['laptop_weight'] = all_data['laptop_weight'].astype('float')\n",
    "\n",
    "all_data['CPU_manufacturer'] = all_data.CPU.str.split(\" \",expand=True)[0]\n",
    "#all_data['CPU_manufacturer'].replace('Samsung','other',inplace=True)\n",
    "#all_data['CPU_manufacturer'].replace('Intel','INTEL',inplace=True)\n",
    "all_data['graphic_manufacturer'] = all_data.GPU.str.split(\" \",expand=True)[0]\n",
    "#all_data['graphic_manufacturer'].replace('ARM','Other',inplace=True)"
   ]
  },
  {
   "cell_type": "code",
   "execution_count": 72,
   "metadata": {},
   "outputs": [
    {
     "data": {
      "text/plain": [
       "Index(['Order_ID', 'Branch', 'Order_Date', 'Order_Priority', 'Manufacturer',\n",
       "       'Model_Name', 'Category', 'Screen_Size', 'Screen', 'CPU', 'RAM',\n",
       "       'Storage', 'GPU', 'OS', 'OS_Version', 'Weight', 'Price', 'Quantity',\n",
       "       'Discount', 'Total_Price', 'Profit', 'Ship_Duration', 'maz1', 'maz2',\n",
       "       'laptop_weight', 'maz3', 'CPU_manufacturer', 'graphic_manufacturer'],\n",
       "      dtype='object')"
      ]
     },
     "execution_count": 72,
     "metadata": {},
     "output_type": "execute_result"
    }
   ],
   "source": [
    "all_data.columns"
   ]
  },
  {
   "cell_type": "code",
   "execution_count": 73,
   "metadata": {},
   "outputs": [],
   "source": [
    "all_data = all_data[['Manufacturer','Category','Screen_Size','Screen','CPU_manufacturer','RAM','laptop_weight','graphic_manufacturer','Price']]"
   ]
  },
  {
   "cell_type": "code",
   "execution_count": 74,
   "metadata": {},
   "outputs": [],
   "source": [
    "cat_cols = ['Manufacturer','Category','Screen','CPU_manufacturer','graphic_manufacturer']\n",
    "num_cols = ['Screen_Size','laptop_weight','Price','RAM','']"
   ]
  },
  {
   "cell_type": "code",
   "execution_count": 75,
   "metadata": {},
   "outputs": [
    {
     "name": "stdout",
     "output_type": "stream",
     "text": [
      "Init: initializing centroids\n",
      "Init: initializing clusters\n",
      "Init: initializing centroids\n",
      "Init: initializing clusters\n",
      "Init: initializing centroids\n",
      "Init: initializing clusters\n",
      "Starting iterations...\n"
     ]
    },
    {
     "name": "stdout",
     "output_type": "stream",
     "text": [
      "Run: 1, iteration: 1/100, moves: 59, ncost: 2.6138179073932748e+16\n",
      "Run: 1, iteration: 2/100, moves: 56, ncost: 2.1638156585432804e+16\n",
      "Run: 1, iteration: 3/100, moves: 28, ncost: 1.8544068371636828e+16\n",
      "Run: 1, iteration: 4/100, moves: 25, ncost: 1.5748086564625378e+16\n",
      "Run: 1, iteration: 5/100, moves: 31, ncost: 1.4767220318060756e+16\n",
      "Run: 1, iteration: 6/100, moves: 19, ncost: 1.4078375254783324e+16\n",
      "Run: 1, iteration: 7/100, moves: 6, ncost: 1.3950706677932286e+16\n",
      "Run: 1, iteration: 8/100, moves: 5, ncost: 1.3865758383769536e+16\n",
      "Run: 1, iteration: 9/100, moves: 17, ncost: 1.3733449268697218e+16\n",
      "Run: 1, iteration: 10/100, moves: 10, ncost: 1.3701885550234914e+16\n",
      "Run: 1, iteration: 11/100, moves: 5, ncost: 1.368879924968626e+16\n",
      "Run: 1, iteration: 12/100, moves: 1, ncost: 1.3687856268035926e+16\n",
      "Run: 1, iteration: 13/100, moves: 0, ncost: 1.3687856268035926e+16\n"
     ]
    }
   ],
   "source": [
    "kpro_cluster_pred_org = kpro_cluster.fit_predict(all_data, \\\n",
    "                      categorical = [all_data.columns.get_loc(c) for c in cat_cols] )"
   ]
  },
  {
   "cell_type": "code",
   "execution_count": 76,
   "metadata": {},
   "outputs": [],
   "source": [
    "clustersDf_Lotech = pd.DataFrame(kpro_cluster_pred_org)\n",
    "clustersDf_Lotech.columns = ['cluster_predicted']\n",
    "clustersDf_Lotech = pd.concat([all_data, clustersDf_Lotech], axis = 1).reset_index()\n",
    "clustersDf_Lotech = clustersDf_Lotech.drop(['index'], axis = 1)"
   ]
  },
  {
   "cell_type": "code",
   "execution_count": 77,
   "metadata": {},
   "outputs": [
    {
     "data": {
      "text/html": [
       "<div>\n",
       "<style scoped>\n",
       "    .dataframe tbody tr th:only-of-type {\n",
       "        vertical-align: middle;\n",
       "    }\n",
       "\n",
       "    .dataframe tbody tr th {\n",
       "        vertical-align: top;\n",
       "    }\n",
       "\n",
       "    .dataframe thead th {\n",
       "        text-align: right;\n",
       "    }\n",
       "</style>\n",
       "<table border=\"1\" class=\"dataframe\">\n",
       "  <thead>\n",
       "    <tr style=\"text-align: right;\">\n",
       "      <th></th>\n",
       "      <th>Manufacturer</th>\n",
       "      <th>Category</th>\n",
       "      <th>Screen_Size</th>\n",
       "      <th>Screen</th>\n",
       "      <th>CPU_manufacturer</th>\n",
       "      <th>RAM</th>\n",
       "      <th>laptop_weight</th>\n",
       "      <th>graphic_manufacturer</th>\n",
       "      <th>Price</th>\n",
       "      <th>cluster_predicted</th>\n",
       "    </tr>\n",
       "  </thead>\n",
       "  <tbody>\n",
       "    <tr>\n",
       "      <th>0</th>\n",
       "      <td>Dell</td>\n",
       "      <td>Notebook</td>\n",
       "      <td>15.6</td>\n",
       "      <td>Full HD 1920x1080</td>\n",
       "      <td>Intel</td>\n",
       "      <td>8.0</td>\n",
       "      <td>2.18</td>\n",
       "      <td>AMD</td>\n",
       "      <td>3450000.0</td>\n",
       "      <td>5.0</td>\n",
       "    </tr>\n",
       "    <tr>\n",
       "      <th>1</th>\n",
       "      <td>Lenovo</td>\n",
       "      <td>2 in 1 Convertible</td>\n",
       "      <td>13.3</td>\n",
       "      <td>IPS Panel Full HD / Touchscreen 1920x1080</td>\n",
       "      <td>Intel</td>\n",
       "      <td>8.0</td>\n",
       "      <td>1.30</td>\n",
       "      <td>Intel</td>\n",
       "      <td>3400000.0</td>\n",
       "      <td>5.0</td>\n",
       "    </tr>\n",
       "    <tr>\n",
       "      <th>2</th>\n",
       "      <td>Lenovo</td>\n",
       "      <td>Notebook</td>\n",
       "      <td>15.6</td>\n",
       "      <td>IPS Panel Full HD 1920x1080</td>\n",
       "      <td>Intel</td>\n",
       "      <td>8.0</td>\n",
       "      <td>2.60</td>\n",
       "      <td>Nvidia</td>\n",
       "      <td>44900000.0</td>\n",
       "      <td>1.0</td>\n",
       "    </tr>\n",
       "    <tr>\n",
       "      <th>3</th>\n",
       "      <td>Dell</td>\n",
       "      <td>Ultrabook</td>\n",
       "      <td>13.3</td>\n",
       "      <td>IPS Panel Full HD 1920x1080</td>\n",
       "      <td>Intel</td>\n",
       "      <td>8.0</td>\n",
       "      <td>1.40</td>\n",
       "      <td>AMD</td>\n",
       "      <td>12550000.0</td>\n",
       "      <td>3.0</td>\n",
       "    </tr>\n",
       "    <tr>\n",
       "      <th>4</th>\n",
       "      <td>Acer</td>\n",
       "      <td>Notebook</td>\n",
       "      <td>15.6</td>\n",
       "      <td>Full HD 1920x1080</td>\n",
       "      <td>Intel</td>\n",
       "      <td>4.0</td>\n",
       "      <td>2.23</td>\n",
       "      <td>Nvidia</td>\n",
       "      <td>2050000.0</td>\n",
       "      <td>5.0</td>\n",
       "    </tr>\n",
       "    <tr>\n",
       "      <th>...</th>\n",
       "      <td>...</td>\n",
       "      <td>...</td>\n",
       "      <td>...</td>\n",
       "      <td>...</td>\n",
       "      <td>...</td>\n",
       "      <td>...</td>\n",
       "      <td>...</td>\n",
       "      <td>...</td>\n",
       "      <td>...</td>\n",
       "      <td>...</td>\n",
       "    </tr>\n",
       "    <tr>\n",
       "      <th>959</th>\n",
       "      <td>NaN</td>\n",
       "      <td>NaN</td>\n",
       "      <td>NaN</td>\n",
       "      <td>NaN</td>\n",
       "      <td>NaN</td>\n",
       "      <td>NaN</td>\n",
       "      <td>NaN</td>\n",
       "      <td>NaN</td>\n",
       "      <td>NaN</td>\n",
       "      <td>3.0</td>\n",
       "    </tr>\n",
       "    <tr>\n",
       "      <th>960</th>\n",
       "      <td>NaN</td>\n",
       "      <td>NaN</td>\n",
       "      <td>NaN</td>\n",
       "      <td>NaN</td>\n",
       "      <td>NaN</td>\n",
       "      <td>NaN</td>\n",
       "      <td>NaN</td>\n",
       "      <td>NaN</td>\n",
       "      <td>NaN</td>\n",
       "      <td>5.0</td>\n",
       "    </tr>\n",
       "    <tr>\n",
       "      <th>961</th>\n",
       "      <td>NaN</td>\n",
       "      <td>NaN</td>\n",
       "      <td>NaN</td>\n",
       "      <td>NaN</td>\n",
       "      <td>NaN</td>\n",
       "      <td>NaN</td>\n",
       "      <td>NaN</td>\n",
       "      <td>NaN</td>\n",
       "      <td>NaN</td>\n",
       "      <td>5.0</td>\n",
       "    </tr>\n",
       "    <tr>\n",
       "      <th>962</th>\n",
       "      <td>NaN</td>\n",
       "      <td>NaN</td>\n",
       "      <td>NaN</td>\n",
       "      <td>NaN</td>\n",
       "      <td>NaN</td>\n",
       "      <td>NaN</td>\n",
       "      <td>NaN</td>\n",
       "      <td>NaN</td>\n",
       "      <td>NaN</td>\n",
       "      <td>3.0</td>\n",
       "    </tr>\n",
       "    <tr>\n",
       "      <th>963</th>\n",
       "      <td>NaN</td>\n",
       "      <td>NaN</td>\n",
       "      <td>NaN</td>\n",
       "      <td>NaN</td>\n",
       "      <td>NaN</td>\n",
       "      <td>NaN</td>\n",
       "      <td>NaN</td>\n",
       "      <td>NaN</td>\n",
       "      <td>NaN</td>\n",
       "      <td>5.0</td>\n",
       "    </tr>\n",
       "  </tbody>\n",
       "</table>\n",
       "<p>964 rows × 10 columns</p>\n",
       "</div>"
      ],
      "text/plain": [
       "    Manufacturer            Category  Screen_Size  \\\n",
       "0           Dell            Notebook         15.6   \n",
       "1         Lenovo  2 in 1 Convertible         13.3   \n",
       "2         Lenovo            Notebook         15.6   \n",
       "3           Dell           Ultrabook         13.3   \n",
       "4           Acer            Notebook         15.6   \n",
       "..           ...                 ...          ...   \n",
       "959          NaN                 NaN          NaN   \n",
       "960          NaN                 NaN          NaN   \n",
       "961          NaN                 NaN          NaN   \n",
       "962          NaN                 NaN          NaN   \n",
       "963          NaN                 NaN          NaN   \n",
       "\n",
       "                                        Screen CPU_manufacturer  RAM  \\\n",
       "0                            Full HD 1920x1080            Intel  8.0   \n",
       "1    IPS Panel Full HD / Touchscreen 1920x1080            Intel  8.0   \n",
       "2                  IPS Panel Full HD 1920x1080            Intel  8.0   \n",
       "3                  IPS Panel Full HD 1920x1080            Intel  8.0   \n",
       "4                            Full HD 1920x1080            Intel  4.0   \n",
       "..                                         ...              ...  ...   \n",
       "959                                        NaN              NaN  NaN   \n",
       "960                                        NaN              NaN  NaN   \n",
       "961                                        NaN              NaN  NaN   \n",
       "962                                        NaN              NaN  NaN   \n",
       "963                                        NaN              NaN  NaN   \n",
       "\n",
       "     laptop_weight graphic_manufacturer       Price  cluster_predicted  \n",
       "0             2.18                  AMD   3450000.0                5.0  \n",
       "1             1.30                Intel   3400000.0                5.0  \n",
       "2             2.60               Nvidia  44900000.0                1.0  \n",
       "3             1.40                  AMD  12550000.0                3.0  \n",
       "4             2.23               Nvidia   2050000.0                5.0  \n",
       "..             ...                  ...         ...                ...  \n",
       "959            NaN                  NaN         NaN                3.0  \n",
       "960            NaN                  NaN         NaN                5.0  \n",
       "961            NaN                  NaN         NaN                5.0  \n",
       "962            NaN                  NaN         NaN                3.0  \n",
       "963            NaN                  NaN         NaN                5.0  \n",
       "\n",
       "[964 rows x 10 columns]"
      ]
     },
     "execution_count": 77,
     "metadata": {},
     "output_type": "execute_result"
    }
   ],
   "source": [
    "clustersDf_Lotech"
   ]
  },
  {
   "cell_type": "code",
   "execution_count": 79,
   "metadata": {},
   "outputs": [
    {
     "data": {
      "text/plain": [
       "3.661812297734628"
      ]
     },
     "execution_count": 79,
     "metadata": {},
     "output_type": "execute_result"
    }
   ],
   "source": [
    "clustersDf_Lotech['cluster_predicted'].mean()"
   ]
  },
  {
   "cell_type": "markdown",
   "metadata": {},
   "source": [
    "و نمودار زیر را در مقایسه قیمت و وزن با دسته‌بندی اجرا شده رسم کرده‌ایم:"
   ]
  },
  {
   "cell_type": "code",
   "execution_count": null,
   "metadata": {},
   "outputs": [],
   "source": []
  }
 ],
 "metadata": {
  "kernelspec": {
   "display_name": "base",
   "language": "python",
   "name": "python3"
  },
  "language_info": {
   "codemirror_mode": {
    "name": "ipython",
    "version": 3
   },
   "file_extension": ".py",
   "mimetype": "text/x-python",
   "name": "python",
   "nbconvert_exporter": "python",
   "pygments_lexer": "ipython3",
   "version": "3.11.4"
  },
  "orig_nbformat": 4
 },
 "nbformat": 4,
 "nbformat_minor": 2
}
