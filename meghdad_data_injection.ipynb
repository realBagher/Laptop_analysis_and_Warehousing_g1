{
 "cells": [
  {
   "cell_type": "code",
   "execution_count": 1,
   "id": "initial_id",
   "metadata": {
    "collapsed": true,
    "ExecuteTime": {
     "end_time": "2023-10-27T17:25:46.995427Z",
     "start_time": "2023-10-27T17:25:46.244173Z"
    }
   },
   "outputs": [],
   "source": [
    "import pandas as pd\n",
    "import csv\n",
    "import mysql.connector\n",
    "import mysql\n",
    "from mysql.connector import Error\n",
    "import re"
   ]
  },
  {
   "cell_type": "markdown",
   "source": [
    "# Create a connection to the database"
   ],
   "metadata": {
    "collapsed": false
   },
   "id": "2006e87aa993e3f"
  },
  {
   "cell_type": "code",
   "execution_count": 2,
   "outputs": [],
   "source": [
    "def create_connection(host, user, password, database):\n",
    "    try:\n",
    "        connection = mysql.connector.connect(\n",
    "            host=host,\n",
    "            user=user,\n",
    "            password=password,\n",
    "            database=database\n",
    "        )\n",
    "        if connection.is_connected():\n",
    "            print(f'Connected to MySQL database: {database}')\n",
    "            return connection\n",
    "    except Error as e:\n",
    "        print(f'Error: {e}')\n",
    "        return None"
   ],
   "metadata": {
    "collapsed": false,
    "ExecuteTime": {
     "end_time": "2023-10-27T17:25:48.757923Z",
     "start_time": "2023-10-27T17:25:48.698901Z"
    }
   },
   "id": "c424c2375872c3d6"
  },
  {
   "cell_type": "code",
   "execution_count": 3,
   "outputs": [],
   "source": [
    "db_host = 'localhost'\n",
    "db_user = 'root'\n",
    "db_password = 'your_password'\n",
    "db_name = 'meghdad_db'"
   ],
   "metadata": {
    "collapsed": false,
    "ExecuteTime": {
     "end_time": "2023-10-27T17:25:49.120594Z",
     "start_time": "2023-10-27T17:25:49.065396Z"
    }
   },
   "id": "8af5c2cf0870246f"
  },
  {
   "cell_type": "code",
   "execution_count": 4,
   "outputs": [
    {
     "name": "stdout",
     "output_type": "stream",
     "text": [
      "Connected to MySQL database: meghdad_db\n"
     ]
    }
   ],
   "source": [
    "connection = create_connection(db_host, db_user, db_password, db_name) \n",
    "cursor = connection.cursor()"
   ],
   "metadata": {
    "collapsed": false,
    "ExecuteTime": {
     "end_time": "2023-10-27T17:25:49.637407Z",
     "start_time": "2023-10-27T17:25:49.496053Z"
    }
   },
   "id": "a85eba578d42084c"
  },
  {
   "cell_type": "code",
   "execution_count": 21,
   "outputs": [
    {
     "data": {
      "text/plain": "                   hard_disk\n0               256 گیگابایت\n1               512 گیگابایت\n2                  1 ترابایت\n3               128 گیگابایت\n4                  2 ترابایت\n5               500 گیگابایت\n6        8 گیگابایت1 ترابایت\n7                64 گیگابایت\n8      256 گیگابایت1 ترابایت\n9      128 گیگابایت1 ترابایت\n10     512 گیگابایت1 ترابایت\n11     256 گیگابایت2 ترابایت\n12     128 گیگابایت2 ترابایت\n13   512 گیگابایت1.5 ترابایت\n14     240 گیگابایت1 ترابایت\n15     240 گیگابایت2 ترابایت\n16                      SATA\n17      16 گیگابایت1 ترابایت\n18      24 گیگابایت1 ترابایت\n19               1.5 ترابایت\n20      24 گیگابایت2 ترابایت\n21    24 گیگابایت1.5 ترابایت\n22     120 گیگابایت1 ترابایت\n23     500 گیگابایت1 ترابایت\n24     250 گیگابایت1 ترابایت\n25              250 گیگابایت\n26  128 گیگابایت500 گیگابایت\n27     960 گیگابایت1 ترابایت\n28               32 گیگابایت\n29               16 گیگابایت\n30   32 گیگابایت500 گیگابایت\n31     512 گیگابایت2 ترابایت\n32              320 گیگابایت\n33              750 گیگابایت\n34    8 گیگابایت500 گیگابایت\n35      16 گیگابایت2 ترابایت\n36              192 گیگابایت",
      "text/html": "<div>\n<style scoped>\n    .dataframe tbody tr th:only-of-type {\n        vertical-align: middle;\n    }\n\n    .dataframe tbody tr th {\n        vertical-align: top;\n    }\n\n    .dataframe thead th {\n        text-align: right;\n    }\n</style>\n<table border=\"1\" class=\"dataframe\">\n  <thead>\n    <tr style=\"text-align: right;\">\n      <th></th>\n      <th>hard_disk</th>\n    </tr>\n  </thead>\n  <tbody>\n    <tr>\n      <th>0</th>\n      <td>256 گیگابایت</td>\n    </tr>\n    <tr>\n      <th>1</th>\n      <td>512 گیگابایت</td>\n    </tr>\n    <tr>\n      <th>2</th>\n      <td>1 ترابایت</td>\n    </tr>\n    <tr>\n      <th>3</th>\n      <td>128 گیگابایت</td>\n    </tr>\n    <tr>\n      <th>4</th>\n      <td>2 ترابایت</td>\n    </tr>\n    <tr>\n      <th>5</th>\n      <td>500 گیگابایت</td>\n    </tr>\n    <tr>\n      <th>6</th>\n      <td>8 گیگابایت1 ترابایت</td>\n    </tr>\n    <tr>\n      <th>7</th>\n      <td>64 گیگابایت</td>\n    </tr>\n    <tr>\n      <th>8</th>\n      <td>256 گیگابایت1 ترابایت</td>\n    </tr>\n    <tr>\n      <th>9</th>\n      <td>128 گیگابایت1 ترابایت</td>\n    </tr>\n    <tr>\n      <th>10</th>\n      <td>512 گیگابایت1 ترابایت</td>\n    </tr>\n    <tr>\n      <th>11</th>\n      <td>256 گیگابایت2 ترابایت</td>\n    </tr>\n    <tr>\n      <th>12</th>\n      <td>128 گیگابایت2 ترابایت</td>\n    </tr>\n    <tr>\n      <th>13</th>\n      <td>512 گیگابایت1.5 ترابایت</td>\n    </tr>\n    <tr>\n      <th>14</th>\n      <td>240 گیگابایت1 ترابایت</td>\n    </tr>\n    <tr>\n      <th>15</th>\n      <td>240 گیگابایت2 ترابایت</td>\n    </tr>\n    <tr>\n      <th>16</th>\n      <td>SATA</td>\n    </tr>\n    <tr>\n      <th>17</th>\n      <td>16 گیگابایت1 ترابایت</td>\n    </tr>\n    <tr>\n      <th>18</th>\n      <td>24 گیگابایت1 ترابایت</td>\n    </tr>\n    <tr>\n      <th>19</th>\n      <td>1.5 ترابایت</td>\n    </tr>\n    <tr>\n      <th>20</th>\n      <td>24 گیگابایت2 ترابایت</td>\n    </tr>\n    <tr>\n      <th>21</th>\n      <td>24 گیگابایت1.5 ترابایت</td>\n    </tr>\n    <tr>\n      <th>22</th>\n      <td>120 گیگابایت1 ترابایت</td>\n    </tr>\n    <tr>\n      <th>23</th>\n      <td>500 گیگابایت1 ترابایت</td>\n    </tr>\n    <tr>\n      <th>24</th>\n      <td>250 گیگابایت1 ترابایت</td>\n    </tr>\n    <tr>\n      <th>25</th>\n      <td>250 گیگابایت</td>\n    </tr>\n    <tr>\n      <th>26</th>\n      <td>128 گیگابایت500 گیگابایت</td>\n    </tr>\n    <tr>\n      <th>27</th>\n      <td>960 گیگابایت1 ترابایت</td>\n    </tr>\n    <tr>\n      <th>28</th>\n      <td>32 گیگابایت</td>\n    </tr>\n    <tr>\n      <th>29</th>\n      <td>16 گیگابایت</td>\n    </tr>\n    <tr>\n      <th>30</th>\n      <td>32 گیگابایت500 گیگابایت</td>\n    </tr>\n    <tr>\n      <th>31</th>\n      <td>512 گیگابایت2 ترابایت</td>\n    </tr>\n    <tr>\n      <th>32</th>\n      <td>320 گیگابایت</td>\n    </tr>\n    <tr>\n      <th>33</th>\n      <td>750 گیگابایت</td>\n    </tr>\n    <tr>\n      <th>34</th>\n      <td>8 گیگابایت500 گیگابایت</td>\n    </tr>\n    <tr>\n      <th>35</th>\n      <td>16 گیگابایت2 ترابایت</td>\n    </tr>\n    <tr>\n      <th>36</th>\n      <td>192 گیگابایت</td>\n    </tr>\n  </tbody>\n</table>\n</div>"
     },
     "execution_count": 21,
     "metadata": {},
     "output_type": "execute_result"
    }
   ],
   "source": [
    "df_storage = pd.read_csv('Laptops_final.csv', usecols=['hard_disk'])\n",
    "df_storage = df_storage.drop_duplicates()\n",
    "df_storage = df_storage.reset_index(drop=True)\n",
    "df_storage"
   ],
   "metadata": {
    "collapsed": false,
    "ExecuteTime": {
     "end_time": "2023-10-26T16:52:07.430655Z",
     "start_time": "2023-10-26T16:52:07.391926Z"
    }
   },
   "id": "65e34088b6563395"
  },
  {
   "cell_type": "code",
   "execution_count": 22,
   "outputs": [],
   "source": [
    "table_name = 'storage'\n",
    "\n",
    "for _, row in df_storage.iterrows():\n",
    "    insert_query = f\"INSERT INTO {table_name} (storage_name) VALUES ('{row['hard_disk']}')\"\n",
    "    cursor.execute(insert_query)\n",
    "\n",
    "connection.commit()"
   ],
   "metadata": {
    "collapsed": false,
    "ExecuteTime": {
     "end_time": "2023-10-26T16:52:09.725199Z",
     "start_time": "2023-10-26T16:52:09.704989Z"
    }
   },
   "id": "c16fe818eb74a1a9"
  },
  {
   "cell_type": "code",
   "execution_count": 5,
   "outputs": [
    {
     "data": {
      "text/plain": "  manufactor\n0      apple\n1  microsoft\n2       asus\n3         hp\n4        msi\n5       dell\n6     lenovo\n7       acer",
      "text/html": "<div>\n<style scoped>\n    .dataframe tbody tr th:only-of-type {\n        vertical-align: middle;\n    }\n\n    .dataframe tbody tr th {\n        vertical-align: top;\n    }\n\n    .dataframe thead th {\n        text-align: right;\n    }\n</style>\n<table border=\"1\" class=\"dataframe\">\n  <thead>\n    <tr style=\"text-align: right;\">\n      <th></th>\n      <th>manufactor</th>\n    </tr>\n  </thead>\n  <tbody>\n    <tr>\n      <th>0</th>\n      <td>apple</td>\n    </tr>\n    <tr>\n      <th>1</th>\n      <td>microsoft</td>\n    </tr>\n    <tr>\n      <th>2</th>\n      <td>asus</td>\n    </tr>\n    <tr>\n      <th>3</th>\n      <td>hp</td>\n    </tr>\n    <tr>\n      <th>4</th>\n      <td>msi</td>\n    </tr>\n    <tr>\n      <th>5</th>\n      <td>dell</td>\n    </tr>\n    <tr>\n      <th>6</th>\n      <td>lenovo</td>\n    </tr>\n    <tr>\n      <th>7</th>\n      <td>acer</td>\n    </tr>\n  </tbody>\n</table>\n</div>"
     },
     "execution_count": 5,
     "metadata": {},
     "output_type": "execute_result"
    }
   ],
   "source": [
    "df_manufactor = pd.read_csv('Laptops_final.csv', usecols=['manufactor'])\n",
    "df_manufactor = df_manufactor.drop_duplicates()\n",
    "df_manufactor = df_manufactor.reset_index(drop=True)\n",
    "df_manufactor"
   ],
   "metadata": {
    "collapsed": false,
    "ExecuteTime": {
     "end_time": "2023-10-27T11:04:45.114346Z",
     "start_time": "2023-10-27T11:04:45.020987Z"
    }
   },
   "id": "cb07ce3d4e8eef05"
  },
  {
   "cell_type": "code",
   "execution_count": 7,
   "outputs": [],
   "source": [
    "table_name = 'manufacture'\n",
    "\n",
    "for _, row in df_manufactor.iterrows():\n",
    "    insert_query = f\"INSERT INTO {table_name} (man_name) VALUES ('{row['manufactor']}')\"\n",
    "    cursor.execute(insert_query)\n",
    "\n",
    "connection.commit()"
   ],
   "metadata": {
    "collapsed": false,
    "ExecuteTime": {
     "end_time": "2023-10-27T11:05:04.575476Z",
     "start_time": "2023-10-27T11:05:04.510175Z"
    }
   },
   "id": "5cef268454ff7fa0"
  },
  {
   "cell_type": "code",
   "execution_count": 5,
   "outputs": [
    {
     "data": {
      "text/plain": "                                           Screen_type\n0                                  IPS LED-backlit LCD\n1                                       Retina display\n2                            Liquid Retina XDR display\n3    13.3inch (diagonal) LED-backlit display with I...\n4    13.6inch (diagonal) LED-backlit display with I...\n..                                                 ...\n242                               Acer CineCrystal LED\n243                              TFT LED - backlit LCD\n244                               TFT LED-backlit LCD \n245                                                LCD\n246                            Acer comfy View LED LCD\n\n[247 rows x 1 columns]",
      "text/html": "<div>\n<style scoped>\n    .dataframe tbody tr th:only-of-type {\n        vertical-align: middle;\n    }\n\n    .dataframe tbody tr th {\n        vertical-align: top;\n    }\n\n    .dataframe thead th {\n        text-align: right;\n    }\n</style>\n<table border=\"1\" class=\"dataframe\">\n  <thead>\n    <tr style=\"text-align: right;\">\n      <th></th>\n      <th>Screen_type</th>\n    </tr>\n  </thead>\n  <tbody>\n    <tr>\n      <th>0</th>\n      <td>IPS LED-backlit LCD</td>\n    </tr>\n    <tr>\n      <th>1</th>\n      <td>Retina display</td>\n    </tr>\n    <tr>\n      <th>2</th>\n      <td>Liquid Retina XDR display</td>\n    </tr>\n    <tr>\n      <th>3</th>\n      <td>13.3inch (diagonal) LED-backlit display with I...</td>\n    </tr>\n    <tr>\n      <th>4</th>\n      <td>13.6inch (diagonal) LED-backlit display with I...</td>\n    </tr>\n    <tr>\n      <th>...</th>\n      <td>...</td>\n    </tr>\n    <tr>\n      <th>242</th>\n      <td>Acer CineCrystal LED</td>\n    </tr>\n    <tr>\n      <th>243</th>\n      <td>TFT LED - backlit LCD</td>\n    </tr>\n    <tr>\n      <th>244</th>\n      <td>TFT LED-backlit LCD</td>\n    </tr>\n    <tr>\n      <th>245</th>\n      <td>LCD</td>\n    </tr>\n    <tr>\n      <th>246</th>\n      <td>Acer comfy View LED LCD</td>\n    </tr>\n  </tbody>\n</table>\n<p>247 rows × 1 columns</p>\n</div>"
     },
     "execution_count": 5,
     "metadata": {},
     "output_type": "execute_result"
    }
   ],
   "source": [
    "df_screen_type = pd.read_csv('Laptops_final.csv', usecols=['Screen_type'])\n",
    "df_screen_type = df_screen_type.drop_duplicates()\n",
    "df_screen_type = df_screen_type.reset_index(drop=True)\n",
    "df_screen_type"
   ],
   "metadata": {
    "collapsed": false,
    "ExecuteTime": {
     "end_time": "2023-10-27T11:17:24.752431Z",
     "start_time": "2023-10-27T11:17:24.682469Z"
    }
   },
   "id": "df6cc5fc109a4100"
  },
  {
   "cell_type": "code",
   "execution_count": 7,
   "outputs": [],
   "source": [
    "table_name = 'screen_type'\n",
    "\n",
    "for _, row in df_screen_type.iterrows():\n",
    "    insert_query = f\"INSERT INTO {table_name} (screen_type) VALUES ('{row['Screen_type']}')\"\n",
    "    cursor.execute(insert_query)\n",
    "\n",
    "connection.commit()"
   ],
   "metadata": {
    "collapsed": false,
    "ExecuteTime": {
     "end_time": "2023-10-27T11:19:26.890723Z",
     "start_time": "2023-10-27T11:19:26.824700Z"
    }
   },
   "id": "f5fe0e529200c25"
  },
  {
   "cell_type": "code",
   "execution_count": 19,
   "outputs": [
    {
     "data": {
      "text/plain": "   Screen_resolution\n0        1600 * 2560\n1          3024*1964\n2          3456*2234\n4        1800 * 2880\n6        1440 * 2304\n7         900 * 1440\n8         768 * 1366\n9         1440*1050 \n10        800 * 1280\n11       2160 * 3840\n12       2256 * 1504\n13       2000 * 3000\n14      1080 * 1920 \n15         1200*1920\n17       1620 * 2880\n18       1440 * 2560\n19         2560*1920\n20       2160 * 4095\n21       1800 * 3200\n24        900 * 1600",
      "text/html": "<div>\n<style scoped>\n    .dataframe tbody tr th:only-of-type {\n        vertical-align: middle;\n    }\n\n    .dataframe tbody tr th {\n        vertical-align: top;\n    }\n\n    .dataframe thead th {\n        text-align: right;\n    }\n</style>\n<table border=\"1\" class=\"dataframe\">\n  <thead>\n    <tr style=\"text-align: right;\">\n      <th></th>\n      <th>Screen_resolution</th>\n    </tr>\n  </thead>\n  <tbody>\n    <tr>\n      <th>0</th>\n      <td>1600 * 2560</td>\n    </tr>\n    <tr>\n      <th>1</th>\n      <td>3024*1964</td>\n    </tr>\n    <tr>\n      <th>2</th>\n      <td>3456*2234</td>\n    </tr>\n    <tr>\n      <th>4</th>\n      <td>1800 * 2880</td>\n    </tr>\n    <tr>\n      <th>6</th>\n      <td>1440 * 2304</td>\n    </tr>\n    <tr>\n      <th>7</th>\n      <td>900 * 1440</td>\n    </tr>\n    <tr>\n      <th>8</th>\n      <td>768 * 1366</td>\n    </tr>\n    <tr>\n      <th>9</th>\n      <td>1440*1050</td>\n    </tr>\n    <tr>\n      <th>10</th>\n      <td>800 * 1280</td>\n    </tr>\n    <tr>\n      <th>11</th>\n      <td>2160 * 3840</td>\n    </tr>\n    <tr>\n      <th>12</th>\n      <td>2256 * 1504</td>\n    </tr>\n    <tr>\n      <th>13</th>\n      <td>2000 * 3000</td>\n    </tr>\n    <tr>\n      <th>14</th>\n      <td>1080 * 1920</td>\n    </tr>\n    <tr>\n      <th>15</th>\n      <td>1200*1920</td>\n    </tr>\n    <tr>\n      <th>17</th>\n      <td>1620 * 2880</td>\n    </tr>\n    <tr>\n      <th>18</th>\n      <td>1440 * 2560</td>\n    </tr>\n    <tr>\n      <th>19</th>\n      <td>2560*1920</td>\n    </tr>\n    <tr>\n      <th>20</th>\n      <td>2160 * 4095</td>\n    </tr>\n    <tr>\n      <th>21</th>\n      <td>1800 * 3200</td>\n    </tr>\n    <tr>\n      <th>24</th>\n      <td>900 * 1600</td>\n    </tr>\n  </tbody>\n</table>\n</div>"
     },
     "execution_count": 19,
     "metadata": {},
     "output_type": "execute_result"
    }
   ],
   "source": [
    "df_resolution = pd.read_csv('Laptops_final.csv', usecols=['Screen_resolution'])\n",
    "df_resolution = df_resolution.drop_duplicates()\n",
    "df_resolution = df_resolution.reset_index(drop=True)\n",
    "df_resolution.drop([3, 5, 16, 22, 23], inplace = True)\n",
    "df_resolution"
   ],
   "metadata": {
    "collapsed": false,
    "ExecuteTime": {
     "end_time": "2023-10-27T11:31:48.557231Z",
     "start_time": "2023-10-27T11:31:48.461604Z"
    }
   },
   "id": "89da1110293e9084"
  },
  {
   "cell_type": "code",
   "execution_count": 21,
   "outputs": [
    {
     "data": {
      "text/plain": "        0       1\n0   1600     2560\n1    3024    1964\n2    3456    2234\n4   1800     2880\n6   1440     2304\n7    900     1440\n8    768     1366\n9    1440   1050 \n10   800     1280\n11  2160     3840\n12  2256     1504\n13  2000     3000\n14  1080    1920 \n15   1200    1920\n17  1620     2880\n18  1440     2560\n19   2560    1920\n20  2160     4095\n21  1800     3200\n24   900     1600",
      "text/html": "<div>\n<style scoped>\n    .dataframe tbody tr th:only-of-type {\n        vertical-align: middle;\n    }\n\n    .dataframe tbody tr th {\n        vertical-align: top;\n    }\n\n    .dataframe thead th {\n        text-align: right;\n    }\n</style>\n<table border=\"1\" class=\"dataframe\">\n  <thead>\n    <tr style=\"text-align: right;\">\n      <th></th>\n      <th>0</th>\n      <th>1</th>\n    </tr>\n  </thead>\n  <tbody>\n    <tr>\n      <th>0</th>\n      <td>1600</td>\n      <td>2560</td>\n    </tr>\n    <tr>\n      <th>1</th>\n      <td>3024</td>\n      <td>1964</td>\n    </tr>\n    <tr>\n      <th>2</th>\n      <td>3456</td>\n      <td>2234</td>\n    </tr>\n    <tr>\n      <th>4</th>\n      <td>1800</td>\n      <td>2880</td>\n    </tr>\n    <tr>\n      <th>6</th>\n      <td>1440</td>\n      <td>2304</td>\n    </tr>\n    <tr>\n      <th>7</th>\n      <td>900</td>\n      <td>1440</td>\n    </tr>\n    <tr>\n      <th>8</th>\n      <td>768</td>\n      <td>1366</td>\n    </tr>\n    <tr>\n      <th>9</th>\n      <td>1440</td>\n      <td>1050</td>\n    </tr>\n    <tr>\n      <th>10</th>\n      <td>800</td>\n      <td>1280</td>\n    </tr>\n    <tr>\n      <th>11</th>\n      <td>2160</td>\n      <td>3840</td>\n    </tr>\n    <tr>\n      <th>12</th>\n      <td>2256</td>\n      <td>1504</td>\n    </tr>\n    <tr>\n      <th>13</th>\n      <td>2000</td>\n      <td>3000</td>\n    </tr>\n    <tr>\n      <th>14</th>\n      <td>1080</td>\n      <td>1920</td>\n    </tr>\n    <tr>\n      <th>15</th>\n      <td>1200</td>\n      <td>1920</td>\n    </tr>\n    <tr>\n      <th>17</th>\n      <td>1620</td>\n      <td>2880</td>\n    </tr>\n    <tr>\n      <th>18</th>\n      <td>1440</td>\n      <td>2560</td>\n    </tr>\n    <tr>\n      <th>19</th>\n      <td>2560</td>\n      <td>1920</td>\n    </tr>\n    <tr>\n      <th>20</th>\n      <td>2160</td>\n      <td>4095</td>\n    </tr>\n    <tr>\n      <th>21</th>\n      <td>1800</td>\n      <td>3200</td>\n    </tr>\n    <tr>\n      <th>24</th>\n      <td>900</td>\n      <td>1600</td>\n    </tr>\n  </tbody>\n</table>\n</div>"
     },
     "execution_count": 21,
     "metadata": {},
     "output_type": "execute_result"
    }
   ],
   "source": [
    "df_resolution = df_resolution['Screen_resolution'].str.split('*', expand=True)\n",
    "df_resolution"
   ],
   "metadata": {
    "collapsed": false,
    "ExecuteTime": {
     "end_time": "2023-10-27T11:32:21.343612Z",
     "start_time": "2023-10-27T11:32:21.334764Z"
    }
   },
   "id": "5ed5e304379c52e7"
  },
  {
   "cell_type": "code",
   "execution_count": 23,
   "outputs": [],
   "source": [
    "table_name = 'resolution'\n",
    "\n",
    "for _, row in df_resolution.iterrows():\n",
    "    insert_query = f\"INSERT INTO {table_name} (screen_y, screen_x) VALUES ('{row[0]}', '{row[1]}')\"\n",
    "    cursor.execute(insert_query)\n",
    "    \n",
    "connection.commit()"
   ],
   "metadata": {
    "collapsed": false,
    "ExecuteTime": {
     "end_time": "2023-10-27T11:38:08.085594Z",
     "start_time": "2023-10-27T11:38:08.071909Z"
    }
   },
   "id": "6059912d582b67"
  },
  {
   "cell_type": "code",
   "execution_count": 31,
   "outputs": [
    {
     "data": {
      "text/plain": "         RAM_type\n1  unified memory\n2            DDR4\n3            DDR3\n5           DDR3L\n6            DDR5",
      "text/html": "<div>\n<style scoped>\n    .dataframe tbody tr th:only-of-type {\n        vertical-align: middle;\n    }\n\n    .dataframe tbody tr th {\n        vertical-align: top;\n    }\n\n    .dataframe thead th {\n        text-align: right;\n    }\n</style>\n<table border=\"1\" class=\"dataframe\">\n  <thead>\n    <tr style=\"text-align: right;\">\n      <th></th>\n      <th>RAM_type</th>\n    </tr>\n  </thead>\n  <tbody>\n    <tr>\n      <th>1</th>\n      <td>unified memory</td>\n    </tr>\n    <tr>\n      <th>2</th>\n      <td>DDR4</td>\n    </tr>\n    <tr>\n      <th>3</th>\n      <td>DDR3</td>\n    </tr>\n    <tr>\n      <th>5</th>\n      <td>DDR3L</td>\n    </tr>\n    <tr>\n      <th>6</th>\n      <td>DDR5</td>\n    </tr>\n  </tbody>\n</table>\n</div>"
     },
     "execution_count": 31,
     "metadata": {},
     "output_type": "execute_result"
    }
   ],
   "source": [
    "df_ram_type = pd.read_csv('Laptops_final.csv', usecols=['RAM_type'])\n",
    "df_ram_type = df_ram_type.drop_duplicates()\n",
    "df_ram_type = df_ram_type.reset_index(drop=True)\n",
    "df_ram_type.drop([0, 4, 7], inplace = True)\n",
    "df_ram_type"
   ],
   "metadata": {
    "collapsed": false,
    "ExecuteTime": {
     "end_time": "2023-10-27T11:41:31.657797Z",
     "start_time": "2023-10-27T11:41:31.625451Z"
    }
   },
   "id": "821c21d3ee55ef51"
  },
  {
   "cell_type": "code",
   "execution_count": 32,
   "outputs": [
    {
     "data": {
      "text/plain": "                                         graphic_model\n0                  7core Apple-designed integrated GPU\n1                                                  NaN\n2    14core GPU16core Neural Engine200GB/s memory b...\n3    16core GPU16core Neural Engine200GB/s memory b...\n4    10core GPU16-core Neural Engine100GB/s memory ...\n..                                                 ...\n730                               GeForce MX 550 GDDR6\n731                                GeForce MX350 GDDR5\n732                                   Geforce GTX 1650\n733                                    Geforce RTX3070\n734                                      Geforce MX۳۵۰\n\n[735 rows x 1 columns]",
      "text/html": "<div>\n<style scoped>\n    .dataframe tbody tr th:only-of-type {\n        vertical-align: middle;\n    }\n\n    .dataframe tbody tr th {\n        vertical-align: top;\n    }\n\n    .dataframe thead th {\n        text-align: right;\n    }\n</style>\n<table border=\"1\" class=\"dataframe\">\n  <thead>\n    <tr style=\"text-align: right;\">\n      <th></th>\n      <th>graphic_model</th>\n    </tr>\n  </thead>\n  <tbody>\n    <tr>\n      <th>0</th>\n      <td>7core Apple-designed integrated GPU</td>\n    </tr>\n    <tr>\n      <th>1</th>\n      <td>NaN</td>\n    </tr>\n    <tr>\n      <th>2</th>\n      <td>14core GPU16core Neural Engine200GB/s memory b...</td>\n    </tr>\n    <tr>\n      <th>3</th>\n      <td>16core GPU16core Neural Engine200GB/s memory b...</td>\n    </tr>\n    <tr>\n      <th>4</th>\n      <td>10core GPU16-core Neural Engine100GB/s memory ...</td>\n    </tr>\n    <tr>\n      <th>...</th>\n      <td>...</td>\n    </tr>\n    <tr>\n      <th>730</th>\n      <td>GeForce MX 550 GDDR6</td>\n    </tr>\n    <tr>\n      <th>731</th>\n      <td>GeForce MX350 GDDR5</td>\n    </tr>\n    <tr>\n      <th>732</th>\n      <td>Geforce GTX 1650</td>\n    </tr>\n    <tr>\n      <th>733</th>\n      <td>Geforce RTX3070</td>\n    </tr>\n    <tr>\n      <th>734</th>\n      <td>Geforce MX۳۵۰</td>\n    </tr>\n  </tbody>\n</table>\n<p>735 rows × 1 columns</p>\n</div>"
     },
     "execution_count": 32,
     "metadata": {},
     "output_type": "execute_result"
    }
   ],
   "source": [
    "df_gpu_model = pd.read_csv('Laptops_final.csv', usecols=['graphic_model'])\n",
    "df_gpu_model = df_gpu_model.drop_duplicates()\n",
    "df_gpu_model = df_gpu_model.reset_index(drop=True)\n",
    "df_gpu_model"
   ],
   "metadata": {
    "collapsed": false,
    "ExecuteTime": {
     "end_time": "2023-10-27T11:42:53.666770Z",
     "start_time": "2023-10-27T11:42:53.618408Z"
    }
   },
   "id": "bbe2af853b442149"
  },
  {
   "cell_type": "code",
   "execution_count": 33,
   "outputs": [],
   "source": [
    "table_name = 'gpu_model'\n",
    "\n",
    "for _, row in df_gpu_model.iterrows():\n",
    "    insert_query = f\"INSERT INTO {table_name} (gpu_name) VALUES ('{row['graphic_model']}')\"\n",
    "    cursor.execute(insert_query)\n",
    "    \n",
    "connection.commit()    "
   ],
   "metadata": {
    "collapsed": false,
    "ExecuteTime": {
     "end_time": "2023-10-27T11:43:37.170900Z",
     "start_time": "2023-10-27T11:43:36.916740Z"
    }
   },
   "id": "94a8fa0325fc305e"
  },
  {
   "cell_type": "code",
   "execution_count": 34,
   "outputs": [
    {
     "data": {
      "text/plain": "        laptop_type\n0            مک‌بوک\n1               NaN\n2          آلترابوک\n3  نوت بوک (لپ تاپ)\n4          کروم بوک",
      "text/html": "<div>\n<style scoped>\n    .dataframe tbody tr th:only-of-type {\n        vertical-align: middle;\n    }\n\n    .dataframe tbody tr th {\n        vertical-align: top;\n    }\n\n    .dataframe thead th {\n        text-align: right;\n    }\n</style>\n<table border=\"1\" class=\"dataframe\">\n  <thead>\n    <tr style=\"text-align: right;\">\n      <th></th>\n      <th>laptop_type</th>\n    </tr>\n  </thead>\n  <tbody>\n    <tr>\n      <th>0</th>\n      <td>مک‌بوک</td>\n    </tr>\n    <tr>\n      <th>1</th>\n      <td>NaN</td>\n    </tr>\n    <tr>\n      <th>2</th>\n      <td>آلترابوک</td>\n    </tr>\n    <tr>\n      <th>3</th>\n      <td>نوت بوک (لپ تاپ)</td>\n    </tr>\n    <tr>\n      <th>4</th>\n      <td>کروم بوک</td>\n    </tr>\n  </tbody>\n</table>\n</div>"
     },
     "execution_count": 34,
     "metadata": {},
     "output_type": "execute_result"
    }
   ],
   "source": [
    "df_category = pd.read_csv('Laptops_final.csv', usecols=['laptop_type'])\n",
    "df_category = df_category.drop_duplicates()\n",
    "df_category = df_category.reset_index(drop=True)\n",
    "df_category"
   ],
   "metadata": {
    "collapsed": false,
    "ExecuteTime": {
     "end_time": "2023-10-27T11:45:26.992657Z",
     "start_time": "2023-10-27T11:45:26.952096Z"
    }
   },
   "id": "2adcd9c529cee514"
  },
  {
   "cell_type": "code",
   "execution_count": 35,
   "outputs": [],
   "source": [
    "table_name = 'category'\n",
    "\n",
    "for _, row in df_category.iterrows():\n",
    "    insert_query = f\"INSERT INTO {table_name} (category_name) VALUES ('{row['laptop_type']}')\"\n",
    "    cursor.execute(insert_query)\n",
    "    \n",
    "connection.commit()"
   ],
   "metadata": {
    "collapsed": false,
    "ExecuteTime": {
     "end_time": "2023-10-27T11:46:31.757853Z",
     "start_time": "2023-10-27T11:46:31.635673Z"
    }
   },
   "id": "cff923d97605ad22"
  },
  {
   "cell_type": "code",
   "execution_count": 38,
   "outputs": [
    {
     "data": {
      "text/plain": "                     laptop_size\n0      304.1x212.4x16.1 میلی‌متر\n1    30.41x21.24x1.61 سانتی ‌متر\n2         312x212.2x156 میلی‌متر\n3           355x248x168 میلی‌متر\n4    1.56*30.41*21.24 سانتی ‌متر\n..                           ...\n907     19.9×238.4×363.4 میلیمتر\n908          362x254x23 میلی‌متر\n909       363.4x255x23.9 ميليمتر\n910      ۲۲۳x۳۲۸x ۱۷.۹۵ میلی‌متر\n911    26.75 * 256 * 360 ميليمتر\n\n[912 rows x 1 columns]",
      "text/html": "<div>\n<style scoped>\n    .dataframe tbody tr th:only-of-type {\n        vertical-align: middle;\n    }\n\n    .dataframe tbody tr th {\n        vertical-align: top;\n    }\n\n    .dataframe thead th {\n        text-align: right;\n    }\n</style>\n<table border=\"1\" class=\"dataframe\">\n  <thead>\n    <tr style=\"text-align: right;\">\n      <th></th>\n      <th>laptop_size</th>\n    </tr>\n  </thead>\n  <tbody>\n    <tr>\n      <th>0</th>\n      <td>304.1x212.4x16.1 میلی‌متر</td>\n    </tr>\n    <tr>\n      <th>1</th>\n      <td>30.41x21.24x1.61 سانتی ‌متر</td>\n    </tr>\n    <tr>\n      <th>2</th>\n      <td>312x212.2x156 میلی‌متر</td>\n    </tr>\n    <tr>\n      <th>3</th>\n      <td>355x248x168 میلی‌متر</td>\n    </tr>\n    <tr>\n      <th>4</th>\n      <td>1.56*30.41*21.24 سانتی ‌متر</td>\n    </tr>\n    <tr>\n      <th>...</th>\n      <td>...</td>\n    </tr>\n    <tr>\n      <th>907</th>\n      <td>19.9×238.4×363.4 میلیمتر</td>\n    </tr>\n    <tr>\n      <th>908</th>\n      <td>362x254x23 میلی‌متر</td>\n    </tr>\n    <tr>\n      <th>909</th>\n      <td>363.4x255x23.9 ميليمتر</td>\n    </tr>\n    <tr>\n      <th>910</th>\n      <td>۲۲۳x۳۲۸x ۱۷.۹۵ میلی‌متر</td>\n    </tr>\n    <tr>\n      <th>911</th>\n      <td>26.75 * 256 * 360 ميليمتر</td>\n    </tr>\n  </tbody>\n</table>\n<p>912 rows × 1 columns</p>\n</div>"
     },
     "execution_count": 38,
     "metadata": {},
     "output_type": "execute_result"
    }
   ],
   "source": [
    "df_size = pd.read_csv('Laptops_final.csv', usecols=['laptop_size'])\n",
    "df_size = df_size.drop_duplicates()\n",
    "df_size = df_size.reset_index(drop=True)\n",
    "df_size"
   ],
   "metadata": {
    "collapsed": false,
    "ExecuteTime": {
     "end_time": "2023-10-27T11:55:15.544378Z",
     "start_time": "2023-10-27T11:55:15.495559Z"
    }
   },
   "id": "9164e61a1694bee3"
  },
  {
   "cell_type": "code",
   "execution_count": 40,
   "outputs": [],
   "source": [
    "table_name = 'size'\n",
    "\n",
    "for _, row in df_size.iterrows():\n",
    "    insert_query = f\"INSERT INTO {table_name} (size) VALUES ('{row['laptop_size']}')\"\n",
    "    cursor.execute(insert_query)\n",
    "\n",
    "connection.commit()"
   ],
   "metadata": {
    "collapsed": false,
    "ExecuteTime": {
     "end_time": "2023-10-27T11:55:46.025007Z",
     "start_time": "2023-10-27T11:55:45.850316Z"
    }
   },
   "id": "241b301d785e2a8b"
  },
  {
   "cell_type": "code",
   "execution_count": 6,
   "outputs": [
    {
     "data": {
      "text/plain": "  CPU_manufacturer\n0            Apple\n1            INTEL\n2              AMD\n3          Carrizo",
      "text/html": "<div>\n<style scoped>\n    .dataframe tbody tr th:only-of-type {\n        vertical-align: middle;\n    }\n\n    .dataframe tbody tr th {\n        vertical-align: top;\n    }\n\n    .dataframe thead th {\n        text-align: right;\n    }\n</style>\n<table border=\"1\" class=\"dataframe\">\n  <thead>\n    <tr style=\"text-align: right;\">\n      <th></th>\n      <th>CPU_manufacturer</th>\n    </tr>\n  </thead>\n  <tbody>\n    <tr>\n      <th>0</th>\n      <td>Apple</td>\n    </tr>\n    <tr>\n      <th>1</th>\n      <td>INTEL</td>\n    </tr>\n    <tr>\n      <th>2</th>\n      <td>AMD</td>\n    </tr>\n    <tr>\n      <th>3</th>\n      <td>Carrizo</td>\n    </tr>\n  </tbody>\n</table>\n</div>"
     },
     "execution_count": 6,
     "metadata": {},
     "output_type": "execute_result"
    }
   ],
   "source": [
    "df_cpu_man = pd.read_csv('Laptops_final.csv', usecols=['CPU_manufacturer'])\n",
    "df_cpu_man = df_cpu_man.drop_duplicates()\n",
    "df_cpu_man = df_cpu_man.reset_index(drop=True)\n",
    "df_cpu_man"
   ],
   "metadata": {
    "collapsed": false,
    "ExecuteTime": {
     "end_time": "2023-10-27T15:55:44.282649Z",
     "start_time": "2023-10-27T15:55:44.200231Z"
    }
   },
   "id": "7fa452b8ac9ba99d"
  },
  {
   "cell_type": "code",
   "execution_count": 7,
   "outputs": [],
   "source": [
    "table_name = 'cpu_manufacture'\n",
    "\n",
    "for _, row in df_cpu_man.iterrows():\n",
    "    insert_query = f\"INSERT INTO {table_name} (cpu_man) VALUES ('{row['CPU_manufacturer']}')\"\n",
    "    cursor.execute(insert_query)\n",
    "\n",
    "connection.commit()"
   ],
   "metadata": {
    "collapsed": false,
    "ExecuteTime": {
     "end_time": "2023-10-27T15:55:45.463538Z",
     "start_time": "2023-10-27T15:55:45.378759Z"
    }
   },
   "id": "770f4d5d7fd724d8"
  },
  {
   "cell_type": "code",
   "execution_count": 8,
   "outputs": [
    {
     "data": {
      "text/plain": "   CPU_series\n0          M1\n1      M1 Pro\n2          M2\n3     Core i7\n4      M2 Pro\n..        ...\n56     Athlon\n57    E1-7010\n58    A6-9210\n59   FX-9800P\n60   A4-9120E\n\n[61 rows x 1 columns]",
      "text/html": "<div>\n<style scoped>\n    .dataframe tbody tr th:only-of-type {\n        vertical-align: middle;\n    }\n\n    .dataframe tbody tr th {\n        vertical-align: top;\n    }\n\n    .dataframe thead th {\n        text-align: right;\n    }\n</style>\n<table border=\"1\" class=\"dataframe\">\n  <thead>\n    <tr style=\"text-align: right;\">\n      <th></th>\n      <th>CPU_series</th>\n    </tr>\n  </thead>\n  <tbody>\n    <tr>\n      <th>0</th>\n      <td>M1</td>\n    </tr>\n    <tr>\n      <th>1</th>\n      <td>M1 Pro</td>\n    </tr>\n    <tr>\n      <th>2</th>\n      <td>M2</td>\n    </tr>\n    <tr>\n      <th>3</th>\n      <td>Core i7</td>\n    </tr>\n    <tr>\n      <th>4</th>\n      <td>M2 Pro</td>\n    </tr>\n    <tr>\n      <th>...</th>\n      <td>...</td>\n    </tr>\n    <tr>\n      <th>56</th>\n      <td>Athlon</td>\n    </tr>\n    <tr>\n      <th>57</th>\n      <td>E1-7010</td>\n    </tr>\n    <tr>\n      <th>58</th>\n      <td>A6-9210</td>\n    </tr>\n    <tr>\n      <th>59</th>\n      <td>FX-9800P</td>\n    </tr>\n    <tr>\n      <th>60</th>\n      <td>A4-9120E</td>\n    </tr>\n  </tbody>\n</table>\n<p>61 rows × 1 columns</p>\n</div>"
     },
     "execution_count": 8,
     "metadata": {},
     "output_type": "execute_result"
    }
   ],
   "source": [
    "df_cpu_series = pd.read_csv('Laptops_final.csv', usecols=['CPU_series'])\n",
    "df_cpu_series = df_cpu_series.drop_duplicates()\n",
    "df_cpu_series = df_cpu_series.reset_index(drop=True)\n",
    "df_cpu_series"
   ],
   "metadata": {
    "collapsed": false,
    "ExecuteTime": {
     "end_time": "2023-10-27T15:56:20.163885Z",
     "start_time": "2023-10-27T15:56:20.094056Z"
    }
   },
   "id": "696d7c10a10bb8c8"
  },
  {
   "cell_type": "code",
   "execution_count": 15,
   "outputs": [],
   "source": [
    "table_name = 'cpu_series'\n",
    "\n",
    "for _, row in df_cpu_series.iterrows():\n",
    "    insert_query = f\"INSERT INTO {table_name} (cpu_series) VALUES ('{row['CPU_series']}')\"\n",
    "    cursor.execute(insert_query)\n",
    "\n",
    "connection.commit()"
   ],
   "metadata": {
    "collapsed": false,
    "ExecuteTime": {
     "end_time": "2023-10-27T15:59:30.846981Z",
     "start_time": "2023-10-27T15:59:30.803975Z"
    }
   },
   "id": "dd79e15b8a0e1b80"
  },
  {
   "cell_type": "code",
   "execution_count": 16,
   "outputs": [
    {
     "data": {
      "text/plain": "                                             CPU_model\n0                                        Apple M1 Chip\n1                               M1 Pro with 8-core CPU\n2                              M1 Pro with 10-core CPU\n3    M2 chip with 8‑core CPU, 10‑core GPU, 16‑core ...\n4    8core CPU with 4 performance cores and 4 effic...\n..                                                 ...\n259                                       Ryzen 5 3500\n260                                           i5-1240P\n261                                            i7-7500\n262                                               7Y54\n263                                     Celeron-N2820 \n\n[264 rows x 1 columns]",
      "text/html": "<div>\n<style scoped>\n    .dataframe tbody tr th:only-of-type {\n        vertical-align: middle;\n    }\n\n    .dataframe tbody tr th {\n        vertical-align: top;\n    }\n\n    .dataframe thead th {\n        text-align: right;\n    }\n</style>\n<table border=\"1\" class=\"dataframe\">\n  <thead>\n    <tr style=\"text-align: right;\">\n      <th></th>\n      <th>CPU_model</th>\n    </tr>\n  </thead>\n  <tbody>\n    <tr>\n      <th>0</th>\n      <td>Apple M1 Chip</td>\n    </tr>\n    <tr>\n      <th>1</th>\n      <td>M1 Pro with 8-core CPU</td>\n    </tr>\n    <tr>\n      <th>2</th>\n      <td>M1 Pro with 10-core CPU</td>\n    </tr>\n    <tr>\n      <th>3</th>\n      <td>M2 chip with 8‑core CPU, 10‑core GPU, 16‑core ...</td>\n    </tr>\n    <tr>\n      <th>4</th>\n      <td>8core CPU with 4 performance cores and 4 effic...</td>\n    </tr>\n    <tr>\n      <th>...</th>\n      <td>...</td>\n    </tr>\n    <tr>\n      <th>259</th>\n      <td>Ryzen 5 3500</td>\n    </tr>\n    <tr>\n      <th>260</th>\n      <td>i5-1240P</td>\n    </tr>\n    <tr>\n      <th>261</th>\n      <td>i7-7500</td>\n    </tr>\n    <tr>\n      <th>262</th>\n      <td>7Y54</td>\n    </tr>\n    <tr>\n      <th>263</th>\n      <td>Celeron-N2820</td>\n    </tr>\n  </tbody>\n</table>\n<p>264 rows × 1 columns</p>\n</div>"
     },
     "execution_count": 16,
     "metadata": {},
     "output_type": "execute_result"
    }
   ],
   "source": [
    "df_cpu_model = pd.read_csv('Laptops_final.csv', usecols=['CPU_model'])\n",
    "df_cpu_model = df_cpu_model.drop_duplicates()\n",
    "df_cpu_model = df_cpu_model.reset_index(drop=True)\n",
    "df_cpu_model"
   ],
   "metadata": {
    "collapsed": false,
    "ExecuteTime": {
     "end_time": "2023-10-27T16:00:08.643540Z",
     "start_time": "2023-10-27T16:00:08.605031Z"
    }
   },
   "id": "49e2507d1a9460a5"
  },
  {
   "cell_type": "code",
   "execution_count": 18,
   "outputs": [],
   "source": [
    "table_name = 'cpu_model'\n",
    "\n",
    "for _, row in df_cpu_model.iterrows():\n",
    "    insert_query = f\"INSERT INTO {table_name} (cpu_name) VALUES ('{row['CPU_model']}')\"\n",
    "    cursor.execute(insert_query)\n",
    "\n",
    "connection.commit()"
   ],
   "metadata": {
    "collapsed": false,
    "ExecuteTime": {
     "end_time": "2023-10-27T16:01:43.063193Z",
     "start_time": "2023-10-27T16:01:43.006812Z"
    }
   },
   "id": "689dbb49abadf077"
  },
  {
   "cell_type": "code",
   "execution_count": 30,
   "outputs": [
    {
     "data": {
      "text/plain": "  graphic_manufacturer\n0                Apple\n1                  AMD\n2                Intel\n3          AMD Radeon \n4        Nvidia Gforce\n5               Nvidia",
      "text/html": "<div>\n<style scoped>\n    .dataframe tbody tr th:only-of-type {\n        vertical-align: middle;\n    }\n\n    .dataframe tbody tr th {\n        vertical-align: top;\n    }\n\n    .dataframe thead th {\n        text-align: right;\n    }\n</style>\n<table border=\"1\" class=\"dataframe\">\n  <thead>\n    <tr style=\"text-align: right;\">\n      <th></th>\n      <th>graphic_manufacturer</th>\n    </tr>\n  </thead>\n  <tbody>\n    <tr>\n      <th>0</th>\n      <td>Apple</td>\n    </tr>\n    <tr>\n      <th>1</th>\n      <td>AMD</td>\n    </tr>\n    <tr>\n      <th>2</th>\n      <td>Intel</td>\n    </tr>\n    <tr>\n      <th>3</th>\n      <td>AMD Radeon</td>\n    </tr>\n    <tr>\n      <th>4</th>\n      <td>Nvidia Gforce</td>\n    </tr>\n    <tr>\n      <th>5</th>\n      <td>Nvidia</td>\n    </tr>\n  </tbody>\n</table>\n</div>"
     },
     "execution_count": 30,
     "metadata": {},
     "output_type": "execute_result"
    }
   ],
   "source": [
    "df_gpu_man = pd.read_csv('Laptops_final.csv', usecols=['graphic_manufacturer'])\n",
    "df_gpu_man = df_gpu_man.drop_duplicates()\n",
    "df_gpu_man = df_gpu_man.reset_index(drop=True)\n",
    "df_gpu_man.drop([6,7,8,9], inplace=True)\n",
    "df_gpu_man"
   ],
   "metadata": {
    "collapsed": false,
    "ExecuteTime": {
     "end_time": "2023-10-27T16:38:12.675690Z",
     "start_time": "2023-10-27T16:38:12.639282Z"
    }
   },
   "id": "c65b8c201db42b42"
  },
  {
   "cell_type": "code",
   "execution_count": 31,
   "outputs": [],
   "source": [
    "table_name = 'gpu_manufacture'\n",
    "\n",
    "for _, row in df_cpu_model.iterrows():\n",
    "    insert_query = f\"INSERT INTO {table_name} (gpu_man) VALUES ('{row['CPU_model']}')\"\n",
    "    cursor.execute(insert_query)\n",
    "\n",
    "connection.commit()"
   ],
   "metadata": {
    "collapsed": false,
    "ExecuteTime": {
     "end_time": "2023-10-27T16:38:14.618710Z",
     "start_time": "2023-10-27T16:38:14.564326Z"
    }
   },
   "id": "653f0e86f9b0531"
  },
  {
   "cell_type": "code",
   "execution_count": 23,
   "outputs": [
    {
     "name": "stdout",
     "output_type": "stream",
     "text": [
      "Connected to MySQL database: meghdad_db\n"
     ]
    }
   ],
   "source": [
    "connection = create_connection(db_host, db_user, db_password, db_name)\n",
    "cursor = connection.cursor(buffered=True)\n",
    "\n",
    "try:\n",
    "    with open('Laptops_final.csv', 'r') as csvfile:\n",
    "        csvreader = csv.DictReader(csvfile)\n",
    "        for row in csvreader:\n",
    "            man_name = row['manufactor']\n",
    "            category_name = row['laptop_type']\n",
    "            size = row['laptop_size']\n",
    "            screen_type = row['Screen_type']\n",
    "            resolution = row['Screen_resolution']\n",
    "            cpu_man = row['CPU_manufacturer']\n",
    "            cpu_series = row['CPU_series']\n",
    "            cpu_model = row['CPU_model']\n",
    "            ram_type = row['RAM_type']\n",
    "            gpu_man = row['graphic_manufacturer']\n",
    "            gpu_model = row['graphic_model']\n",
    "            name = row['name']\n",
    "            ename = row['ename']\n",
    "            aprice = row['aprice']\n",
    "            sprice = row['sprice']\n",
    "            weight = row['laptop_weight']\n",
    "            screen_size = row['Screen_size']\n",
    "            cpu_frequncy_d = row['CPU_frequency']\n",
    "            cpu_frequncy = re.findall(r'\\d', cpu_frequncy_d)\n",
    "            if cpu_frequncy:\n",
    "                cpu_frequncy = int(''.join(cpu_frequncy))\n",
    "            else:\n",
    "                cpu_frequncy = None\n",
    "            cache_memory_d = row['cache_memory']\n",
    "            cache_memory = re.findall(r'\\d', cache_memory_d)\n",
    "            if cache_memory:\n",
    "                cache_memory = int(''.join(cache_memory))\n",
    "            else:\n",
    "                cache_memory = None\n",
    "            ram_d = row['RAM']\n",
    "            ram = re.findall(r'\\d', ram_d)\n",
    "            if ram:\n",
    "                ram = int(''.join(ram))\n",
    "            else:\n",
    "                ram = None\n",
    "            hard_d = row['hard_disk']\n",
    "            hard = re.findall(r'\\d', hard_d)\n",
    "            if hard:\n",
    "                hard = int(''.join(hard))\n",
    "            else:\n",
    "                hard = None\n",
    "            graphic_memory_d = row['graphic_memory']\n",
    "            graphic_memory = re.findall(r'\\d', graphic_memory_d)\n",
    "            if graphic_memory:\n",
    "                graphic_memory = int(''.join(graphic_memory))\n",
    "            else:\n",
    "                graphic_memory = None\n",
    "\n",
    "            if not connection.is_connected():\n",
    "                connection.connect()\n",
    "\n",
    "            cursor.execute(\"SELECT id FROM manufacture WHERE man_name = %s\", (man_name,))\n",
    "            result = cursor.fetchone()\n",
    "            if result is not None:\n",
    "                manufacturer_id = result[0]\n",
    "            else:\n",
    "                manufacturer_id = None\n",
    "\n",
    "            cursor.execute(\"SELECT id FROM category WHERE category_name = %s\", (category_name,))\n",
    "            result = cursor.fetchone()\n",
    "            if result is not None:\n",
    "                type_id = result[0]\n",
    "            else:\n",
    "                type_id = None\n",
    "\n",
    "            cursor.execute(\"SELECT id FROM size WHERE size = %s\", (size,))\n",
    "            result = cursor.fetchone()\n",
    "            if result is not None:\n",
    "                size_id = result[0]\n",
    "            else:\n",
    "                size_id = None\n",
    "\n",
    "            cursor.execute(\"SELECT id FROM screen_type WHERE screen_type = %s\", (screen_type,))\n",
    "            result = cursor.fetchone()\n",
    "            if result is not None:\n",
    "                screen_type_id = result[0]\n",
    "            else:\n",
    "                screen_type_id = None\n",
    "\n",
    "            # Split resolution only if it contains an asterisk\n",
    "            resolution_parts = resolution.split('*')\n",
    "            if len(resolution_parts) == 2:\n",
    "                cursor.execute(\"SELECT id FROM resolution WHERE screen_y = %s AND screen_x = %s\", (resolution_parts[0], resolution_parts[1]))\n",
    "                result = cursor.fetchone()\n",
    "                if result is not None:\n",
    "                    resolution_id = result[0]\n",
    "                else:\n",
    "                    resolution_id = None\n",
    "            else:\n",
    "                resolution_id = None\n",
    "\n",
    "            cursor.execute(\"SELECT id FROM cpu_manufacture WHERE cpu_man = %s\", (cpu_man,))\n",
    "            result = cursor.fetchone()\n",
    "            if result is not None:\n",
    "                cpu_man_id = result[0]\n",
    "            else:\n",
    "                cpu_man_id = None\n",
    "\n",
    "            cursor.execute(\"SELECT id FROM cpu_series WHERE cpu_series = %s\", (cpu_series,))\n",
    "            result = cursor.fetchone()\n",
    "            if result is not None:\n",
    "                cpu_series_id = result[0]\n",
    "            else:\n",
    "                cpu_series_id = None\n",
    "\n",
    "            cursor.execute(\"SELECT id FROM cpu_model WHERE cpu_name = %s\", (cpu_model,))\n",
    "            result = cursor.fetchone()\n",
    "            if result is not None:\n",
    "                cpu_model_id = result[0]\n",
    "            else:\n",
    "                cpu_model_id = None\n",
    "\n",
    "            cursor.execute(\"SELECT id FROM ram_type WHERE ram_name = %s\", (ram_type,))\n",
    "            result = cursor.fetchone()\n",
    "            if result is not None:\n",
    "                ram_type_id = result[0]\n",
    "            else:\n",
    "                ram_type_id = None\n",
    "\n",
    "            cursor.execute(\"SELECT id FROM gpu_manufacture WHERE gpu_man = %s\", (gpu_man,))\n",
    "            result = cursor.fetchone()\n",
    "            if result is not None:\n",
    "                gpu_man_id = result[0]\n",
    "            else:\n",
    "                gpu_man_id = None\n",
    "\n",
    "            cursor.execute(\"SELECT id FROM gpu_model WHERE gpu_name = %s\", (gpu_model,))\n",
    "            result = cursor.fetchone()\n",
    "            if result is not None:\n",
    "                gpu_model_id = result[0]\n",
    "            else:\n",
    "                gpu_model_id = None\n",
    "\n",
    "            cursor.execute(\"INSERT INTO laptop (manufacturer_id, type_id, size_id, screen_type_id, resolution_id, cpu_man_id, cpu_series_id, cpu_model_id, ram_type_id, gpu_man_id, gpu_model_id, name, ename, aprice, sprice, weight, screen_size, cpu_frequncy, cache_memory, ram, hard_disk, graphic_memory) VALUES (%s, %s, %s, %s, %s, %s, %s, %s, %s, %s, %s, %s, %s, %s, %s, %s, %s, %s, %s, %s, %s, %s)\", (manufacturer_id, type_id, size_id, screen_type_id, resolution_id, cpu_man_id, cpu_series_id, cpu_model_id, ram_type_id, gpu_man_id, gpu_model_id, name, ename, aprice, sprice, weight, screen_size, cpu_frequncy, cache_memory, ram, hard, graphic_memory))\n",
    "\n",
    "            connection.commit()\n",
    "\n",
    "finally:\n",
    "    cursor.close()\n",
    "    connection.close()\n"
   ],
   "metadata": {
    "collapsed": false,
    "ExecuteTime": {
     "end_time": "2023-10-27T18:12:06.599888Z",
     "start_time": "2023-10-27T18:11:57.357478Z"
    }
   },
   "id": "492f3d24d0c0bfe5"
  },
  {
   "cell_type": "code",
   "execution_count": 25,
   "outputs": [],
   "source": [
    "df_loptop_storage = pd.read_csv('Laptops_final.csv', usecols=['name','hard_disk'])\n",
    "df_loptop_storage.reset_index(drop=True, inplace=True)\n",
    "df_loptop_storage.to_csv('laptop_storage.csv', index=False)"
   ],
   "metadata": {
    "collapsed": false,
    "ExecuteTime": {
     "end_time": "2023-10-27T18:19:23.430267Z",
     "start_time": "2023-10-27T18:19:23.370685Z"
    }
   },
   "id": "af09baa330002895"
  },
  {
   "cell_type": "code",
   "execution_count": 28,
   "outputs": [
    {
     "name": "stdout",
     "output_type": "stream",
     "text": [
      "Connected to MySQL database: meghdad_db\n"
     ]
    }
   ],
   "source": [
    "connection = create_connection(db_host, db_user, db_password, db_name)\n",
    "cursor = connection.cursor(buffered=True)\n",
    "\n",
    "with open('laptop_storage.csv', 'r') as csvfile:\n",
    "    csvreader = csv.DictReader(csvfile)\n",
    "    for row in csvreader:\n",
    "        name = row['name']\n",
    "        storage = row['hard_disk']\n",
    "        \n",
    "        cursor.execute(\"SELECT laptop_id FROM laptop WHERE name = %s\", (name,))\n",
    "        result = cursor.fetchone()\n",
    "        if result is not None:\n",
    "            laptop_id = result[0]\n",
    "        else:\n",
    "            laptop_id = None\n",
    "        \n",
    "        cursor.execute(\"SELECT id FROM storage WHERE storage_name = %s\", (storage,))\n",
    "        result = cursor.fetchone()\n",
    "        if result is not None:\n",
    "            storage_id = result[0]\n",
    "        else:\n",
    "            storage_id = None\n",
    "        \n",
    "        cursor.execute(\"INSERT INTO laptop_storage (laptop_id, storage_id) VALUES (%s, %s)\", (laptop_id, storage_id))\n",
    "        connection.commit()"
   ],
   "metadata": {
    "collapsed": false,
    "ExecuteTime": {
     "end_time": "2023-10-27T18:32:32.909519Z",
     "start_time": "2023-10-27T18:32:22.021126Z"
    }
   },
   "id": "44d92c0ac149225c"
  },
  {
   "cell_type": "code",
   "execution_count": null,
   "outputs": [],
   "source": [],
   "metadata": {
    "collapsed": false
   },
   "id": "5762a97d2337cf10"
  }
 ],
 "metadata": {
  "kernelspec": {
   "display_name": "Python 3",
   "language": "python",
   "name": "python3"
  },
  "language_info": {
   "codemirror_mode": {
    "name": "ipython",
    "version": 2
   },
   "file_extension": ".py",
   "mimetype": "text/x-python",
   "name": "python",
   "nbconvert_exporter": "python",
   "pygments_lexer": "ipython2",
   "version": "2.7.6"
  }
 },
 "nbformat": 4,
 "nbformat_minor": 5
}
